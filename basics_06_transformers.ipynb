{
  "nbformat": 4,
  "nbformat_minor": 0,
  "metadata": {
    "colab": {
      "provenance": [],
      "authorship_tag": "ABX9TyMLBlNPf8Fh+fkX4EuQ6/Kn",
      "include_colab_link": true
    },
    "kernelspec": {
      "name": "python3",
      "display_name": "Python 3"
    },
    "language_info": {
      "name": "python"
    }
  },
  "cells": [
    {
      "cell_type": "markdown",
      "metadata": {
        "id": "view-in-github",
        "colab_type": "text"
      },
      "source": [
        "<a href=\"https://colab.research.google.com/github/dominiksakic/zero_to_hero/blob/main/basics_06_transformers.ipynb\" target=\"_parent\"><img src=\"https://colab.research.google.com/assets/colab-badge.svg\" alt=\"Open In Colab\"/></a>"
      ]
    },
    {
      "cell_type": "markdown",
      "source": [
        "- source: https://www.youtube.com/watch?v=kCc8FmEb1nY&t=126s"
      ],
      "metadata": {
        "id": "1CQwLj_P358I"
      }
    },
    {
      "cell_type": "code",
      "source": [
        "import torch"
      ],
      "metadata": {
        "id": "dTxy15zCh0e-"
      },
      "execution_count": 4,
      "outputs": []
    },
    {
      "cell_type": "code",
      "source": [
        "# get data\n",
        "!wget https://raw.githubusercontent.com/karpathy/char-rnn/master/data/tinyshakespeare/input.txt"
      ],
      "metadata": {
        "id": "HAYtmhDA4dIy",
        "colab": {
          "base_uri": "https://localhost:8080/"
        },
        "outputId": "4b248a72-bcbb-4e42-9678-32d1d3d472ca"
      },
      "execution_count": 5,
      "outputs": [
        {
          "output_type": "stream",
          "name": "stdout",
          "text": [
            "--2025-07-14 10:42:32--  https://raw.githubusercontent.com/karpathy/char-rnn/master/data/tinyshakespeare/input.txt\n",
            "Resolving raw.githubusercontent.com (raw.githubusercontent.com)... 185.199.108.133, 185.199.109.133, 185.199.111.133, ...\n",
            "Connecting to raw.githubusercontent.com (raw.githubusercontent.com)|185.199.108.133|:443... connected.\n",
            "HTTP request sent, awaiting response... 200 OK\n",
            "Length: 1115394 (1.1M) [text/plain]\n",
            "Saving to: ‘input.txt.1’\n",
            "\n",
            "\rinput.txt.1           0%[                    ]       0  --.-KB/s               \rinput.txt.1         100%[===================>]   1.06M  --.-KB/s    in 0.06s   \n",
            "\n",
            "2025-07-14 10:42:32 (17.9 MB/s) - ‘input.txt.1’ saved [1115394/1115394]\n",
            "\n"
          ]
        }
      ]
    },
    {
      "cell_type": "code",
      "source": [
        "with open('input.txt', 'r', encoding='utf-8') as f:\n",
        "    text = f.read()\n",
        "\n",
        "print(text[:100])"
      ],
      "metadata": {
        "colab": {
          "base_uri": "https://localhost:8080/"
        },
        "id": "h3YdWReGDPJU",
        "outputId": "52b46c56-b764-417d-e696-4b071bc8ec4f"
      },
      "execution_count": 6,
      "outputs": [
        {
          "output_type": "stream",
          "name": "stdout",
          "text": [
            "First Citizen:\n",
            "Before we proceed any further, hear me speak.\n",
            "\n",
            "All:\n",
            "Speak, speak.\n",
            "\n",
            "First Citizen:\n",
            "You\n"
          ]
        }
      ]
    },
    {
      "cell_type": "code",
      "source": [
        "# make decoder, encoder\n",
        "stoi = {ch:i  for i, ch in enumerate(sorted(set(text)))}\n",
        "itos = {i : ch for i, ch in enumerate(stoi)}\n",
        "\n",
        "encode = lambda s: [stoi[c] for c in s]\n",
        "decode = lambda l: ''.join([itos[i] for i in l])\n",
        "print(encode(text[:50]))\n",
        "print(decode(encode(text[:50])))"
      ],
      "metadata": {
        "id": "KZM0-heV4e6B",
        "colab": {
          "base_uri": "https://localhost:8080/"
        },
        "outputId": "402a23c3-eb5e-487e-d0e8-50150e889299"
      },
      "execution_count": 31,
      "outputs": [
        {
          "output_type": "stream",
          "name": "stdout",
          "text": [
            "[18, 47, 56, 57, 58, 1, 15, 47, 58, 47, 64, 43, 52, 10, 0, 14, 43, 44, 53, 56, 43, 1, 61, 43, 1, 54, 56, 53, 41, 43, 43, 42, 1, 39, 52, 63, 1, 44, 59, 56, 58, 46, 43, 56, 6, 1, 46, 43, 39, 56]\n",
            "First Citizen:\n",
            "Before we proceed any further, hear\n"
          ]
        }
      ]
    },
    {
      "cell_type": "code",
      "source": [
        "# Tokenize data, and create test/val\n",
        "data = torch.tensor(encode(text), dtype=torch.long)\n",
        "\n",
        "n = int(0.9 * len(data))\n",
        "train_data = data[:n]\n",
        "val_data = data[n:]"
      ],
      "metadata": {
        "id": "cYzUPM-MFc5A"
      },
      "execution_count": 33,
      "outputs": []
    },
    {
      "cell_type": "code",
      "source": [
        "# excursion into how the model predicts next token from one sentence\n",
        "block_size = 8\n",
        "\n",
        "x = train_data[:block_size]\n",
        "y = train_data[1:block_size+1]\n",
        "for t in range(block_size):\n",
        "    context = x[:t+1]  #<---\n",
        "    target = y[t]\n",
        "    print(f'timestep {t}: when input is {context} the target is {target}')"
      ],
      "metadata": {
        "colab": {
          "base_uri": "https://localhost:8080/"
        },
        "id": "6xmBBuSeiwmV",
        "outputId": "11ce3ac1-5441-45be-e6e1-c349bf87e4e0"
      },
      "execution_count": 41,
      "outputs": [
        {
          "output_type": "stream",
          "name": "stdout",
          "text": [
            "timestep 0: when input is tensor([18]) the target is 47\n",
            "timestep 1: when input is tensor([18, 47]) the target is 56\n",
            "timestep 2: when input is tensor([18, 47, 56]) the target is 57\n",
            "timestep 3: when input is tensor([18, 47, 56, 57]) the target is 58\n",
            "timestep 4: when input is tensor([18, 47, 56, 57, 58]) the target is 1\n",
            "timestep 5: when input is tensor([18, 47, 56, 57, 58,  1]) the target is 15\n",
            "timestep 6: when input is tensor([18, 47, 56, 57, 58,  1, 15]) the target is 47\n",
            "timestep 7: when input is tensor([18, 47, 56, 57, 58,  1, 15, 47]) the target is 58\n"
          ]
        }
      ]
    },
    {
      "cell_type": "markdown",
      "source": [
        "  - Result is that the model learns to complete from various lengths.\n",
        "  - from one characters up to 8.\n"
      ],
      "metadata": {
        "id": "HKrQTbilkhsD"
      }
    },
    {
      "cell_type": "code",
      "source": [
        "# lets make the example more complex by introducing a batch dimension\n",
        "torch.manual_seed(1337)\n",
        "batch_size = 4\n",
        "\n",
        "def get_batch(split):\n",
        "    # generate a small batch of data of inputs x and targets y\n",
        "    data = train_data if split == 'train' else val_data\n",
        "    ix = torch.randint(len(data) - block_size, (batch_size,))\n",
        "    x = torch.stack([data[i:i+ block_size] for i in ix])\n",
        "    y = torch.stack([data[i+1:i+block_size+1] for i in ix])\n",
        "    return x, y\n",
        "\n",
        "xb, yb = get_batch('train')\n",
        "\n",
        "for b in range(batch_size):\n",
        "  for t in range(block_size):\n",
        "    context = xb[b, :t+1]\n",
        "    target = yb[b, t]\n",
        "\n",
        "    print(f\"Batch {b}: when context is {context}, target is {target}\")\n",
        "  print(\"\\n\")"
      ],
      "metadata": {
        "colab": {
          "base_uri": "https://localhost:8080/"
        },
        "id": "EHVN5K7DkLc7",
        "outputId": "e0e4c280-e3fc-4b82-f3bd-ad0dbefda7a1"
      },
      "execution_count": 53,
      "outputs": [
        {
          "output_type": "stream",
          "name": "stdout",
          "text": [
            "Batch 0: when context is tensor([24]), target is 43\n",
            "Batch 0: when context is tensor([24, 43]), target is 58\n",
            "Batch 0: when context is tensor([24, 43, 58]), target is 5\n",
            "Batch 0: when context is tensor([24, 43, 58,  5]), target is 57\n",
            "Batch 0: when context is tensor([24, 43, 58,  5, 57]), target is 1\n",
            "Batch 0: when context is tensor([24, 43, 58,  5, 57,  1]), target is 46\n",
            "Batch 0: when context is tensor([24, 43, 58,  5, 57,  1, 46]), target is 43\n",
            "Batch 0: when context is tensor([24, 43, 58,  5, 57,  1, 46, 43]), target is 39\n",
            "\n",
            "\n",
            "Batch 1: when context is tensor([44]), target is 53\n",
            "Batch 1: when context is tensor([44, 53]), target is 56\n",
            "Batch 1: when context is tensor([44, 53, 56]), target is 1\n",
            "Batch 1: when context is tensor([44, 53, 56,  1]), target is 58\n",
            "Batch 1: when context is tensor([44, 53, 56,  1, 58]), target is 46\n",
            "Batch 1: when context is tensor([44, 53, 56,  1, 58, 46]), target is 39\n",
            "Batch 1: when context is tensor([44, 53, 56,  1, 58, 46, 39]), target is 58\n",
            "Batch 1: when context is tensor([44, 53, 56,  1, 58, 46, 39, 58]), target is 1\n",
            "\n",
            "\n",
            "Batch 2: when context is tensor([52]), target is 58\n",
            "Batch 2: when context is tensor([52, 58]), target is 1\n",
            "Batch 2: when context is tensor([52, 58,  1]), target is 58\n",
            "Batch 2: when context is tensor([52, 58,  1, 58]), target is 46\n",
            "Batch 2: when context is tensor([52, 58,  1, 58, 46]), target is 39\n",
            "Batch 2: when context is tensor([52, 58,  1, 58, 46, 39]), target is 58\n",
            "Batch 2: when context is tensor([52, 58,  1, 58, 46, 39, 58]), target is 1\n",
            "Batch 2: when context is tensor([52, 58,  1, 58, 46, 39, 58,  1]), target is 46\n",
            "\n",
            "\n",
            "Batch 3: when context is tensor([25]), target is 17\n",
            "Batch 3: when context is tensor([25, 17]), target is 27\n",
            "Batch 3: when context is tensor([25, 17, 27]), target is 10\n",
            "Batch 3: when context is tensor([25, 17, 27, 10]), target is 0\n",
            "Batch 3: when context is tensor([25, 17, 27, 10,  0]), target is 21\n",
            "Batch 3: when context is tensor([25, 17, 27, 10,  0, 21]), target is 1\n",
            "Batch 3: when context is tensor([25, 17, 27, 10,  0, 21,  1]), target is 54\n",
            "Batch 3: when context is tensor([25, 17, 27, 10,  0, 21,  1, 54]), target is 39\n",
            "\n",
            "\n"
          ]
        }
      ]
    },
    {
      "cell_type": "code",
      "source": [
        "# create a baseline model/bigram"
      ],
      "metadata": {
        "id": "sq74fs6T4jRH"
      },
      "execution_count": 9,
      "outputs": []
    },
    {
      "cell_type": "code",
      "source": [
        "# train the baseline"
      ],
      "metadata": {
        "id": "KgPcGM_C4qxk"
      },
      "execution_count": null,
      "outputs": []
    },
    {
      "cell_type": "markdown",
      "source": [
        "# Transformers\n"
      ],
      "metadata": {
        "id": "2VzQyQH74vTA"
      }
    },
    {
      "cell_type": "code",
      "source": [
        "# Gensis of Transformer\n",
        "# Averaging past context with for loops\n",
        "# Matrix multiplying as weighted aggregation\n",
        "# Final version"
      ],
      "metadata": {
        "id": "wqRqB4f842tM"
      },
      "execution_count": null,
      "outputs": []
    }
  ]
}