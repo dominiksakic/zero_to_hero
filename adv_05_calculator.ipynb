{
  "nbformat": 4,
  "nbformat_minor": 0,
  "metadata": {
    "colab": {
      "provenance": [],
      "authorship_tag": "ABX9TyOJmvfBeShnP00+9ZbtF7rt",
      "include_colab_link": true
    },
    "kernelspec": {
      "name": "python3",
      "display_name": "Python 3"
    },
    "language_info": {
      "name": "python"
    }
  },
  "cells": [
    {
      "cell_type": "markdown",
      "metadata": {
        "id": "view-in-github",
        "colab_type": "text"
      },
      "source": [
        "<a href=\"https://colab.research.google.com/github/dominiksakic/zero_to_hero/blob/main/adv_05_calculator.ipynb\" target=\"_parent\"><img src=\"https://colab.research.google.com/assets/colab-badge.svg\" alt=\"Open In Colab\"/></a>"
      ]
    },
    {
      "cell_type": "markdown",
      "source": [
        "# Goal\n",
        "Train a GPT to do addition of two numbers, i.e. a+b=c. You may find it helpful to predict the digits of c in reverse order, as the typical addition algorithm (that you're hoping it learns) would proceed right to left too. You may want to modify the data loader to simply serve random problems and skip the generation of train.bin, val.bin. You may want to mask out the loss at the input positions of a+b that just specify the problem using y=-1 in the targets (see CrossEntropyLoss ignore_index). Does your Transformer learn to add? Once you have this, swole doge project: build a calculator clone in GPT, for all of +-*/. Not an easy problem. You may need Chain of Thought traces.\n",
        "\n",
        "- Where to get a dataset? Create on yourself? [Yourself]\n",
        "  - write a script that randomized two numbers a and b.\n",
        "  - loop over n steps and record the results in a text file.\n",
        "- How to tokenize the input?\n",
        "  - Char level?\n",
        "  - Tokens?\n",
        "  - See below for some ideas.\n",
        "- Train a simple GPT on the dataset like you would on any other text. What are the outputs? Why?\n",
        "- How would you train in reverse order?\n",
        "\n",
        "# Try 1\n",
        "- Simplest version of a calculator 0 - 9 + 0 - 9 = 00 - 18\n",
        "- one data set would be blocksize 6.\n",
        "- how much data could I create? The number of combinations?\n",
        "  - 81 combinations only? That is not a lot and I would think that the neural net can just remember these!\n",
        "  - Due to the lack of data the network should be able to remember all the data making a perfect calculator.\n",
        "- I just have to mask the last to blocks."
      ],
      "metadata": {
        "id": "NXg2NidaWDY_"
      }
    },
    {
      "cell_type": "code",
      "source": [
        "import random\n",
        "\n",
        "# create Dataset\n",
        "text = ''\n",
        "for i in range(10):\n",
        "  for j in range(10):\n",
        "    if (i+j) < 10:\n",
        "      result = f\"{i}+{j}=0{i+j}\"\n",
        "    else:\n",
        "      result = f\"{i}+{j}={i+j}\"\n",
        "\n",
        "    text += str(result)\n",
        "\n",
        "chars = sorted(list(set(text)))\n",
        "vocab_size = len(chars)\n",
        "\n",
        "stoi = {ch: i for i, ch in enumerate(chars)}\n",
        "itos = {i: ch for ch, i in stoi.items()}\n",
        "\n",
        "def encode(s):\n",
        "    return [stoi[c] for c in s]\n",
        "\n",
        "def decode(l):\n",
        "    return ''.join(itos[i] for i in l)"
      ],
      "metadata": {
        "id": "UsIyj45hkDkK"
      },
      "execution_count": 37,
      "outputs": []
    },
    {
      "cell_type": "code",
      "source": [
        "chars"
      ],
      "metadata": {
        "id": "JwlQOP3rkWdb",
        "outputId": "4c15772a-457c-4fdf-ae96-cafb852957aa",
        "colab": {
          "base_uri": "https://localhost:8080/"
        }
      },
      "execution_count": 38,
      "outputs": [
        {
          "output_type": "execute_result",
          "data": {
            "text/plain": [
              "['+', '0', '1', '2', '3', '4', '5', '6', '7', '8', '9', '=']"
            ]
          },
          "metadata": {},
          "execution_count": 38
        }
      ]
    },
    {
      "cell_type": "code",
      "source": [
        "encode(\"9+9=18\")"
      ],
      "metadata": {
        "id": "7z0zkhNimU2J",
        "outputId": "70f5d2aa-94ec-4e76-9951-180082a79e8e",
        "colab": {
          "base_uri": "https://localhost:8080/"
        }
      },
      "execution_count": 39,
      "outputs": [
        {
          "output_type": "execute_result",
          "data": {
            "text/plain": [
              "[10, 0, 10, 11, 2, 9]"
            ]
          },
          "metadata": {},
          "execution_count": 39
        }
      ]
    },
    {
      "cell_type": "code",
      "source": [
        "# try a simple network takes in a integer tensor and outputs a integer tensor\n",
        "\n",
        "import torch\n",
        "\n",
        "block_size = 4\n",
        "target_size = 2\n",
        "\n",
        "data = encode(text)\n",
        "\n",
        "X, Y = [], []\n",
        "\n",
        "for i in range(0, (len(data) - block_size), 6):\n",
        "    context = data[i : i + block_size]\n",
        "    target  = data[i + block_size : i + block_size + target_size]\n",
        "\n",
        "    # print(decode(context), \"->\", decode(target))\n",
        "\n",
        "    X.append(context)\n",
        "    Y.append(target)\n",
        "\n",
        "X = torch.tensor(X)  # shape (N, 4)\n",
        "Y = torch.tensor(Y)  # shape (N, 2)\n",
        "\n",
        "X.shape"
      ],
      "metadata": {
        "id": "97Ex-qyXmXxQ",
        "outputId": "85ddc1a8-d6af-43c3-94c4-9b6f7e695040",
        "colab": {
          "base_uri": "https://localhost:8080/"
        }
      },
      "execution_count": 66,
      "outputs": [
        {
          "output_type": "execute_result",
          "data": {
            "text/plain": [
              "torch.Size([100, 4])"
            ]
          },
          "metadata": {},
          "execution_count": 66
        }
      ]
    },
    {
      "cell_type": "code",
      "source": [],
      "metadata": {
        "id": "m68Ih8ZwoGke"
      },
      "execution_count": null,
      "outputs": []
    }
  ]
}