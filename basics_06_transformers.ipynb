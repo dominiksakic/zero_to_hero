{
  "nbformat": 4,
  "nbformat_minor": 0,
  "metadata": {
    "colab": {
      "provenance": [],
      "authorship_tag": "ABX9TyNRRTyLgz0UnEsqxFFanacB",
      "include_colab_link": true
    },
    "kernelspec": {
      "name": "python3",
      "display_name": "Python 3"
    },
    "language_info": {
      "name": "python"
    }
  },
  "cells": [
    {
      "cell_type": "markdown",
      "metadata": {
        "id": "view-in-github",
        "colab_type": "text"
      },
      "source": [
        "<a href=\"https://colab.research.google.com/github/dominiksakic/zero_to_hero/blob/main/basics_06_transformers.ipynb\" target=\"_parent\"><img src=\"https://colab.research.google.com/assets/colab-badge.svg\" alt=\"Open In Colab\"/></a>"
      ]
    },
    {
      "cell_type": "markdown",
      "source": [
        "- source: https://www.youtube.com/watch?v=kCc8FmEb1nY&t=126s"
      ],
      "metadata": {
        "id": "1CQwLj_P358I"
      }
    },
    {
      "cell_type": "code",
      "source": [
        "import torch\n",
        "import torch.nn as nn\n",
        "from torch.nn import functional as F"
      ],
      "metadata": {
        "id": "dTxy15zCh0e-"
      },
      "execution_count": 1,
      "outputs": []
    },
    {
      "cell_type": "code",
      "source": [
        "\n",
        "# get data\n",
        "!wget https://raw.githubusercontent.com/karpathy/char-rnn/master/data/tinyshakespeare/input.txt"
      ],
      "metadata": {
        "id": "HAYtmhDA4dIy",
        "colab": {
          "base_uri": "https://localhost:8080/"
        },
        "outputId": "e00539da-265e-4fb2-c87f-b04bee97f636"
      },
      "execution_count": 4,
      "outputs": [
        {
          "output_type": "stream",
          "name": "stdout",
          "text": [
            "--2025-07-16 23:04:49--  https://raw.githubusercontent.com/karpathy/char-rnn/master/data/tinyshakespeare/input.txt\n",
            "Resolving raw.githubusercontent.com (raw.githubusercontent.com)... 185.199.108.133, 185.199.109.133, 185.199.110.133, ...\n",
            "Connecting to raw.githubusercontent.com (raw.githubusercontent.com)|185.199.108.133|:443... connected.\n",
            "HTTP request sent, awaiting response... 200 OK\n",
            "Length: 1115394 (1.1M) [text/plain]\n",
            "Saving to: ‘input.txt’\n",
            "\n",
            "\rinput.txt             0%[                    ]       0  --.-KB/s               \rinput.txt           100%[===================>]   1.06M  --.-KB/s    in 0.06s   \n",
            "\n",
            "2025-07-16 23:04:49 (16.8 MB/s) - ‘input.txt’ saved [1115394/1115394]\n",
            "\n"
          ]
        }
      ]
    },
    {
      "cell_type": "code",
      "source": [
        "with open('input.txt', 'r', encoding='utf-8') as f:\n",
        "    text = f.read()\n",
        "\n",
        "print(text[:100])"
      ],
      "metadata": {
        "colab": {
          "base_uri": "https://localhost:8080/"
        },
        "id": "h3YdWReGDPJU",
        "outputId": "9ddf3316-5957-4777-a094-67b0aa66b511"
      },
      "execution_count": 5,
      "outputs": [
        {
          "output_type": "stream",
          "name": "stdout",
          "text": [
            "First Citizen:\n",
            "Before we proceed any further, hear me speak.\n",
            "\n",
            "All:\n",
            "Speak, speak.\n",
            "\n",
            "First Citizen:\n",
            "You\n"
          ]
        }
      ]
    },
    {
      "cell_type": "code",
      "source": [
        "# make decoder, encoder\n",
        "chars = sorted(list(set(text)))\n",
        "vocab_size = len(chars)\n",
        "stoi = {ch:i  for i, ch in enumerate(chars)}\n",
        "itos = {i : ch for i, ch in enumerate(chars)}\n",
        "\n",
        "encode = lambda s: [stoi[c] for c in s]\n",
        "decode = lambda l: ''.join([itos[i] for i in l])\n",
        "print(encode(text[:50]))\n",
        "print(decode(encode(text[:50])))\n",
        "print(f\"Vocav size: {vocab_size}\")"
      ],
      "metadata": {
        "id": "KZM0-heV4e6B"
      },
      "execution_count": null,
      "outputs": []
    },
    {
      "cell_type": "code",
      "source": [
        "# Tokenize data, and create test/val\n",
        "data = torch.tensor(encode(text), dtype=torch.long)\n",
        "\n",
        "n = int(0.9 * len(data))\n",
        "train_data = data[:n]\n",
        "val_data = data[n:]"
      ],
      "metadata": {
        "id": "cYzUPM-MFc5A"
      },
      "execution_count": null,
      "outputs": []
    },
    {
      "cell_type": "code",
      "source": [
        "# excursion into how the model predicts next token from one sentence\n",
        "block_size = 8\n",
        "\n",
        "x = train_data[:block_size]\n",
        "y = train_data[1:block_size+1]\n",
        "for t in range(block_size):\n",
        "    context = x[:t+1]  #<---\n",
        "    target = y[t]\n",
        "    print(f'timestep {t}: when input is {context} the target is {target}')"
      ],
      "metadata": {
        "colab": {
          "base_uri": "https://localhost:8080/"
        },
        "id": "6xmBBuSeiwmV",
        "outputId": "d1f4141d-32f4-4d4b-de50-8cf219c31eb2"
      },
      "execution_count": null,
      "outputs": [
        {
          "output_type": "stream",
          "name": "stdout",
          "text": [
            "timestep 0: when input is tensor([18]) the target is 47\n",
            "timestep 1: when input is tensor([18, 47]) the target is 56\n",
            "timestep 2: when input is tensor([18, 47, 56]) the target is 57\n",
            "timestep 3: when input is tensor([18, 47, 56, 57]) the target is 58\n",
            "timestep 4: when input is tensor([18, 47, 56, 57, 58]) the target is 1\n",
            "timestep 5: when input is tensor([18, 47, 56, 57, 58,  1]) the target is 15\n",
            "timestep 6: when input is tensor([18, 47, 56, 57, 58,  1, 15]) the target is 47\n",
            "timestep 7: when input is tensor([18, 47, 56, 57, 58,  1, 15, 47]) the target is 58\n"
          ]
        }
      ]
    },
    {
      "cell_type": "markdown",
      "source": [
        "  - Result is that the model learns to complete from various lengths.\n",
        "  - from one characters up to 8.\n"
      ],
      "metadata": {
        "id": "HKrQTbilkhsD"
      }
    },
    {
      "cell_type": "code",
      "source": [
        "# lets make the example more complex by introducing a batch dimension\n",
        "torch.manual_seed(1337)\n",
        "batch_size = 4\n",
        "\n",
        "def get_batch(split):\n",
        "    # generate a small batch of data of inputs x and targets y\n",
        "    data = train_data if split == 'train' else val_data\n",
        "    ix = torch.randint(len(data) - block_size, (batch_size,))\n",
        "    x = torch.stack([data[i:i+ block_size] for i in ix])\n",
        "    y = torch.stack([data[i+1:i+block_size+1] for i in ix])\n",
        "    return x, y\n",
        "\n",
        "xb, yb = get_batch('train')\n",
        "\n",
        "for b in range(batch_size):\n",
        "  for t in range(block_size):\n",
        "    context = xb[b, :t+1]\n",
        "    target = yb[b, t]\n",
        "\n",
        "    print(f\"Batch {b}: when context is {context}, target is {target}\")\n",
        "  print(\"\\n\")"
      ],
      "metadata": {
        "colab": {
          "base_uri": "https://localhost:8080/"
        },
        "id": "EHVN5K7DkLc7",
        "outputId": "d6606924-9b3a-4de0-c1e7-18b779f370aa"
      },
      "execution_count": null,
      "outputs": [
        {
          "output_type": "stream",
          "name": "stdout",
          "text": [
            "Batch 0: when context is tensor([24]), target is 43\n",
            "Batch 0: when context is tensor([24, 43]), target is 58\n",
            "Batch 0: when context is tensor([24, 43, 58]), target is 5\n",
            "Batch 0: when context is tensor([24, 43, 58,  5]), target is 57\n",
            "Batch 0: when context is tensor([24, 43, 58,  5, 57]), target is 1\n",
            "Batch 0: when context is tensor([24, 43, 58,  5, 57,  1]), target is 46\n",
            "Batch 0: when context is tensor([24, 43, 58,  5, 57,  1, 46]), target is 43\n",
            "Batch 0: when context is tensor([24, 43, 58,  5, 57,  1, 46, 43]), target is 39\n",
            "\n",
            "\n",
            "Batch 1: when context is tensor([44]), target is 53\n",
            "Batch 1: when context is tensor([44, 53]), target is 56\n",
            "Batch 1: when context is tensor([44, 53, 56]), target is 1\n",
            "Batch 1: when context is tensor([44, 53, 56,  1]), target is 58\n",
            "Batch 1: when context is tensor([44, 53, 56,  1, 58]), target is 46\n",
            "Batch 1: when context is tensor([44, 53, 56,  1, 58, 46]), target is 39\n",
            "Batch 1: when context is tensor([44, 53, 56,  1, 58, 46, 39]), target is 58\n",
            "Batch 1: when context is tensor([44, 53, 56,  1, 58, 46, 39, 58]), target is 1\n",
            "\n",
            "\n",
            "Batch 2: when context is tensor([52]), target is 58\n",
            "Batch 2: when context is tensor([52, 58]), target is 1\n",
            "Batch 2: when context is tensor([52, 58,  1]), target is 58\n",
            "Batch 2: when context is tensor([52, 58,  1, 58]), target is 46\n",
            "Batch 2: when context is tensor([52, 58,  1, 58, 46]), target is 39\n",
            "Batch 2: when context is tensor([52, 58,  1, 58, 46, 39]), target is 58\n",
            "Batch 2: when context is tensor([52, 58,  1, 58, 46, 39, 58]), target is 1\n",
            "Batch 2: when context is tensor([52, 58,  1, 58, 46, 39, 58,  1]), target is 46\n",
            "\n",
            "\n",
            "Batch 3: when context is tensor([25]), target is 17\n",
            "Batch 3: when context is tensor([25, 17]), target is 27\n",
            "Batch 3: when context is tensor([25, 17, 27]), target is 10\n",
            "Batch 3: when context is tensor([25, 17, 27, 10]), target is 0\n",
            "Batch 3: when context is tensor([25, 17, 27, 10,  0]), target is 21\n",
            "Batch 3: when context is tensor([25, 17, 27, 10,  0, 21]), target is 1\n",
            "Batch 3: when context is tensor([25, 17, 27, 10,  0, 21,  1]), target is 54\n",
            "Batch 3: when context is tensor([25, 17, 27, 10,  0, 21,  1, 54]), target is 39\n",
            "\n",
            "\n"
          ]
        }
      ]
    },
    {
      "cell_type": "code",
      "source": [
        "# create a baseline model/bigram\n",
        "torch.manual_seed(1337)\n",
        "\n",
        "class BigramLanguageModel(nn.Module):\n",
        "  def __init__(self, vocab_size):\n",
        "    super().__init__()\n",
        "    self.token_embedding_table = nn.Embedding(vocab_size, vocab_size)\n",
        "\n",
        "  def forward(self, idx, targets=None):\n",
        "    logits = self.token_embedding_table(idx) # (B,T,C)\n",
        "\n",
        "    if targets is None:\n",
        "      loss = None\n",
        "    else:\n",
        "      B, T, C = logits.shape\n",
        "\n",
        "      logits = logits.view(B*T, C)\n",
        "      targets = targets.view(B*T)\n",
        "      loss = F.cross_entropy(logits, targets)\n",
        "\n",
        "    return logits, loss\n",
        "\n",
        "  def generate(self, idx, max_new_tokens):\n",
        "      # idx is (B, T) array of indices in the current context\n",
        "      for _ in range(max_new_tokens):\n",
        "          # get the predictions\n",
        "          logits, loss = self(idx)\n",
        "          # focus only on the last time step\n",
        "          logits = logits[:, -1, :] # becomes (B, C)\n",
        "          # apply softmax to get probabilities\n",
        "          probs = F.softmax(logits, dim=-1) # (B, C)\n",
        "          # sample from the distribution\n",
        "          idx_next = torch.multinomial(probs, num_samples=1) # (B, 1)\n",
        "          # append sampled index to the running sequence\n",
        "          idx = torch.cat((idx, idx_next), dim=1) # (B, T+1)\n",
        "      return idx\n",
        "\n",
        "m = BigramLanguageModel(vocab_size)\n",
        "logits, loss = m(xb, yb)\n",
        "print(logits.shape)\n",
        "print(loss.item())\n",
        "\n",
        "print(decode(m.generate(idx = torch.zeros((1, 1), dtype=torch.long), max_new_tokens=50)[0].tolist()))"
      ],
      "metadata": {
        "id": "sq74fs6T4jRH",
        "colab": {
          "base_uri": "https://localhost:8080/"
        },
        "outputId": "97276b8e-0f18-4bbf-8967-f94ab86e771f"
      },
      "execution_count": null,
      "outputs": [
        {
          "output_type": "stream",
          "name": "stdout",
          "text": [
            "torch.Size([256, 65])\n",
            "4.648044586181641\n",
            "\n",
            "Sr?qP-QWktXoL&jLDJgOLVz'RIoDqHdhsV&vLLxatjscMpwLER\n"
          ]
        }
      ]
    },
    {
      "cell_type": "code",
      "source": [
        "optimizer = torch.optim.AdamW(m.parameters(), lr=1e-3)"
      ],
      "metadata": {
        "id": "tT77wDlCwRc5"
      },
      "execution_count": null,
      "outputs": []
    },
    {
      "cell_type": "code",
      "source": [
        "# train the baseline\n",
        "batch_size = 32\n",
        "\n",
        "for s in range(100000):\n",
        "  # trainig data\n",
        "  xb, yb = get_batch('train')\n",
        "\n",
        "  # Forward pass\n",
        "  logits, loss = m(xb, yb)\n",
        "  optimizer.zero_grad(set_to_none=True)\n",
        "\n",
        "  #Backward pass\n",
        "  loss.backward()\n",
        "  optimizer.step()\n",
        "\n",
        "print(loss.item())"
      ],
      "metadata": {
        "id": "KgPcGM_C4qxk",
        "colab": {
          "base_uri": "https://localhost:8080/"
        },
        "outputId": "9d3c0944-4536-4240-a524-92c7f1d82eaa"
      },
      "execution_count": null,
      "outputs": [
        {
          "output_type": "stream",
          "name": "stdout",
          "text": [
            "2.4081521034240723\n"
          ]
        }
      ]
    },
    {
      "cell_type": "code",
      "source": [
        "# sample after training\n",
        "print(decode(m.generate(idx = torch.zeros((1, 1), dtype=torch.long), max_new_tokens=500)[0].tolist()))"
      ],
      "metadata": {
        "id": "zLVzI3sewo5M",
        "outputId": "ac2a1af6-147e-483d-a8fd-78f1d5b10e3d",
        "colab": {
          "base_uri": "https://localhost:8080/"
        }
      },
      "execution_count": null,
      "outputs": [
        {
          "output_type": "stream",
          "name": "stdout",
          "text": [
            "\n",
            "\n",
            "MAUEdingn I\n",
            "GBENoutl, Thasuriopro sorllll le.\n",
            "\n",
            "Mat,\n",
            "FI s ICKI ambe mithevis LLEShe ysste ar s blllyorswon\n",
            "Clmbe t uruk\n",
            "CLLarf w p ar lye twemen ulif hercefowive:\n",
            "YBOUSTIOVO: gh ced s p ay anore iveatothe ierave yanccu wind s; oalllak omad ste?\n",
            "h;\n",
            "\n",
            "JUThow h llde iouge thes whe yomeathistlieis moma hit me o ind.\n",
            "\n",
            "F hik, thite:\n",
            "TRThe hal at w!\n",
            "Whase t ma T:\n",
            "\n",
            "Bareomast yethin athe stt geloupr msh f wh n\n",
            "Yorinkeshave pan t,\n",
            "NGAnthe or,\n",
            "Wh tro joullieallisube:\n",
            "Fin matthese V:\n",
            "Aporn geng y ll yr mofor\n"
          ]
        }
      ]
    },
    {
      "cell_type": "code",
      "source": [
        "xv, yv = get_batch(\"val\")\n",
        "_, loss = m(xv, yv)\n",
        "\n",
        "print(f\"Validation loss: {loss}\")"
      ],
      "metadata": {
        "id": "b18GafH2y0Pl",
        "outputId": "43eaa13c-b5eb-4d99-860d-6cae2cf90a47",
        "colab": {
          "base_uri": "https://localhost:8080/"
        }
      },
      "execution_count": null,
      "outputs": [
        {
          "output_type": "stream",
          "name": "stdout",
          "text": [
            "Validation loss: 2.419926404953003\n"
          ]
        }
      ]
    },
    {
      "cell_type": "markdown",
      "source": [
        "# Transformers\n"
      ],
      "metadata": {
        "id": "2VzQyQH74vTA"
      }
    },
    {
      "cell_type": "code",
      "source": [
        "# Gensis of Transformer (weighted aggregation)\n",
        "import torch\n",
        "\n",
        "torch.manual_seed(42)\n",
        "a = torch.tril(torch.ones(3, 3))\n",
        "print('Starting Tensor a')\n",
        "print({a})\n",
        "\n",
        "a = a / torch.sum(a, 1, keepdim=True)\n",
        "print(f'\\nShape of a: {a.shape}')\n",
        "print('Divide values by the sum along the 1 axis: ')\n",
        "print({a})\n",
        "\n",
        "b = torch.randint(0,10,(3,2)).float()\n",
        "print(f'\\nShape of b: {b.shape}')\n",
        "print('Starting tensor b is')\n",
        "print(b)\n",
        "\n",
        "c = a @ b\n",
        "print('\\nresult of c is')\n",
        "print(c)\n"
      ],
      "metadata": {
        "id": "wqRqB4f842tM",
        "outputId": "371f48f8-42af-4619-b0d1-92ef6f35b550",
        "colab": {
          "base_uri": "https://localhost:8080/"
        }
      },
      "execution_count": null,
      "outputs": [
        {
          "output_type": "stream",
          "name": "stdout",
          "text": [
            "Starting Tensor a\n",
            "{tensor([[1., 0., 0.],\n",
            "        [1., 1., 0.],\n",
            "        [1., 1., 1.]])}\n",
            "\n",
            "Shape of a: torch.Size([3, 3])\n",
            "Divide values by the sum along the 1 axis: \n",
            "{tensor([[1.0000, 0.0000, 0.0000],\n",
            "        [0.5000, 0.5000, 0.0000],\n",
            "        [0.3333, 0.3333, 0.3333]])}\n",
            "\n",
            "Shape of b: torch.Size([3, 2])\n",
            "Starting tensor b is\n",
            "tensor([[2., 7.],\n",
            "        [6., 4.],\n",
            "        [6., 5.]])\n",
            "\n",
            "result of c is\n",
            "tensor([[2.0000, 7.0000],\n",
            "        [4.0000, 5.5000],\n",
            "        [4.6667, 5.3333]])\n"
          ]
        }
      ]
    },
    {
      "cell_type": "code",
      "source": [
        "torch.manual_seed(1337)\n",
        "B,T,C = 4,8,2 # batch, time, channels\n",
        "x = torch.randn(B,T,C)\n",
        "print(f'Batch 0')\n",
        "print(x[0])"
      ],
      "metadata": {
        "id": "jXZolVEdSaRY",
        "outputId": "2c722aca-47d2-40c8-faeb-6a37fe3725c2",
        "colab": {
          "base_uri": "https://localhost:8080/"
        }
      },
      "execution_count": null,
      "outputs": [
        {
          "output_type": "stream",
          "name": "stdout",
          "text": [
            "Batch 0\n",
            "tensor([[ 0.1808, -0.0700],\n",
            "        [-0.3596, -0.9152],\n",
            "        [ 0.6258,  0.0255],\n",
            "        [ 0.9545,  0.0643],\n",
            "        [ 0.3612,  1.1679],\n",
            "        [-1.3499, -0.5102],\n",
            "        [ 0.2360, -0.2398],\n",
            "        [-0.9211,  1.5433]])\n"
          ]
        }
      ]
    },
    {
      "cell_type": "code",
      "source": [
        "xbow = torch.zeros((B,T,C))\n",
        "for b in range(B):\n",
        "    print(f'Batch: {b}')\n",
        "    for t in range(T):\n",
        "      xprev = x[b, :t+1]\n",
        "      xbow[b,t] = torch.mean(xprev, 0)\n",
        "      print(f'time step {t}, after aggregation: {xbow[b,t]}')\n",
        "\n",
        "    if b == 0:\n",
        "      break"
      ],
      "metadata": {
        "id": "QGe66qnRSc_Q",
        "outputId": "cea20ac4-c5ef-4005-d360-740e959b1fd8",
        "colab": {
          "base_uri": "https://localhost:8080/"
        }
      },
      "execution_count": null,
      "outputs": [
        {
          "output_type": "stream",
          "name": "stdout",
          "text": [
            "Batch: 0\n",
            "time step 0, after aggregation: tensor([ 0.1808, -0.0700])\n",
            "time step 1, after aggregation: tensor([-0.0894, -0.4926])\n",
            "time step 2, after aggregation: tensor([ 0.1490, -0.3199])\n",
            "time step 3, after aggregation: tensor([ 0.3504, -0.2238])\n",
            "time step 4, after aggregation: tensor([0.3525, 0.0545])\n",
            "time step 5, after aggregation: tensor([ 0.0688, -0.0396])\n",
            "time step 6, after aggregation: tensor([ 0.0927, -0.0682])\n",
            "time step 7, after aggregation: tensor([-0.0341,  0.1332])\n"
          ]
        }
      ]
    },
    {
      "cell_type": "markdown",
      "source": [
        "- For each time step we want to have the previous timesteps accumulated(mean)"
      ],
      "metadata": {
        "id": "0e_9rOeHVFIx"
      }
    },
    {
      "cell_type": "code",
      "source": [
        "# version 2: using matrix multiply for a weighted aggregation\n",
        "wei = torch.tril(torch.ones(T, T))\n",
        "print(f'shape of wei: {wei.shape}')\n",
        "print(f'wei is: {wei}')\n",
        "\n",
        "wei = wei / wei.sum(1, keepdim=True)\n",
        "print(f'\\nwei after normalization: {wei}')\n",
        "\n",
        "xbow2 = wei @ x # (B, T, T) @ (B, T, C) ----> (B, T, C)\n",
        "print(f'\\nxbow2 batch 0 after multiplication: {xbow2[0]}')\n"
      ],
      "metadata": {
        "id": "JtrOgIJUVODO",
        "outputId": "c6c93403-df45-46c6-dadf-f80d641d394e",
        "colab": {
          "base_uri": "https://localhost:8080/"
        }
      },
      "execution_count": null,
      "outputs": [
        {
          "output_type": "stream",
          "name": "stdout",
          "text": [
            "shape of wei: torch.Size([8, 8])\n",
            "wei is: tensor([[1., 0., 0., 0., 0., 0., 0., 0.],\n",
            "        [1., 1., 0., 0., 0., 0., 0., 0.],\n",
            "        [1., 1., 1., 0., 0., 0., 0., 0.],\n",
            "        [1., 1., 1., 1., 0., 0., 0., 0.],\n",
            "        [1., 1., 1., 1., 1., 0., 0., 0.],\n",
            "        [1., 1., 1., 1., 1., 1., 0., 0.],\n",
            "        [1., 1., 1., 1., 1., 1., 1., 0.],\n",
            "        [1., 1., 1., 1., 1., 1., 1., 1.]])\n",
            "\n",
            "wei after normalization: tensor([[1.0000, 0.0000, 0.0000, 0.0000, 0.0000, 0.0000, 0.0000, 0.0000],\n",
            "        [0.5000, 0.5000, 0.0000, 0.0000, 0.0000, 0.0000, 0.0000, 0.0000],\n",
            "        [0.3333, 0.3333, 0.3333, 0.0000, 0.0000, 0.0000, 0.0000, 0.0000],\n",
            "        [0.2500, 0.2500, 0.2500, 0.2500, 0.0000, 0.0000, 0.0000, 0.0000],\n",
            "        [0.2000, 0.2000, 0.2000, 0.2000, 0.2000, 0.0000, 0.0000, 0.0000],\n",
            "        [0.1667, 0.1667, 0.1667, 0.1667, 0.1667, 0.1667, 0.0000, 0.0000],\n",
            "        [0.1429, 0.1429, 0.1429, 0.1429, 0.1429, 0.1429, 0.1429, 0.0000],\n",
            "        [0.1250, 0.1250, 0.1250, 0.1250, 0.1250, 0.1250, 0.1250, 0.1250]])\n",
            "\n",
            "xbow2 batch 0 after multiplication: tensor([[ 0.1808, -0.0700],\n",
            "        [-0.0894, -0.4926],\n",
            "        [ 0.1490, -0.3199],\n",
            "        [ 0.3504, -0.2238],\n",
            "        [ 0.3525,  0.0545],\n",
            "        [ 0.0688, -0.0396],\n",
            "        [ 0.0927, -0.0682],\n",
            "        [-0.0341,  0.1332]])\n"
          ]
        }
      ]
    },
    {
      "cell_type": "code",
      "source": [
        "import torch.nn.functional as F\n",
        "# version 3: use Softmax\n",
        "tril = torch.tril(torch.ones(T, T))\n",
        "print(f'tril: {tril}')\n",
        "\n",
        "wei = torch.zeros((T,T))\n",
        "print(f'\\nwei: {wei}')\n",
        "\n",
        "wei = wei.masked_fill(tril == 0, float('-inf'))\n",
        "print(f'\\nwei after masking: {wei}')\n",
        "\n",
        "wei = F.softmax(wei, dim=-1)\n",
        "print(f'\\nwei after softmax: {wei}')\n",
        "\n",
        "xbow3 = wei @ x\n",
        "print(f'\\nxbow3 batch 0: {xbow3[0]}')"
      ],
      "metadata": {
        "id": "EMTlN_p-V95N",
        "outputId": "644ae5a9-90ff-4424-e8af-5c06dde34387",
        "colab": {
          "base_uri": "https://localhost:8080/"
        }
      },
      "execution_count": null,
      "outputs": [
        {
          "output_type": "stream",
          "name": "stdout",
          "text": [
            "tril: tensor([[1., 0., 0., 0., 0., 0., 0., 0.],\n",
            "        [1., 1., 0., 0., 0., 0., 0., 0.],\n",
            "        [1., 1., 1., 0., 0., 0., 0., 0.],\n",
            "        [1., 1., 1., 1., 0., 0., 0., 0.],\n",
            "        [1., 1., 1., 1., 1., 0., 0., 0.],\n",
            "        [1., 1., 1., 1., 1., 1., 0., 0.],\n",
            "        [1., 1., 1., 1., 1., 1., 1., 0.],\n",
            "        [1., 1., 1., 1., 1., 1., 1., 1.]])\n",
            "\n",
            "wei: tensor([[0., 0., 0., 0., 0., 0., 0., 0.],\n",
            "        [0., 0., 0., 0., 0., 0., 0., 0.],\n",
            "        [0., 0., 0., 0., 0., 0., 0., 0.],\n",
            "        [0., 0., 0., 0., 0., 0., 0., 0.],\n",
            "        [0., 0., 0., 0., 0., 0., 0., 0.],\n",
            "        [0., 0., 0., 0., 0., 0., 0., 0.],\n",
            "        [0., 0., 0., 0., 0., 0., 0., 0.],\n",
            "        [0., 0., 0., 0., 0., 0., 0., 0.]])\n",
            "\n",
            "wei after masking: tensor([[0., -inf, -inf, -inf, -inf, -inf, -inf, -inf],\n",
            "        [0., 0., -inf, -inf, -inf, -inf, -inf, -inf],\n",
            "        [0., 0., 0., -inf, -inf, -inf, -inf, -inf],\n",
            "        [0., 0., 0., 0., -inf, -inf, -inf, -inf],\n",
            "        [0., 0., 0., 0., 0., -inf, -inf, -inf],\n",
            "        [0., 0., 0., 0., 0., 0., -inf, -inf],\n",
            "        [0., 0., 0., 0., 0., 0., 0., -inf],\n",
            "        [0., 0., 0., 0., 0., 0., 0., 0.]])\n",
            "\n",
            "wei after softmax: tensor([[1.0000, 0.0000, 0.0000, 0.0000, 0.0000, 0.0000, 0.0000, 0.0000],\n",
            "        [0.5000, 0.5000, 0.0000, 0.0000, 0.0000, 0.0000, 0.0000, 0.0000],\n",
            "        [0.3333, 0.3333, 0.3333, 0.0000, 0.0000, 0.0000, 0.0000, 0.0000],\n",
            "        [0.2500, 0.2500, 0.2500, 0.2500, 0.0000, 0.0000, 0.0000, 0.0000],\n",
            "        [0.2000, 0.2000, 0.2000, 0.2000, 0.2000, 0.0000, 0.0000, 0.0000],\n",
            "        [0.1667, 0.1667, 0.1667, 0.1667, 0.1667, 0.1667, 0.0000, 0.0000],\n",
            "        [0.1429, 0.1429, 0.1429, 0.1429, 0.1429, 0.1429, 0.1429, 0.0000],\n",
            "        [0.1250, 0.1250, 0.1250, 0.1250, 0.1250, 0.1250, 0.1250, 0.1250]])\n",
            "\n",
            "xbow3 batch 0: tensor([[ 0.1808, -0.0700],\n",
            "        [-0.0894, -0.4926],\n",
            "        [ 0.1490, -0.3199],\n",
            "        [ 0.3504, -0.2238],\n",
            "        [ 0.3525,  0.0545],\n",
            "        [ 0.0688, -0.0396],\n",
            "        [ 0.0927, -0.0682],\n",
            "        [-0.0341,  0.1332]])\n"
          ]
        }
      ]
    },
    {
      "cell_type": "code",
      "source": [
        "# version 4: self-attention!\n",
        "torch.manual_seed(1337)\n",
        "B,T,C = 4,8,32\n",
        "x = torch.randn(B,T,C)\n",
        "\n",
        "# single Head\n",
        "head_size = 16\n",
        "key = nn.Linear(C, head_size, bias=False) # what I am asking about\n",
        "query = nn.Linear(C, head_size, bias=False) # waht others offer\n",
        "value = nn.Linear(C, head_size, bias=False) # what others contain\n",
        "# The original input vector 32-dimension gets mapped inot a smaller space\n",
        "k = key(x)   # B, T, 16\n",
        "q = query(x) # B, T, 16\n",
        "\n",
        "# Attention scores for every position with each other\n",
        "wei =  q @ k.transpose(-2, -1) # (B, T, 16) @ (B, 16, T) ---> (B, T, T)\n",
        "\n",
        "# mask future tokens, for autoregressive models\n",
        "tril = torch.tril(torch.ones(T, T))\n",
        "#wei = torch.zeros((T,T))\n",
        "wei = wei.masked_fill(tril == 0, float('-inf'))\n",
        "wei = F.softmax(wei, dim=-1)\n",
        "\n",
        "# weighted sums of values/contextualization\n",
        "v = value(x)\n",
        "out = wei @ v\n",
        "#out = wei @ x\n",
        "\n",
        "out.shape"
      ],
      "metadata": {
        "id": "ht2LPyS0e_ie",
        "outputId": "af3b208c-1283-4af3-8ccf-6206097e7c06",
        "colab": {
          "base_uri": "https://localhost:8080/"
        }
      },
      "execution_count": 16,
      "outputs": [
        {
          "output_type": "execute_result",
          "data": {
            "text/plain": [
              "torch.Size([4, 8, 16])"
            ]
          },
          "metadata": {},
          "execution_count": 16
        }
      ]
    },
    {
      "cell_type": "code",
      "source": [
        "wei[0]"
      ],
      "metadata": {
        "id": "d3YHqM2JfJSp",
        "outputId": "5e5ff289-007e-43a6-d614-95cad32b3162",
        "colab": {
          "base_uri": "https://localhost:8080/"
        }
      },
      "execution_count": 12,
      "outputs": [
        {
          "output_type": "execute_result",
          "data": {
            "text/plain": [
              "tensor([[1.0000, 0.0000, 0.0000, 0.0000, 0.0000, 0.0000, 0.0000, 0.0000],\n",
              "        [0.1574, 0.8426, 0.0000, 0.0000, 0.0000, 0.0000, 0.0000, 0.0000],\n",
              "        [0.2088, 0.1646, 0.6266, 0.0000, 0.0000, 0.0000, 0.0000, 0.0000],\n",
              "        [0.5792, 0.1187, 0.1889, 0.1131, 0.0000, 0.0000, 0.0000, 0.0000],\n",
              "        [0.0294, 0.1052, 0.0469, 0.0276, 0.7909, 0.0000, 0.0000, 0.0000],\n",
              "        [0.0176, 0.2689, 0.0215, 0.0089, 0.6812, 0.0019, 0.0000, 0.0000],\n",
              "        [0.1691, 0.4066, 0.0438, 0.0416, 0.1048, 0.2012, 0.0329, 0.0000],\n",
              "        [0.0210, 0.0843, 0.0555, 0.2297, 0.0573, 0.0709, 0.2423, 0.2391]],\n",
              "       grad_fn=<SelectBackward0>)"
            ]
          },
          "metadata": {},
          "execution_count": 12
        }
      ]
    },
    {
      "cell_type": "code",
      "source": [
        "#Solving the transpose mystery(for me)\n",
        "B,T,C = 1,2,4\n",
        "x = torch.randn(B,T,C)\n",
        "print(f'x: \\n{x}\\n')\n",
        "\n",
        "head_size = 3\n",
        "key = nn.Linear(C, head_size, bias=False)\n",
        "query = nn.Linear(C, head_size, bias=False)\n",
        "value = nn.Linear(C, head_size, bias=False)\n",
        "k = key(x)\n",
        "q = query(x)\n",
        "\n",
        "print(f'key: \\n{key}\\n')\n",
        "print(f'k: \\n{k}\\n')\n",
        "\n",
        "# Question why cant I just do q @ k  = (1,2,3) @ (1,2,3)\n",
        "# Answer the inner dimension dont align (2,3) @ (2,3)\n",
        "\"\"\"\n",
        "              x11 x12 x123\n",
        "              x21 x22 x223\n",
        "x11 x12 x123\n",
        "x21 x22 x223\n",
        "\n",
        "== not possible thus swap the last layer (-1) and the one before(-2)\n",
        "\n",
        "              x11 x21\n",
        "              x12 x22\n",
        "              x13 x23\n",
        "x12 x22 x123\n",
        "x21 x22 x223\n",
        "\"\"\"\n",
        "print(f'before: k values: \\n{k}\\n')\n",
        "print(f'after: k values: \\n{k.transpose(-2, -1)}\\n')\n"
      ],
      "metadata": {
        "id": "IRs-k5URitzR",
        "outputId": "d0e54604-2dc5-42b4-d8d9-7d3ed317d3d4",
        "colab": {
          "base_uri": "https://localhost:8080/"
        }
      },
      "execution_count": 31,
      "outputs": [
        {
          "output_type": "stream",
          "name": "stdout",
          "text": [
            "x: \n",
            "tensor([[[ 1.0729, -0.5504,  0.4417,  1.8560],\n",
            "         [-1.6223, -1.8155, -0.8447, -2.1575]]])\n",
            "\n",
            "key: \n",
            "Linear(in_features=4, out_features=3, bias=False)\n",
            "\n",
            "k: \n",
            "tensor([[[-0.8246,  0.3190,  0.2538],\n",
            "         [-0.1150, -0.0447,  0.1061]]], grad_fn=<UnsafeViewBackward0>)\n",
            "\n",
            "before: k values: \n",
            "tensor([[[-0.8246,  0.3190,  0.2538],\n",
            "         [-0.1150, -0.0447,  0.1061]]], grad_fn=<UnsafeViewBackward0>)\n",
            "\n",
            "after: k values: \n",
            "tensor([[[-0.8246, -0.1150],\n",
            "         [ 0.3190, -0.0447],\n",
            "         [ 0.2538,  0.1061]]], grad_fn=<TransposeBackward0>)\n",
            "\n"
          ]
        }
      ]
    },
    {
      "cell_type": "markdown",
      "source": [
        "Notes from Andrej:\n",
        "- Attention is a **communication mechanism**. Can be seen as nodes in a directed graph looking at each other and aggregating information with a weighted sum from all nodes that point to them, with data-dependent weights.\n",
        "- There is no notion of space. Attention simply acts over a set of vectors. This is why we need to positionally encode tokens.\n",
        "- Each example across batch dimension is of course processed completely independently and never \"talk\" to each other\n",
        "- In an \"encoder\" attention block just delete the single line that does masking with `tril`, allowing all tokens to communicate. This block here is called a \"decoder\" attention block because it has triangular masking, and is usually used in autoregressive settings, like language modeling.\n",
        "- \"self-attention\" just means that the keys and values are produced from the same source as queries. In \"cross-attention\", the queries still get produced from x, but the keys and values come from some other, external source (e.g. an encoder module)\n",
        "- \"Scaled\" attention additional divides `wei` by 1/sqrt(head_size). This makes it so when input Q,K are unit variance, wei will be unit variance too and Softmax will stay diffuse and not saturate too much. Illustration below"
      ],
      "metadata": {
        "id": "0SjUoDo6luOM"
      }
    },
    {
      "cell_type": "code",
      "source": [
        "k = torch.randn(B,T,head_size)\n",
        "q = torch.randn(B,T,head_size)\n",
        "wei = q @ k.transpose(-2, -1) * head_size**-0.5"
      ],
      "metadata": {
        "id": "MiB_nVXdl8nS"
      },
      "execution_count": 32,
      "outputs": []
    },
    {
      "cell_type": "code",
      "source": [
        "k.var()"
      ],
      "metadata": {
        "id": "fIWORJcql900",
        "outputId": "9493b0a4-d87a-469c-efd1-23033ba445da",
        "colab": {
          "base_uri": "https://localhost:8080/"
        }
      },
      "execution_count": 33,
      "outputs": [
        {
          "output_type": "execute_result",
          "data": {
            "text/plain": [
              "tensor(1.3187)"
            ]
          },
          "metadata": {},
          "execution_count": 33
        }
      ]
    },
    {
      "cell_type": "code",
      "source": [
        "q.var()"
      ],
      "metadata": {
        "id": "64zTkvQbl-6r",
        "outputId": "bb6b0152-510e-4ffd-a6f6-0ebd5c047cd4",
        "colab": {
          "base_uri": "https://localhost:8080/"
        }
      },
      "execution_count": 34,
      "outputs": [
        {
          "output_type": "execute_result",
          "data": {
            "text/plain": [
              "tensor(0.6392)"
            ]
          },
          "metadata": {},
          "execution_count": 34
        }
      ]
    },
    {
      "cell_type": "code",
      "source": [
        "wei.var()"
      ],
      "metadata": {
        "id": "MQwTEh-1l_4b",
        "outputId": "545d3f5a-0141-4b63-d68e-63d1dc2b8c6f",
        "colab": {
          "base_uri": "https://localhost:8080/"
        }
      },
      "execution_count": 35,
      "outputs": [
        {
          "output_type": "execute_result",
          "data": {
            "text/plain": [
              "tensor(0.3140)"
            ]
          },
          "metadata": {},
          "execution_count": 35
        }
      ]
    },
    {
      "cell_type": "code",
      "source": [
        "torch.softmax(torch.tensor([0.1, -0.2, 0.3, -0.2, 0.5]), dim=-1)"
      ],
      "metadata": {
        "id": "rnEqA5uImB3P",
        "outputId": "2680feca-d300-4e73-deff-207474f4fe7e",
        "colab": {
          "base_uri": "https://localhost:8080/"
        }
      },
      "execution_count": 36,
      "outputs": [
        {
          "output_type": "execute_result",
          "data": {
            "text/plain": [
              "tensor([0.1925, 0.1426, 0.2351, 0.1426, 0.2872])"
            ]
          },
          "metadata": {},
          "execution_count": 36
        }
      ]
    },
    {
      "cell_type": "code",
      "source": [
        "torch.softmax(torch.tensor([0.1, -0.2, 0.3, -0.2, 0.5])*8, dim=-1) # gets too peaky, converges to one-hot"
      ],
      "metadata": {
        "id": "IsEh4iK0mD1a",
        "outputId": "08bb9295-e5f7-4f82-8f66-36cd1f45da46",
        "colab": {
          "base_uri": "https://localhost:8080/"
        }
      },
      "execution_count": 37,
      "outputs": [
        {
          "output_type": "execute_result",
          "data": {
            "text/plain": [
              "tensor([0.0326, 0.0030, 0.1615, 0.0030, 0.8000])"
            ]
          },
          "metadata": {},
          "execution_count": 37
        }
      ]
    }
  ]
}