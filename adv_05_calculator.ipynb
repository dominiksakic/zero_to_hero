{
  "nbformat": 4,
  "nbformat_minor": 0,
  "metadata": {
    "colab": {
      "provenance": [],
      "authorship_tag": "ABX9TyPLS5rUkjzuUhtNih6ZmRHX",
      "include_colab_link": true
    },
    "kernelspec": {
      "name": "python3",
      "display_name": "Python 3"
    },
    "language_info": {
      "name": "python"
    }
  },
  "cells": [
    {
      "cell_type": "markdown",
      "metadata": {
        "id": "view-in-github",
        "colab_type": "text"
      },
      "source": [
        "<a href=\"https://colab.research.google.com/github/dominiksakic/zero_to_hero/blob/main/adv_05_calculator.ipynb\" target=\"_parent\"><img src=\"https://colab.research.google.com/assets/colab-badge.svg\" alt=\"Open In Colab\"/></a>"
      ]
    },
    {
      "cell_type": "markdown",
      "source": [
        "# Goal\n",
        "Train a GPT to do addition of two numbers, i.e. a+b=c. You may find it helpful to predict the digits of c in reverse order, as the typical addition algorithm (that you're hoping it learns) would proceed right to left too. You may want to modify the data loader to simply serve random problems and skip the generation of train.bin, val.bin. You may want to mask out the loss at the input positions of a+b that just specify the problem using y=-1 in the targets (see CrossEntropyLoss ignore_index). Does your Transformer learn to add? Once you have this, swole doge project: build a calculator clone in GPT, for all of +-*/. Not an easy problem. You may need Chain of Thought traces.\n",
        "\n",
        "- Where to get a dataset? Create on yourself? [Yourself]\n",
        "  - write a script that randomized two numbers a and b.\n",
        "  - loop over n steps and record the results in a text file.\n",
        "- How to tokenize the input?\n",
        "  - Char level?\n",
        "  - Tokens?\n",
        "  - See below for some ideas.\n",
        "- Train a simple GPT on the dataset like you would on any other text. What are the outputs? Why?\n",
        "- How would you train in reverse order?\n",
        "\n",
        "# Try 1\n",
        "- Simplest version of a calculator 0 - 9 + 0 - 9 = 00 - 18\n",
        "- one data set would be blocksize 6.\n",
        "- how much data could I create? The number of combinations?\n",
        "  - 81 combinations only? That is not a lot and I would think that the neural net can just remember these!\n",
        "  - Due to the lack of data the network should be able to remember all the data making a perfect calculator.\n",
        "- I just have to mask the last to blocks."
      ],
      "metadata": {
        "id": "NXg2NidaWDY_"
      }
    }
  ]
}