{
  "nbformat": 4,
  "nbformat_minor": 0,
  "metadata": {
    "colab": {
      "provenance": [],
      "authorship_tag": "ABX9TyNH0UgbsvaD0pV5cvNY6TLm",
      "include_colab_link": true
    },
    "kernelspec": {
      "name": "python3",
      "display_name": "Python 3"
    },
    "language_info": {
      "name": "python"
    }
  },
  "cells": [
    {
      "cell_type": "markdown",
      "metadata": {
        "id": "view-in-github",
        "colab_type": "text"
      },
      "source": [
        "<a href=\"https://colab.research.google.com/github/dominiksakic/zero_to_hero/blob/main/basics_06_transformers.ipynb\" target=\"_parent\"><img src=\"https://colab.research.google.com/assets/colab-badge.svg\" alt=\"Open In Colab\"/></a>"
      ]
    },
    {
      "cell_type": "markdown",
      "source": [
        "- source: https://www.youtube.com/watch?v=kCc8FmEb1nY&t=126s"
      ],
      "metadata": {
        "id": "1CQwLj_P358I"
      }
    },
    {
      "cell_type": "code",
      "source": [
        "# get data\n",
        "!wget https://raw.githubusercontent.com/karpathy/char-rnn/master/data/tinyshakespeare/input.txt"
      ],
      "metadata": {
        "id": "HAYtmhDA4dIy",
        "colab": {
          "base_uri": "https://localhost:8080/"
        },
        "outputId": "5ef84224-e19e-4254-f8a5-839417664645"
      },
      "execution_count": 3,
      "outputs": [
        {
          "output_type": "stream",
          "name": "stdout",
          "text": [
            "--2025-07-12 23:51:16--  https://raw.githubusercontent.com/karpathy/char-rnn/master/data/tinyshakespeare/input.txt\n",
            "Resolving raw.githubusercontent.com (raw.githubusercontent.com)... 185.199.108.133, 185.199.109.133, 185.199.110.133, ...\n",
            "Connecting to raw.githubusercontent.com (raw.githubusercontent.com)|185.199.108.133|:443... connected.\n",
            "HTTP request sent, awaiting response... 200 OK\n",
            "Length: 1115394 (1.1M) [text/plain]\n",
            "Saving to: ‘input.txt.2’\n",
            "\n",
            "\rinput.txt.2           0%[                    ]       0  --.-KB/s               \rinput.txt.2         100%[===================>]   1.06M  --.-KB/s    in 0.02s   \n",
            "\n",
            "2025-07-12 23:51:16 (46.5 MB/s) - ‘input.txt.2’ saved [1115394/1115394]\n",
            "\n",
            "First Citizen:\n",
            "Before we proceed any further, hear me speak.\n",
            "\n",
            "All:\n",
            "Speak, speak.\n",
            "\n",
            "First Citizen:\n",
            "You\n"
          ]
        }
      ]
    },
    {
      "cell_type": "code",
      "source": [
        "with open('input.txt', 'r', encoding='utf-8') as f:\n",
        "    text = f.read()\n",
        "\n",
        "print(text[:100])"
      ],
      "metadata": {
        "colab": {
          "base_uri": "https://localhost:8080/"
        },
        "id": "h3YdWReGDPJU",
        "outputId": "82da132a-2d26-4558-f8c4-a8df55d0d336"
      },
      "execution_count": 4,
      "outputs": [
        {
          "output_type": "stream",
          "name": "stdout",
          "text": [
            "First Citizen:\n",
            "Before we proceed any further, hear me speak.\n",
            "\n",
            "All:\n",
            "Speak, speak.\n",
            "\n",
            "First Citizen:\n",
            "You\n"
          ]
        }
      ]
    },
    {
      "cell_type": "code",
      "source": [
        "# make decoder, encoder\n",
        "stoi = {ch:i  for i, ch in enumerate(sorted(set(text)))}\n",
        "itos = {i : ch for i, ch in enumerate(stoi)}\n",
        "\n",
        "encoder = lambda s: [stoi[c] for c in s]\n",
        "decoder = lambda l: ''.join([itos[i] for i in l])\n",
        "print(encoder(text[:50]))\n",
        "print(decoder(encoder(text[:50])))"
      ],
      "metadata": {
        "id": "KZM0-heV4e6B",
        "colab": {
          "base_uri": "https://localhost:8080/"
        },
        "outputId": "146b73a9-d4c9-40e0-a84b-14ef93b12bf1"
      },
      "execution_count": 23,
      "outputs": [
        {
          "output_type": "stream",
          "name": "stdout",
          "text": [
            "[18, 47, 56, 57, 58, 1, 15, 47, 58, 47, 64, 43, 52, 10, 0, 14, 43, 44, 53, 56, 43, 1, 61, 43, 1, 54, 56, 53, 41, 43, 43, 42, 1, 39, 52, 63, 1, 44, 59, 56, 58, 46, 43, 56, 6, 1, 46, 43, 39, 56]\n",
            "First Citizen:\n",
            "Before we proceed any further, hear\n"
          ]
        }
      ]
    },
    {
      "cell_type": "code",
      "source": [
        "# Tokenize data, and create test/val"
      ],
      "metadata": {
        "id": "cYzUPM-MFc5A"
      },
      "execution_count": null,
      "outputs": []
    },
    {
      "cell_type": "code",
      "source": [
        "# create a baseline model/bigram"
      ],
      "metadata": {
        "id": "sq74fs6T4jRH"
      },
      "execution_count": null,
      "outputs": []
    },
    {
      "cell_type": "code",
      "source": [
        "# train the baseline"
      ],
      "metadata": {
        "id": "KgPcGM_C4qxk"
      },
      "execution_count": null,
      "outputs": []
    },
    {
      "cell_type": "markdown",
      "source": [
        "# Transformers\n"
      ],
      "metadata": {
        "id": "2VzQyQH74vTA"
      }
    },
    {
      "cell_type": "code",
      "source": [
        "# Gensis of Transformer\n",
        "# Averaging past context with for loops\n",
        "# Matrix multiplying as weighted aggregation\n",
        "# Final version"
      ],
      "metadata": {
        "id": "wqRqB4f842tM"
      },
      "execution_count": null,
      "outputs": []
    }
  ]
}