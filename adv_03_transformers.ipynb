{
  "nbformat": 4,
  "nbformat_minor": 0,
  "metadata": {
    "colab": {
      "provenance": [],
      "gpuType": "T4",
      "authorship_tag": "ABX9TyMTq4BSCkYtFJ+uQWVGcsYQ",
      "include_colab_link": true
    },
    "kernelspec": {
      "name": "python3",
      "display_name": "Python 3"
    },
    "language_info": {
      "name": "python"
    },
    "accelerator": "GPU"
  },
  "cells": [
    {
      "cell_type": "markdown",
      "metadata": {
        "id": "view-in-github",
        "colab_type": "text"
      },
      "source": [
        "<a href=\"https://colab.research.google.com/github/dominiksakic/zero_to_hero/blob/main/adv_03_transformers.ipynb\" target=\"_parent\"><img src=\"https://colab.research.google.com/assets/colab-badge.svg\" alt=\"Open In Colab\"/></a>"
      ]
    },
    {
      "cell_type": "markdown",
      "source": [
        "# GOALS:\n",
        "- EX1: The n-dimensional tensor mastery challenge: Combine the `Head` and `MultiHeadAttention` into one class that processes all the heads in parallel, treating the heads as another batch dimension (answer is in nanoGPT). [CLEAR]\n",
        "- EX2: Train the GPT on your own dataset of choice! What other data could be fun to blabber on about? (A fun advanced suggestion if you like: train a GPT to do addition of two numbers, i.e. a+b=c. You may find it helpful to predict the digits of c in reverse order, as the typical addition algorithm (that you're hoping it learns) would proceed right to left too. You may want to modify the data loader to simply serve random problems and skip the generation of train.bin, val.bin. You may want to mask out the loss at the input positions of a+b that just specify the problem using y=-1 in the targets (see CrossEntropyLoss ignore_index). Does your Transformer learn to add? Once you have this, swole doge project: build a calculator clone in GPT, for all of +-*/. Not an easy problem. You may need Chain of Thought traces.)\n",
        "- EX3: Find a dataset that is very large, so large that you can't see a gap between train and val loss. Pretrain the transformer on this data, then initialize with that model and finetune it on tiny shakespeare with a smaller number of steps and lower learning rate. Can you obtain a lower validation loss by the use of pretraining?\n",
        "- EX4: Read some transformer papers and implement one additional feature or change that people seem to use. Does it improve the performance of your GPT?"
      ],
      "metadata": {
        "id": "mH7gwR1ckgJ6"
      }
    },
    {
      "cell_type": "code",
      "source": [
        "## STARTING CODE ##\n",
        "import math\n",
        "import torch\n",
        "import torch.nn as nn\n",
        "from torch.nn import functional as F\n",
        "\n",
        "## LOAD DATA\n",
        "!wget https://raw.githubusercontent.com/karpathy/char-rnn/master/data/tinyshakespeare/input.txt\n",
        "\n",
        "\n",
        "with open('input.txt', 'r', encoding='utf-8') as f:\n",
        "    text = f.read()\n",
        "\n",
        "## PREP DATA\n",
        "chars = sorted(list(set(text)))\n",
        "vocab_size = len(chars)\n",
        "stoi = {ch:i  for i, ch in enumerate(chars)}\n",
        "itos = {i : ch for i, ch in enumerate(chars)}\n",
        "\n",
        "encode = lambda s: [stoi[c] for c in s]\n",
        "decode = lambda l: ''.join([itos[i] for i in l])\n",
        "\n",
        "data = torch.tensor(encode(text), dtype=torch.long)\n",
        "\n",
        "n = int(0.9 * len(data))\n",
        "train_data = data[:n]\n",
        "val_data = data[n:]"
      ],
      "metadata": {
        "colab": {
          "base_uri": "https://localhost:8080/"
        },
        "id": "ewAb7fRTkyWL",
        "outputId": "b5ab2337-2ee3-45c7-cebf-942247bd293a"
      },
      "execution_count": 1,
      "outputs": [
        {
          "output_type": "stream",
          "name": "stdout",
          "text": [
            "--2025-08-03 07:56:37--  https://raw.githubusercontent.com/karpathy/char-rnn/master/data/tinyshakespeare/input.txt\n",
            "Resolving raw.githubusercontent.com (raw.githubusercontent.com)... 185.199.108.133, 185.199.109.133, 185.199.110.133, ...\n",
            "Connecting to raw.githubusercontent.com (raw.githubusercontent.com)|185.199.108.133|:443... connected.\n",
            "HTTP request sent, awaiting response... 200 OK\n",
            "Length: 1115394 (1.1M) [text/plain]\n",
            "Saving to: ‘input.txt’\n",
            "\n",
            "input.txt           100%[===================>]   1.06M  --.-KB/s    in 0.006s  \n",
            "\n",
            "2025-08-03 07:56:39 (168 MB/s) - ‘input.txt’ saved [1115394/1115394]\n",
            "\n"
          ]
        }
      ]
    },
    {
      "cell_type": "code",
      "source": [
        "# Deep dive of how the current implementation:\n",
        "\n",
        "# out = torch.cat([h(x) for h in self.heads], dim=-1)\n",
        "\n",
        "# input\n",
        "B, T , C = 2, 4, 8\n",
        "n_head  = 2\n",
        "x = torch.randn(B, T, C)\n",
        "\n",
        "print(\"head-1\")\n",
        "head_size = C // n_head\n",
        "key = nn.Linear(8, head_size, bias=False)\n",
        "query = nn.Linear(8, head_size, bias=False)\n",
        "value = nn.Linear(8, head_size, bias=False)\n",
        "\n",
        "B, T, C = x.shape\n",
        "k = key(x)   # (B,T,hs)\n",
        "print(f'k shape: {k.shape}')\n",
        "q = query(x) # (B,T,hs)\n",
        "print(f'q shape: {q.shape}')\n",
        "\n",
        "wei = q @ k.transpose(-2, -1) * (C ** -0.5)  # (B,T,T)\n",
        "wei = wei.masked_fill(torch.tril(torch.ones(T, T, device=x.device)) == 0, float('-inf'))\n",
        "wei = F.softmax(wei, dim=-1)\n",
        "\n",
        "v = value(x)  # (B,T,hs)\n",
        "out_h1 = wei @ v\n",
        "\n",
        "print(\"head-2\")\n",
        "head_size = C // n_head\n",
        "key = nn.Linear(8, head_size, bias=False)\n",
        "query = nn.Linear(8, head_size, bias=False)\n",
        "value = nn.Linear(8, head_size, bias=False)\n",
        "\n",
        "B, T, C = x.shape\n",
        "k = key(x)   # (B,T,hs)\n",
        "print(f'k shape: {k.shape}')\n",
        "q = query(x) # (B,T,hs)\n",
        "print(f'q shape: {q.shape}')\n",
        "\n",
        "wei = q @ k.transpose(-2, -1) * (C ** -0.5)  # (B,T,T)\n",
        "wei = wei.masked_fill(torch.tril(torch.ones(T, T, device=x.device)) == 0, float('-inf'))\n",
        "wei = F.softmax(wei, dim=-1)\n",
        "\n",
        "v = value(x)  # (B,T,hs)\n",
        "out_h2 = wei @ v\n",
        "\n",
        "print(out_h1.shape)\n",
        "print(out_h2.shape)\n",
        "\n",
        "result = torch.cat([out_h1, out_h2], dim=-1)\n",
        "print(result.shape)"
      ],
      "metadata": {
        "colab": {
          "base_uri": "https://localhost:8080/"
        },
        "id": "ryxGiElE6q17",
        "outputId": "fbad4fd1-f333-4f17-811f-e41bce742def"
      },
      "execution_count": 2,
      "outputs": [
        {
          "output_type": "stream",
          "name": "stdout",
          "text": [
            "head-1\n",
            "k shape: torch.Size([2, 4, 4])\n",
            "q shape: torch.Size([2, 4, 4])\n",
            "head-2\n",
            "k shape: torch.Size([2, 4, 4])\n",
            "q shape: torch.Size([2, 4, 4])\n",
            "torch.Size([2, 4, 4])\n",
            "torch.Size([2, 4, 4])\n",
            "torch.Size([2, 4, 8])\n"
          ]
        }
      ]
    },
    {
      "cell_type": "code",
      "source": [
        "### TOY EXAMPLE - STEP 1:\n",
        "B, T , C = 2, 4, 8\n",
        "n_head  = 2\n",
        "head_dim = C // n_head\n",
        "x = torch.randn(B, T, C)\n",
        "\n",
        "# Step 2 One big QKV Projection\n",
        "qkv_proj = torch.nn.Linear(C, 3 * C, bias=False)\n",
        "qkv = qkv_proj(x)  # (B, T, 3 * C)\n",
        "print(qkv.shape)\n",
        "\n",
        "# Step 3: Split Into Q, K, V\n",
        "q, k, v = qkv.chunk(3, dim=-1)\n",
        "print(f'q shape: {q.shape}')\n",
        "print(f'k shape: {k.shape}')\n",
        "print(f'v shape: {v.shape}')\n",
        "\n",
        "\n",
        "# Step-by-step:\n",
        "print(f\"\\nq shape before with the two heads combined: {q.shape}\")\n",
        "print(f\"From (B, T, C) to (B, T, n_head, head_dim)\")\n",
        "print(f\"split the two heads: {q.view(B, T, n_head, head_dim).shape}\")\n",
        "print(f\"# Then to (B, n_head, T, head_dim)\")\n",
        "print(f\"rearange the two heads: {q.view(B, T, n_head, head_dim).transpose(1, 2).shape}\")\n",
        "\n",
        "q = q.view(B, T, n_head, head_dim).transpose(1, 2)  # (B, n_head, T, head_dim)\n",
        "k = k.view(B, T, n_head, head_dim).transpose(1, 2)\n",
        "v = v.view(B, T, n_head, head_dim).transpose(1, 2)\n",
        "\n",
        "# Step 5: Scaled Dot Product Attention (Parrallel)\n",
        "att = (q @ k.transpose(-2, -1)) / (head_dim ** 0.5)  # (B, n_head, T, T)\n",
        "mask = torch.tril(torch.ones(T, T)).to(x.device)\n",
        "att = att.masked_fill(mask == 0, float('-inf'))\n",
        "att = F.softmax(att, dim=-1)\n",
        "\n",
        "# Step 6: Weighted Sum over Values\n",
        "out = att @ v  # (B, n_head, T, head_dim)\n",
        "print(f\"\\nVal after attention: {out.shape}\")\n",
        "\n",
        "\n",
        "# Step 7 Merge Heads Back Together\n",
        "print(f'\\n Rearange the tensor to (B, T, n_head, n_dim): {out.transpose(1, 2).shape}')\n",
        "print(f'\\n From (B, T, n_head, n_dim) to (B, T, C): {out.transpose(1, 2).contiguous().view(B, T, C).shape}')\n",
        "out = out.transpose(1, 2).contiguous().view(B, T, C)  # (B, T, C)"
      ],
      "metadata": {
        "colab": {
          "base_uri": "https://localhost:8080/"
        },
        "id": "Jdl6RbcG7AM4",
        "outputId": "537f72db-cd24-45ca-a123-f5b659d6978d"
      },
      "execution_count": 3,
      "outputs": [
        {
          "output_type": "stream",
          "name": "stdout",
          "text": [
            "torch.Size([2, 4, 24])\n",
            "q shape: torch.Size([2, 4, 8])\n",
            "k shape: torch.Size([2, 4, 8])\n",
            "v shape: torch.Size([2, 4, 8])\n",
            "\n",
            "q shape before with the two heads combined: torch.Size([2, 4, 8])\n",
            "From (B, T, C) to (B, T, n_head, head_dim)\n",
            "split the two heads: torch.Size([2, 4, 2, 4])\n",
            "# Then to (B, n_head, T, head_dim)\n",
            "rearange the two heads: torch.Size([2, 2, 4, 4])\n",
            "\n",
            "Val after attention: torch.Size([2, 2, 4, 4])\n",
            "\n",
            " Rearange the tensor to (B, T, n_head, n_dim): torch.Size([2, 4, 2, 4])\n",
            "\n",
            " From (B, T, n_head, n_dim) to (B, T, C): torch.Size([2, 4, 8])\n"
          ]
        }
      ]
    },
    {
      "cell_type": "code",
      "source": [
        "# Side Quest Contiguous vs Non Contiguous Tensors\n",
        "\n",
        "\"\"\"\n",
        "Contiguous tensor is where the data is stored in a memory block in go go.\n",
        "\n",
        "Non Contiguous tensor us where the shape of the data dosent match how the data is laid out.\n",
        "\"\"\"\n",
        "\n",
        "x = torch.tensor([[1, 2, 3], [4, 5, 6]])\n",
        "print(x)\n",
        "print(x.is_contiguous())\n",
        "print(x.view(-1))\n",
        "\n",
        "\n",
        "x = torch.tensor([[1, 2, 3], [4, 5, 6]])\n",
        "y = x.t()  # Transpose it → now shape (3, 2)\n",
        "print(y)\n",
        "print(y.is_contiguous())\n",
        "\n",
        "print(\"\\nUse contiguous to use view\")\n",
        "y = y.contiguous()\n",
        "y.view(-1)\n",
        "\n",
        "print(\"\\nCheck Memory Layout with .stride()\")\n",
        "x = torch.randn(2, 3)\n",
        "print(x)\n",
        "print(x.stride())         # (3, 1)\n",
        "print(x.t().stride())     # (1, 3)"
      ],
      "metadata": {
        "colab": {
          "base_uri": "https://localhost:8080/"
        },
        "id": "KGj2KAA4Cqy7",
        "outputId": "8f18e485-90c0-45cc-90dc-676fef0420af"
      },
      "execution_count": 4,
      "outputs": [
        {
          "output_type": "stream",
          "name": "stdout",
          "text": [
            "tensor([[1, 2, 3],\n",
            "        [4, 5, 6]])\n",
            "True\n",
            "tensor([1, 2, 3, 4, 5, 6])\n",
            "tensor([[1, 4],\n",
            "        [2, 5],\n",
            "        [3, 6]])\n",
            "False\n",
            "\n",
            "Use contiguous to use view\n",
            "\n",
            "Check Memory Layout with .stride()\n",
            "tensor([[ 1.9366, -1.1943, -0.2380],\n",
            "        [ 1.2358,  0.8549,  0.4589]])\n",
            "(3, 1)\n",
            "(1, 3)\n"
          ]
        }
      ]
    },
    {
      "cell_type": "code",
      "source": [
        "# Strides\n",
        "import torch\n",
        "\n",
        "a = torch.tensor([1])\n",
        "print(\"\\nShape:\", a.shape)\n",
        "print(\"Strides:\", a.stride())\n",
        "print(a)\n",
        "\n",
        "a = torch.tensor([1,2])\n",
        "print(\"\\nShape:\", a.shape)\n",
        "print(\"Strides:\", a.stride())\n",
        "print(a)\n",
        "\n",
        "a = torch.tensor([[1],[1]])\n",
        "print(\"\\nShape:\", a.shape)\n",
        "print(\"Strides:\", a.stride())\n",
        "print(a)\n",
        "\n",
        "a = torch.tensor([[1,2],[1,2]])\n",
        "print(\"\\nShape:\", a.shape)\n",
        "print(\"Strides:\", a.stride())\n",
        "print(a)\n",
        "\n",
        "a = torch.tensor([[1,2,3],[1,2,3]])\n",
        "print(\"\\nShape:\", a.shape)\n",
        "print(\"Strides:\", a.stride())\n",
        "print(a)\n",
        "\n",
        "a = torch.tensor([[1,2,3],[1,2,3]])\n",
        "print(\"\\nShape:\", a.shape)\n",
        "print(\"Strides:\", a.stride())\n",
        "print(a)\n",
        "\n",
        "a = torch.tensor([[[1],[1]],[[1],[1]]])\n",
        "print(\"\\nShape:\", a.shape)\n",
        "print(\"Strides:\", a.stride())\n",
        "print(a)\n",
        "\n",
        "a = torch.tensor([[[1,2],[1,2]],[[1,2],[1,2]]])\n",
        "print(\"\\nShape:\", a.shape)\n",
        "print(\"Strides:\", a.stride())\n",
        "print(a)"
      ],
      "metadata": {
        "colab": {
          "base_uri": "https://localhost:8080/"
        },
        "id": "6irU2lHpSS5F",
        "outputId": "4bb1423f-7cd3-458f-cad4-b86672175b0c"
      },
      "execution_count": 5,
      "outputs": [
        {
          "output_type": "stream",
          "name": "stdout",
          "text": [
            "\n",
            "Shape: torch.Size([1])\n",
            "Strides: (1,)\n",
            "tensor([1])\n",
            "\n",
            "Shape: torch.Size([2])\n",
            "Strides: (1,)\n",
            "tensor([1, 2])\n",
            "\n",
            "Shape: torch.Size([2, 1])\n",
            "Strides: (1, 1)\n",
            "tensor([[1],\n",
            "        [1]])\n",
            "\n",
            "Shape: torch.Size([2, 2])\n",
            "Strides: (2, 1)\n",
            "tensor([[1, 2],\n",
            "        [1, 2]])\n",
            "\n",
            "Shape: torch.Size([2, 3])\n",
            "Strides: (3, 1)\n",
            "tensor([[1, 2, 3],\n",
            "        [1, 2, 3]])\n",
            "\n",
            "Shape: torch.Size([2, 3])\n",
            "Strides: (3, 1)\n",
            "tensor([[1, 2, 3],\n",
            "        [1, 2, 3]])\n",
            "\n",
            "Shape: torch.Size([2, 2, 1])\n",
            "Strides: (2, 1, 1)\n",
            "tensor([[[1],\n",
            "         [1]],\n",
            "\n",
            "        [[1],\n",
            "         [1]]])\n",
            "\n",
            "Shape: torch.Size([2, 2, 2])\n",
            "Strides: (4, 2, 1)\n",
            "tensor([[[1, 2],\n",
            "         [1, 2]],\n",
            "\n",
            "        [[1, 2],\n",
            "         [1, 2]]])\n"
          ]
        }
      ]
    },
    {
      "cell_type": "code",
      "source": [
        "y = torch.arange(0,12).view(2,2,3)\n",
        "# Expect [[0, 1, 2],[3, 4, 5]]  [[6,7,8],[9, 10 ,11]]\n",
        "print(y.stride())\n",
        "print(\"i+1 travels along the axis 0, i+3 travels along axis 1, i+6 along axis 2\")"
      ],
      "metadata": {
        "id": "I-PMA1afUzik",
        "outputId": "24192e87-8d2a-4978-e72e-37153e5e9b34",
        "colab": {
          "base_uri": "https://localhost:8080/"
        }
      },
      "execution_count": 6,
      "outputs": [
        {
          "output_type": "stream",
          "name": "stdout",
          "text": [
            "(6, 3, 1)\n",
            "i+1 travels along the axis 0, i+3 travels along axis 1, i+6 along axis 2\n"
          ]
        }
      ]
    },
    {
      "cell_type": "markdown",
      "source": [
        "```\n",
        "Index in memory   Corresponds to y[...]        Value\n",
        "-----------------------------------------------------\n",
        "0                 y[0, 0, 0]                   0\n",
        "1                 y[0, 0, 1]                   1\n",
        "2                 y[0, 0, 2]                   2\n",
        "3                 y[0, 1, 0]                   3\n",
        "4                 y[0, 1, 1]                   4\n",
        "5                 y[0, 1, 2]                   5\n",
        "6                 y[1, 0, 0]                   6\n",
        "7                 y[1, 0, 1]                   7\n",
        "8                 y[1, 0, 2]                   8\n",
        "9                 y[1, 1, 0]                   9\n",
        "10                y[1, 1, 1]                  10\n",
        "11                y[1, 1, 2]                  11\n",
        "\n",
        "```"
      ],
      "metadata": {
        "id": "y9iDxJN_Z12O"
      }
    },
    {
      "cell_type": "markdown",
      "source": [
        "- Axis 0 stride: +6 (0 → 6, 3 → 9)\n",
        "\n",
        "- Axis 1 stride: +3 (0 → 3, 6 → 9)\n",
        "\n",
        "- Axis 2 stride: +1 (0 → 1 → 2, etc.)\n",
        "\n",
        "- Memory memory offset = i * 6 + j * 3 + k * 1\n",
        "- i = 0 , j = 0, k = 0\n",
        "- Offset is i * 6 + j * 3 + k * 1\n",
        "- value 0\n",
        "- i = 0 , j = 0, k = 1\n",
        "- Offset is i * 6 + j * 3 + 1 * 1\n",
        "- value 1\n",
        "..."
      ],
      "metadata": {
        "id": "8VbeBjBAaHPd"
      }
    },
    {
      "cell_type": "code",
      "source": [
        "y_t = y.transpose(0, 1)\n",
        "print(y_t.shape)\n",
        "print(y_t.stride())\n",
        "print(y_t)"
      ],
      "metadata": {
        "id": "NiYIVxGHapBK",
        "outputId": "fafc1468-855e-4729-d7b1-cf7393027f24",
        "colab": {
          "base_uri": "https://localhost:8080/"
        }
      },
      "execution_count": 7,
      "outputs": [
        {
          "output_type": "stream",
          "name": "stdout",
          "text": [
            "torch.Size([2, 2, 3])\n",
            "(3, 6, 1)\n",
            "tensor([[[ 0,  1,  2],\n",
            "         [ 6,  7,  8]],\n",
            "\n",
            "        [[ 3,  4,  5],\n",
            "         [ 9, 10, 11]]])\n"
          ]
        }
      ]
    },
    {
      "cell_type": "code",
      "source": [
        "x = torch.arange(12)\n",
        "print(x.view(6,2))\n",
        "print(x.view(6,2).stride())\n",
        "print(\"transpose 0,1\")\n",
        "print(x.view(6,2).transpose(0,1))\n",
        "print(x.view(6,2).transpose(0,1).stride())"
      ],
      "metadata": {
        "id": "CzlhxoE1V5uk",
        "outputId": "50168626-b66d-4fc8-f8cd-b8447ed35c4f",
        "colab": {
          "base_uri": "https://localhost:8080/"
        }
      },
      "execution_count": 8,
      "outputs": [
        {
          "output_type": "stream",
          "name": "stdout",
          "text": [
            "tensor([[ 0,  1],\n",
            "        [ 2,  3],\n",
            "        [ 4,  5],\n",
            "        [ 6,  7],\n",
            "        [ 8,  9],\n",
            "        [10, 11]])\n",
            "(2, 1)\n",
            "transpose 0,1\n",
            "tensor([[ 0,  2,  4,  6,  8, 10],\n",
            "        [ 1,  3,  5,  7,  9, 11]])\n",
            "(1, 2)\n"
          ]
        }
      ]
    },
    {
      "cell_type": "code",
      "source": [
        "def apply_rope(q, k):\n",
        "    # q, k: (B, T, C), where C must be even\n",
        "    B, T, C = q.shape\n",
        "    half = C // 2\n",
        "    freqs = torch.exp(-torch.arange(0, half, dtype=torch.float32) * math.log(10000) / half).to(q.device)  # (half,)\n",
        "    positions = torch.arange(T, device=q.device).float()  # (T,)\n",
        "    angles = torch.einsum('t,d->td', positions, freqs)  # (T, half)\n",
        "    sin = angles.sin().unsqueeze(0)  # (1, T, half)\n",
        "    cos = angles.cos().unsqueeze(0)  # (1, T, half)\n",
        "\n",
        "    q1, q2 = q[..., :half], q[..., half:]\n",
        "    k1, k2 = k[..., :half], k[..., half:]\n",
        "    q_rotated = torch.cat([q1 * cos - q2 * sin, q1 * sin + q2 * cos], dim=-1)\n",
        "    k_rotated = torch.cat([k1 * cos - k2 * sin, k1 * sin + k2 * cos], dim=-1)\n",
        "    return q_rotated, k_rotated"
      ],
      "metadata": {
        "id": "yo8BKfTNz8h6"
      },
      "execution_count": 18,
      "outputs": []
    },
    {
      "cell_type": "code",
      "source": [
        "batch_size = 16\n",
        "block_size = 32\n",
        "max_iters = 5000\n",
        "eval_interval = 100\n",
        "learning_rate = 1e-3\n",
        "device = 'cuda' if torch.cuda.is_available() else 'cpu'\n",
        "eval_iters = 200\n",
        "n_embd = 64\n",
        "n_head = 4\n",
        "n_layer = 4\n",
        "dropout = 0.0\n",
        "\n",
        "torch.manual_seed(1337)\n",
        "\n",
        "\n",
        "@torch.no_grad()\n",
        "def estimate_loss():\n",
        "    out = {}\n",
        "    model.eval()\n",
        "    for split in ['train', 'val']:\n",
        "        losses = torch.zeros(eval_iters)\n",
        "        for k in range(eval_iters):\n",
        "            X, Y = get_batch(split)\n",
        "            logits, loss = model(X, Y)\n",
        "            losses[k] = loss.item()\n",
        "        out[split] = losses.mean()\n",
        "    model.train()\n",
        "    return out\n",
        "\n",
        "def get_batch(split):\n",
        "    # generate a small batch of data of inputs x and targets y\n",
        "    data = train_data if split == 'train' else val_data\n",
        "    ix = torch.randint(len(data) - block_size, (batch_size,))\n",
        "    x = torch.stack([data[i:i+block_size] for i in ix])\n",
        "    y = torch.stack([data[i+1:i+block_size+1] for i in ix])\n",
        "    x, y = x.to(device), y.to(device)\n",
        "    return x, y"
      ],
      "metadata": {
        "id": "Uvt8WLvrl0Ph"
      },
      "execution_count": 19,
      "outputs": []
    },
    {
      "cell_type": "code",
      "source": [
        "class Head(nn.Module):\n",
        "    def __init__(self, head_size):\n",
        "        super().__init__()\n",
        "        self.key = nn.Linear(n_embd, head_size, bias=False)\n",
        "        self.query = nn.Linear(n_embd, head_size, bias=False)\n",
        "        self.value = nn.Linear(n_embd, head_size, bias=False)\n",
        "        self.dropout = nn.Dropout(dropout)\n",
        "\n",
        "    def forward(self, x):\n",
        "        B, T, C = x.shape\n",
        "        k = self.key(x)   # (B,T,hs)\n",
        "        q = self.query(x) # (B,T,hs)\n",
        "\n",
        "        # 🌀 Apply RoPE here!\n",
        "        q, k = apply_rope(q, k)\n",
        "\n",
        "        wei = q @ k.transpose(-2, -1) * (C ** -0.5)  # (B,T,T)\n",
        "        wei = wei.masked_fill(torch.tril(torch.ones(T, T, device=x.device)) == 0, float('-inf'))\n",
        "        wei = F.softmax(wei, dim=-1)\n",
        "        wei = self.dropout(wei)\n",
        "\n",
        "        v = self.value(x)  # (B,T,hs)\n",
        "        out = wei @ v      # (B,T,hs)\n",
        "        return out\n",
        "\n",
        "\n",
        "class MultiHeadAttention(nn.Module):\n",
        "    \"\"\" multiple heads of self-attention in parallel \"\"\"\n",
        "\n",
        "    def __init__(self, num_heads, head_size):\n",
        "        super().__init__()\n",
        "\n",
        "        # Goal: (B, T, C) → (B, T, n_head, head_dim)\n",
        "\n",
        "        self.heads = nn.ModuleList([Head(head_size) for _ in range(num_heads)])\n",
        "        self.proj = nn.Linear(n_embd, n_embd)\n",
        "        self.dropout = nn.Dropout(dropout)\n",
        "\n",
        "    def forward(self, x):\n",
        "        out = torch.cat([h(x) for h in self.heads], dim=-1)\n",
        "        out = self.dropout(self.proj(out))\n",
        "        return out\n",
        "\n",
        "\n",
        "class FeedFoward(nn.Module):\n",
        "    \"\"\" a simple linear layer followed by a non-linearity \"\"\"\n",
        "\n",
        "    def __init__(self, n_embd):\n",
        "        super().__init__()\n",
        "        self.net = nn.Sequential(\n",
        "            nn.Linear(n_embd, 4 * n_embd),\n",
        "            nn.ReLU(),\n",
        "            nn.Linear(4 * n_embd, n_embd),\n",
        "            nn.Dropout(dropout),\n",
        "        )\n",
        "\n",
        "    def forward(self, x):\n",
        "        return self.net(x)\n",
        "\n",
        "class Block(nn.Module):\n",
        "    \"\"\" Transformer block: communication followed by computation \"\"\"\n",
        "\n",
        "    def __init__(self, n_embd, n_head):\n",
        "        # n_embd: embedding dimension, n_head: the number of heads we'd like\n",
        "        super().__init__()\n",
        "        head_size = n_embd // n_head\n",
        "        self.sa = MultiHeadAttention(n_head, head_size)\n",
        "        self.ffwd = FeedFoward(n_embd)\n",
        "        self.ln1 = nn.LayerNorm(n_embd)\n",
        "        self.ln2 = nn.LayerNorm(n_embd)\n",
        "\n",
        "    def forward(self, x):\n",
        "        x = x + self.sa(self.ln1(x))\n",
        "        x = x + self.ffwd(self.ln2(x))\n",
        "        return x"
      ],
      "metadata": {
        "id": "TQeZFjtGz3EB"
      },
      "execution_count": 20,
      "outputs": []
    },
    {
      "cell_type": "code",
      "source": [
        "class GPTLanguageModelRoPE(nn.Module):\n",
        "\n",
        "    def __init__(self):\n",
        "        super().__init__()\n",
        "        # each token directly reads off the logits for the next token from a lookup table\n",
        "        self.token_embedding_table = nn.Embedding(vocab_size, n_embd)\n",
        "        self.blocks = nn.Sequential(*[Block(n_embd, n_head=n_head) for _ in range(n_layer)])\n",
        "        self.ln_f = nn.LayerNorm(n_embd) # final layer norm\n",
        "        self.lm_head = nn.Linear(n_embd, vocab_size)\n",
        "\n",
        "        # better init, not covered in the original GPT video, but important, will cover in followup video\n",
        "        self.apply(self._init_weights)\n",
        "\n",
        "    def _init_weights(self, module):\n",
        "        if isinstance(module, nn.Linear):\n",
        "            torch.nn.init.normal_(module.weight, mean=0.0, std=0.02)\n",
        "            if module.bias is not None:\n",
        "                torch.nn.init.zeros_(module.bias)\n",
        "        elif isinstance(module, nn.Embedding):\n",
        "            torch.nn.init.normal_(module.weight, mean=0.0, std=0.02)\n",
        "\n",
        "    def forward(self, idx, targets=None):\n",
        "        B, T = idx.shape\n",
        "\n",
        "        # idx and targets are both (B,T) tensor of integers\n",
        "        tok_emb = self.token_embedding_table(idx) # (B,T,C)\n",
        "        x = self.blocks(tok_emb) # (B,T,C)\n",
        "        x = self.ln_f(x) # (B,T,C)\n",
        "        logits = self.lm_head(x) # (B,T,vocab_size)\n",
        "\n",
        "        if targets is None:\n",
        "            loss = None\n",
        "        else:\n",
        "            B, T, C = logits.shape\n",
        "            logits = logits.view(B*T, C)\n",
        "            targets = targets.view(B*T)\n",
        "            loss = F.cross_entropy(logits, targets)\n",
        "\n",
        "        return logits, loss\n",
        "\n",
        "    def generate(self, idx, max_new_tokens):\n",
        "        # idx is (B, T) array of indices in the current context\n",
        "        for _ in range(max_new_tokens):\n",
        "            # crop idx to the last block_size tokens\n",
        "            idx_cond = idx[:, -block_size:]\n",
        "            # get the predictions\n",
        "            logits, loss = self(idx_cond)\n",
        "            # focus only on the last time step\n",
        "            logits = logits[:, -1, :] # becomes (B, C)\n",
        "            # apply softmax to get probabilities\n",
        "            probs = F.softmax(logits, dim=-1) # (B, C)\n",
        "            # sample from the distribution\n",
        "            idx_next = torch.multinomial(probs, num_samples=1) # (B, 1)\n",
        "            # append sampled index to the running sequence\n",
        "            idx = torch.cat((idx, idx_next), dim=1) # (B, T+1)\n",
        "        return idx\n",
        "\n",
        "model = GPTLanguageModelRoPE()\n",
        "m = model.to(device)\n",
        "# print the number of parameters in the model\n",
        "print(sum(p.numel() for p in m.parameters())/1e6, 'M parameters')"
      ],
      "metadata": {
        "colab": {
          "base_uri": "https://localhost:8080/"
        },
        "id": "e24jtqSCz1iX",
        "outputId": "7969f762-7168-4f87-819e-dc2cbeb45d14"
      },
      "execution_count": 21,
      "outputs": [
        {
          "output_type": "stream",
          "name": "stdout",
          "text": [
            "0.207681 M parameters\n"
          ]
        }
      ]
    },
    {
      "cell_type": "code",
      "source": [
        "optimizer = torch.optim.AdamW(model.parameters(), lr=learning_rate)"
      ],
      "metadata": {
        "id": "NP4hJ6ZWzywD"
      },
      "execution_count": 22,
      "outputs": []
    },
    {
      "cell_type": "code",
      "source": [
        "for iter in range(max_iters):\n",
        "\n",
        "    # every once in a while evaluate the loss on train and val sets\n",
        "    if iter % eval_interval == 0 or iter == max_iters - 1:\n",
        "        losses = estimate_loss()\n",
        "        print(f\"step {iter}: train loss {losses['train']:.4f}, val loss {losses['val']:.4f}\")\n",
        "\n",
        "    # sample a batch of data\n",
        "    xb, yb = get_batch('train')\n",
        "\n",
        "    # evaluate the loss\n",
        "    logits, loss = model(xb, yb)\n",
        "    optimizer.zero_grad(set_to_none=True)\n",
        "    loss.backward()\n",
        "    optimizer.step()"
      ],
      "metadata": {
        "colab": {
          "base_uri": "https://localhost:8080/"
        },
        "id": "nzgwYaR4zvgh",
        "outputId": "38d68b1c-bb2a-4963-ed30-e561d4d384ea"
      },
      "execution_count": 23,
      "outputs": [
        {
          "output_type": "stream",
          "name": "stdout",
          "text": [
            "step 0: train loss 4.1342, val loss 4.1351\n",
            "step 100: train loss 2.5553, val loss 2.5588\n",
            "step 200: train loss 2.3960, val loss 2.4000\n",
            "step 300: train loss 2.2726, val loss 2.2647\n",
            "step 400: train loss 2.1925, val loss 2.2111\n",
            "step 500: train loss 2.1081, val loss 2.1352\n",
            "step 600: train loss 2.0624, val loss 2.1023\n",
            "step 700: train loss 2.0100, val loss 2.0619\n",
            "step 800: train loss 1.9947, val loss 2.0386\n",
            "step 900: train loss 1.9528, val loss 2.0154\n",
            "step 1000: train loss 1.9155, val loss 1.9816\n",
            "step 1100: train loss 1.8957, val loss 1.9876\n",
            "step 1200: train loss 1.8621, val loss 1.9671\n",
            "step 1300: train loss 1.8574, val loss 1.9641\n",
            "step 1400: train loss 1.8243, val loss 1.9581\n",
            "step 1500: train loss 1.8157, val loss 1.9177\n",
            "step 1600: train loss 1.8071, val loss 1.9367\n",
            "step 1700: train loss 1.7676, val loss 1.9163\n",
            "step 1800: train loss 1.7758, val loss 1.9300\n",
            "step 1900: train loss 1.7566, val loss 1.8964\n",
            "step 2000: train loss 1.7513, val loss 1.8910\n",
            "step 2100: train loss 1.7347, val loss 1.8899\n",
            "step 2200: train loss 1.7293, val loss 1.8973\n",
            "step 2300: train loss 1.7191, val loss 1.8845\n",
            "step 2400: train loss 1.7087, val loss 1.8755\n",
            "step 2500: train loss 1.7056, val loss 1.8644\n",
            "step 2600: train loss 1.7045, val loss 1.8429\n",
            "step 2700: train loss 1.6917, val loss 1.8490\n",
            "step 2800: train loss 1.6821, val loss 1.8460\n",
            "step 2900: train loss 1.6753, val loss 1.8222\n",
            "step 3000: train loss 1.6662, val loss 1.8272\n",
            "step 3100: train loss 1.6543, val loss 1.8274\n",
            "step 3200: train loss 1.6689, val loss 1.8405\n",
            "step 3300: train loss 1.6562, val loss 1.8629\n",
            "step 3400: train loss 1.6391, val loss 1.8259\n",
            "step 3500: train loss 1.6470, val loss 1.8325\n",
            "step 3600: train loss 1.6428, val loss 1.8111\n",
            "step 3700: train loss 1.6415, val loss 1.8216\n",
            "step 3800: train loss 1.6275, val loss 1.8038\n",
            "step 3900: train loss 1.6301, val loss 1.7904\n",
            "step 4000: train loss 1.6247, val loss 1.7822\n",
            "step 4100: train loss 1.6288, val loss 1.8047\n",
            "step 4200: train loss 1.6165, val loss 1.8049\n",
            "step 4300: train loss 1.6019, val loss 1.7675\n",
            "step 4400: train loss 1.6105, val loss 1.7798\n",
            "step 4500: train loss 1.6087, val loss 1.7963\n",
            "step 4600: train loss 1.5982, val loss 1.7954\n",
            "step 4700: train loss 1.5934, val loss 1.7827\n",
            "step 4800: train loss 1.5997, val loss 1.7880\n",
            "step 4900: train loss 1.5917, val loss 1.7774\n",
            "step 4999: train loss 1.5858, val loss 1.7777\n"
          ]
        }
      ]
    },
    {
      "cell_type": "code",
      "source": [
        "# generate from the model\n",
        "context = torch.zeros((1, 1), dtype=torch.long, device=device)\n",
        "print(decode(m.generate(context, max_new_tokens=500)[0].tolist()))"
      ],
      "metadata": {
        "colab": {
          "base_uri": "https://localhost:8080/"
        },
        "id": "V0WXK0eVztrP",
        "outputId": "3bd6a9f4-6c49-4db3-a970-6f8f90a1a61f"
      },
      "execution_count": 24,
      "outputs": [
        {
          "output_type": "stream",
          "name": "stdout",
          "text": [
            "\n",
            "\n",
            "\n",
            "CORIORS:\n",
            "Nock?\n",
            "\n",
            "STANLO:\n",
            "Gree\n",
            "Your take you encatizen my dage and bard thy put him to bard:\n",
            "Are ane away, my fears accezorous\n",
            "Yorks, to that I commillod!\n",
            "\n",
            "ARCAS:\n",
            "Helps, I in latter, drop the deep me nor timerabs!\n",
            "\n",
            "AUFORD:\n",
            "Though she couriby:\n",
            "Suppiniss him young to send more signion.\n",
            "\n",
            "DUKE OF GARS:\n",
            "\n",
            "Go Willon him eimselves thought will no deeds poor of his but than nuntry brink;\n",
            "And he must with allook, figh Prince, So my Had so, are you as\n",
            "ards brings and thining mischard.\n",
            "\n",
            "CRIUTIO:\n",
            "Farew thoug\n"
          ]
        }
      ]
    },
    {
      "cell_type": "code",
      "source": [
        "batch_size = 16\n",
        "block_size = 32\n",
        "max_iters = 5000\n",
        "eval_interval = 100\n",
        "learning_rate = 1e-3\n",
        "device = 'cuda' if torch.cuda.is_available() else 'cpu'\n",
        "eval_iters = 200\n",
        "n_embd = 64\n",
        "n_head = 4\n",
        "n_layer = 4\n",
        "dropout = 0.0\n",
        "\n",
        "torch.manual_seed(1337)\n",
        "\n",
        "\n",
        "@torch.no_grad()\n",
        "def estimate_loss():\n",
        "    out = {}\n",
        "    model.eval()\n",
        "    for split in ['train', 'val']:\n",
        "        losses = torch.zeros(eval_iters)\n",
        "        for k in range(eval_iters):\n",
        "            X, Y = get_batch(split)\n",
        "            logits, loss = model(X, Y)\n",
        "            losses[k] = loss.item()\n",
        "        out[split] = losses.mean()\n",
        "    model.train()\n",
        "    return out\n",
        "\n",
        "def get_batch(split):\n",
        "    # generate a small batch of data of inputs x and targets y\n",
        "    data = train_data if split == 'train' else val_data\n",
        "    ix = torch.randint(len(data) - block_size, (batch_size,))\n",
        "    x = torch.stack([data[i:i+block_size] for i in ix])\n",
        "    y = torch.stack([data[i+1:i+block_size+1] for i in ix])\n",
        "    x, y = x.to(device), y.to(device)\n",
        "    return x, y"
      ],
      "metadata": {
        "id": "i621yrxH6bEF"
      },
      "execution_count": 10,
      "outputs": []
    },
    {
      "cell_type": "code",
      "source": [
        "class MultiHeadAttention(nn.Module):\n",
        "    \"\"\" multiple heads of self-attention in parallel \"\"\"\n",
        "\n",
        "    def __init__(self, num_heads, head_size):\n",
        "        super().__init__()\n",
        "\n",
        "        # Goal: (B, T, C) → (B, T, n_head, head_dim)\n",
        "        self.n_head = n_head\n",
        "        self.head_size = head_size\n",
        "        self.key = nn.Linear(n_embd, head_size, bias=False)\n",
        "        self.query = nn.Linear(n_embd, head_size, bias=False)\n",
        "        self.value = nn.Linear(n_embd, head_size, bias=False)\n",
        "        self.proj = nn.Linear(n_embd, n_embd)\n",
        "        self.dropout = nn.Dropout(dropout)\n",
        "\n",
        "        # self.heads = nn.ModuleList([Head(head_size) for _ in range(num_heads)])\n",
        "\n",
        "    def forward(self, x):\n",
        "        k = self.key(x).view(B, T, self.n_head, self.head_size).transpose(1, 2)  # (B, nh, T, hs)\n",
        "        q = self.query(x).view(B, T, self.n_head, self.head_size).transpose(1, 2)  # (B, nh, T, hs)\n",
        "\n",
        "        q, k = apply_rope(q, k)  # (B, nh, T, hs)\n",
        "\n",
        "        wei = q @ k.transpose(-2, -1) * (self.head_size ** -0.5)  # (B, nh, T, T)\n",
        "        wei = wei.masked_fill(torch.tril(torch.ones(T, T, device=x.device)) == 0, float('-inf'))\n",
        "        wei = F.softmax(wei, dim=-1)\n",
        "        wei = self.dropout(wei)\n",
        "\n",
        "        v = self.value(x).view(B, T, self.n_head, self.head_size).transpose(1, 2)  # (B, nh, T, hs)\n",
        "        out = wei @ v  # (B, nh, T, hs)\n",
        "        out = out.transpose(1, 2).contiguous().view(B, T, self.n_head * self.head_size)  # (B, T, C)\n",
        "        return self.dropout(self.proj(out))\n",
        "\n",
        "\n",
        "class FeedFoward(nn.Module):\n",
        "    \"\"\" a simple linear layer followed by a non-linearity \"\"\"\n",
        "\n",
        "    def __init__(self, n_embd):\n",
        "        super().__init__()\n",
        "        self.net = nn.Sequential(\n",
        "            nn.Linear(n_embd, 4 * n_embd),\n",
        "            nn.ReLU(),\n",
        "            nn.Linear(4 * n_embd, n_embd),\n",
        "            nn.Dropout(dropout),\n",
        "        )\n",
        "\n",
        "    def forward(self, x):\n",
        "        return self.net(x)\n",
        "\n",
        "class Block(nn.Module):\n",
        "    \"\"\" Transformer block: communication followed by computation \"\"\"\n",
        "\n",
        "    def __init__(self, n_embd, n_head):\n",
        "        # n_embd: embedding dimension, n_head: the number of heads we'd like\n",
        "        super().__init__()\n",
        "        head_size = n_embd // n_head\n",
        "        self.sa = MultiHeadAttention(n_head, head_size)\n",
        "        self.ffwd = FeedFoward(n_embd)\n",
        "        self.ln1 = nn.LayerNorm(n_embd)\n",
        "        self.ln2 = nn.LayerNorm(n_embd)\n",
        "\n",
        "    def forward(self, x):\n",
        "        x = x + self.sa(self.ln1(x))\n",
        "        x = x + self.ffwd(self.ln2(x))\n",
        "        return x"
      ],
      "metadata": {
        "id": "-a-51sRL6h5F"
      },
      "execution_count": 11,
      "outputs": []
    },
    {
      "cell_type": "code",
      "source": [
        "class GPTLanguageModelRoPE(nn.Module):\n",
        "\n",
        "    def __init__(self):\n",
        "        super().__init__()\n",
        "        # each token directly reads off the logits for the next token from a lookup table\n",
        "        self.token_embedding_table = nn.Embedding(vocab_size, n_embd)\n",
        "        self.blocks = nn.Sequential(*[Block(n_embd, n_head=n_head) for _ in range(n_layer)])\n",
        "        self.ln_f = nn.LayerNorm(n_embd) # final layer norm\n",
        "        self.lm_head = nn.Linear(n_embd, vocab_size)\n",
        "\n",
        "        # better init, not covered in the original GPT video, but important, will cover in followup video\n",
        "        self.apply(self._init_weights)\n",
        "\n",
        "    def _init_weights(self, module):\n",
        "        if isinstance(module, nn.Linear):\n",
        "            torch.nn.init.normal_(module.weight, mean=0.0, std=0.02)\n",
        "            if module.bias is not None:\n",
        "                torch.nn.init.zeros_(module.bias)\n",
        "        elif isinstance(module, nn.Embedding):\n",
        "            torch.nn.init.normal_(module.weight, mean=0.0, std=0.02)\n",
        "\n",
        "    def forward(self, idx, targets=None):\n",
        "        B, T = idx.shape\n",
        "\n",
        "        # idx and targets are both (B,T) tensor of integers\n",
        "        tok_emb = self.token_embedding_table(idx) # (B,T,C)\n",
        "        x = self.blocks(tok_emb) # (B,T,C)\n",
        "        x = self.ln_f(x) # (B,T,C)\n",
        "        logits = self.lm_head(x) # (B,T,vocab_size)\n",
        "\n",
        "        if targets is None:\n",
        "            loss = None\n",
        "        else:\n",
        "            B, T, C = logits.shape\n",
        "            logits = logits.view(B*T, C)\n",
        "            targets = targets.view(B*T)\n",
        "            loss = F.cross_entropy(logits, targets)\n",
        "\n",
        "        return logits, loss\n",
        "\n",
        "    def generate(self, idx, max_new_tokens):\n",
        "        # idx is (B, T) array of indices in the current context\n",
        "        for _ in range(max_new_tokens):\n",
        "            # crop idx to the last block_size tokens\n",
        "            idx_cond = idx[:, -block_size:]\n",
        "            # get the predictions\n",
        "            logits, loss = self(idx_cond)\n",
        "            # focus only on the last time step\n",
        "            logits = logits[:, -1, :] # becomes (B, C)\n",
        "            # apply softmax to get probabilities\n",
        "            probs = F.softmax(logits, dim=-1) # (B, C)\n",
        "            # sample from the distribution\n",
        "            idx_next = torch.multinomial(probs, num_samples=1) # (B, 1)\n",
        "            # append sampled index to the running sequence\n",
        "            idx = torch.cat((idx, idx_next), dim=1) # (B, T+1)\n",
        "        return idx\n",
        "\n",
        "model = GPTLanguageModelRoPE()\n",
        "m = model.to(device)\n",
        "# print the number of parameters in the model\n",
        "print(sum(p.numel() for p in m.parameters())/1e6, 'M parameters')"
      ],
      "metadata": {
        "id": "Uhe94dd06joh",
        "outputId": "70b5ef9c-d477-4b97-8ddc-ae7253a6a59d",
        "colab": {
          "base_uri": "https://localhost:8080/"
        }
      },
      "execution_count": 12,
      "outputs": [
        {
          "output_type": "stream",
          "name": "stdout",
          "text": [
            "0.170817 M parameters\n"
          ]
        }
      ]
    },
    {
      "cell_type": "code",
      "source": [
        "optimizer = torch.optim.AdamW(model.parameters(), lr=learning_rate)"
      ],
      "metadata": {
        "id": "uNm8qy5K7yTg"
      },
      "execution_count": 15,
      "outputs": []
    },
    {
      "cell_type": "code",
      "source": [
        "for iter in range(max_iters):\n",
        "\n",
        "    # every once in a while evaluate the loss on train and val sets\n",
        "    if iter % eval_interval == 0 or iter == max_iters - 1:\n",
        "        losses = estimate_loss()\n",
        "        print(f\"step {iter}: train loss {losses['train']:.4f}, val loss {losses['val']:.4f}\")\n",
        "\n",
        "    # sample a batch of data\n",
        "    xb, yb = get_batch('train')\n",
        "\n",
        "    # evaluate the loss\n",
        "    logits, loss = model(xb, yb)\n",
        "    optimizer.zero_grad(set_to_none=True)\n",
        "    loss.backward()\n",
        "    optimizer.step()"
      ],
      "metadata": {
        "id": "O7r9JUZW77tJ",
        "outputId": "d1e3a51b-21a9-45e6-9f80-2b368414131a",
        "colab": {
          "base_uri": "https://localhost:8080/"
        }
      },
      "execution_count": 16,
      "outputs": [
        {
          "output_type": "stream",
          "name": "stdout",
          "text": [
            "step 0: train loss 4.2168, val loss 4.2160\n",
            "step 100: train loss 2.5629, val loss 2.5662\n",
            "step 200: train loss 2.3928, val loss 2.3917\n",
            "step 300: train loss 2.2762, val loss 2.2927\n",
            "step 400: train loss 2.1660, val loss 2.1880\n",
            "step 500: train loss 2.1111, val loss 2.1362\n",
            "step 600: train loss 2.0661, val loss 2.1055\n",
            "step 700: train loss 2.0084, val loss 2.0638\n",
            "step 800: train loss 1.9688, val loss 2.0263\n",
            "step 900: train loss 1.9484, val loss 2.0119\n",
            "step 1000: train loss 1.9265, val loss 2.0104\n",
            "step 1100: train loss 1.9016, val loss 1.9851\n",
            "step 1200: train loss 1.8652, val loss 1.9619\n",
            "step 1300: train loss 1.8453, val loss 1.9359\n",
            "step 1400: train loss 1.8210, val loss 1.9163\n",
            "step 1500: train loss 1.8061, val loss 1.9274\n",
            "step 1600: train loss 1.7991, val loss 1.9350\n",
            "step 1700: train loss 1.7722, val loss 1.9135\n",
            "step 1800: train loss 1.7670, val loss 1.8913\n",
            "step 1900: train loss 1.7542, val loss 1.8879\n",
            "step 2000: train loss 1.7535, val loss 1.8984\n",
            "step 2100: train loss 1.7462, val loss 1.8882\n",
            "step 2200: train loss 1.7254, val loss 1.8659\n",
            "step 2300: train loss 1.7146, val loss 1.8664\n",
            "step 2400: train loss 1.7080, val loss 1.8612\n",
            "step 2500: train loss 1.7053, val loss 1.8803\n",
            "step 2600: train loss 1.6996, val loss 1.8641\n",
            "step 2700: train loss 1.6907, val loss 1.8454\n",
            "step 2800: train loss 1.6755, val loss 1.8377\n",
            "step 2900: train loss 1.6756, val loss 1.8552\n",
            "step 3000: train loss 1.6722, val loss 1.8560\n",
            "step 3100: train loss 1.6616, val loss 1.8252\n",
            "step 3200: train loss 1.6631, val loss 1.8372\n",
            "step 3300: train loss 1.6548, val loss 1.8237\n",
            "step 3400: train loss 1.6577, val loss 1.8331\n",
            "step 3500: train loss 1.6396, val loss 1.8315\n",
            "step 3600: train loss 1.6439, val loss 1.8080\n",
            "step 3700: train loss 1.6437, val loss 1.8027\n",
            "step 3800: train loss 1.6338, val loss 1.7970\n",
            "step 3900: train loss 1.6266, val loss 1.7988\n",
            "step 4000: train loss 1.6189, val loss 1.7937\n",
            "step 4100: train loss 1.6084, val loss 1.7950\n",
            "step 4200: train loss 1.6110, val loss 1.7824\n",
            "step 4300: train loss 1.6092, val loss 1.7849\n",
            "step 4400: train loss 1.6028, val loss 1.7814\n",
            "step 4500: train loss 1.6106, val loss 1.7748\n",
            "step 4600: train loss 1.6032, val loss 1.7769\n",
            "step 4700: train loss 1.6112, val loss 1.7660\n",
            "step 4800: train loss 1.5935, val loss 1.7748\n",
            "step 4900: train loss 1.5977, val loss 1.7554\n",
            "step 4999: train loss 1.5866, val loss 1.7530\n"
          ]
        }
      ]
    },
    {
      "cell_type": "code",
      "source": [
        "# generate from the model\n",
        "context = torch.zeros((1, 1), dtype=torch.long, device=device)\n",
        "print(decode(m.generate(context, max_new_tokens=500)[0].tolist()))"
      ],
      "metadata": {
        "id": "Kt2FGu9N8FIe",
        "outputId": "0a5f9577-471b-4e89-afd5-b5b4ce79d954",
        "colab": {
          "base_uri": "https://localhost:8080/"
        }
      },
      "execution_count": 17,
      "outputs": [
        {
          "output_type": "stream",
          "name": "stdout",
          "text": [
            "\n",
            "Will before will affect to be made to bear to take OF IS:\n",
            "Falleans bard thy pusquest. that dilahoate away, my feans, to zonour\n",
            "Young-moof it her, this nowl, with is ensent, will is till vising,\n",
            "Which now till about like dise of the mild him speak; and the tyban'st,\n",
            "He mayore sign sweet\n",
            "the sclike again Willo when evil so, and doubt, The shire\n",
            "sto-LiKe him to\n",
            "he kindness firs son; if his shate.\n",
            "\n",
            "RICHARD:\n",
            "Your Prince, Sometranger and tooblisa\n",
            "ards be his greature hence as is no very sold\n",
            "To for th\n"
          ]
        }
      ]
    },
    {
      "cell_type": "markdown",
      "source": [
        "# Result:\n",
        "- First Experiment - No Parallel heads\n",
        "  - final step train loss 1.5858, val loss 1.7777\n",
        "  - Execution Time: ~ 8min 30\n",
        "\n",
        "- Second Experiment - Parallel heads:\n",
        "  - final step: train loss 1.5866, val loss 1.7530\n",
        "  - Execution Time: ~ 8min 30\n",
        "\n",
        "# Observation\n",
        "- Sequential heads have more parameters: 3 x n_head Linear layers.\n",
        "\n"
      ],
      "metadata": {
        "id": "qtVPw_St42ze"
      }
    }
  ]
}