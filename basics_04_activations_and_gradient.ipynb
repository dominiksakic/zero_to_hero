{
  "nbformat": 4,
  "nbformat_minor": 0,
  "metadata": {
    "colab": {
      "provenance": [],
      "authorship_tag": "ABX9TyP8UtjIzMGWypeSDNRcQ7aK",
      "include_colab_link": true
    },
    "kernelspec": {
      "name": "python3",
      "display_name": "Python 3"
    },
    "language_info": {
      "name": "python"
    }
  },
  "cells": [
    {
      "cell_type": "markdown",
      "metadata": {
        "id": "view-in-github",
        "colab_type": "text"
      },
      "source": [
        "<a href=\"https://colab.research.google.com/github/dominiksakic/zero_to_hero/blob/main/basics_04_activations_and_gradient.ipynb\" target=\"_parent\"><img src=\"https://colab.research.google.com/assets/colab-badge.svg\" alt=\"Open In Colab\"/></a>"
      ]
    },
    {
      "cell_type": "code",
      "execution_count": 5,
      "metadata": {
        "colab": {
          "base_uri": "https://localhost:8080/"
        },
        "id": "W8zyGtkzEtmy",
        "outputId": "bf5f7c40-e703-4140-b840-c26addbb4d15"
      },
      "outputs": [
        {
          "output_type": "stream",
          "name": "stdout",
          "text": [
            "--2025-06-25 23:43:40--  https://raw.githubusercontent.com/karpathy/makemore/master/names.txt\n",
            "Resolving raw.githubusercontent.com (raw.githubusercontent.com)... 185.199.108.133, 185.199.109.133, 185.199.110.133, ...\n",
            "Connecting to raw.githubusercontent.com (raw.githubusercontent.com)|185.199.108.133|:443... connected.\n",
            "HTTP request sent, awaiting response... 200 OK\n",
            "Length: 228145 (223K) [text/plain]\n",
            "Saving to: ‘names.txt’\n",
            "\n",
            "names.txt           100%[===================>] 222.80K  --.-KB/s    in 0.04s   \n",
            "\n",
            "2025-06-25 23:43:40 (6.12 MB/s) - ‘names.txt’ saved [228145/228145]\n",
            "\n"
          ]
        }
      ],
      "source": [
        "# download the names.txt file from github\n",
        "!wget https://raw.githubusercontent.com/karpathy/makemore/master/names.txt"
      ]
    },
    {
      "cell_type": "code",
      "source": [
        "import torch\n",
        "import torch.nn.functional as F\n",
        "import matplotlib.pyplot as plt # for making figures\n",
        "%matplotlib inline"
      ],
      "metadata": {
        "id": "gaSHD7g-FD_X"
      },
      "execution_count": 6,
      "outputs": []
    },
    {
      "cell_type": "code",
      "source": [
        "words = open('names.txt', 'r').read().splitlines()"
      ],
      "metadata": {
        "id": "GD5OdvJ3FGbV"
      },
      "execution_count": 8,
      "outputs": []
    },
    {
      "cell_type": "code",
      "source": [
        "# build vocab and mappings to/from integers\n",
        "chars = sorted(list(set(''.join(words))))\n",
        "stoi = {s: i + 1 for i, s in enumerate(chars)}\n",
        "stoi['.'] = 0\n",
        "itos = {i : s for s, i in stoi.items()}\n",
        "vocab_size = len(itos)"
      ],
      "metadata": {
        "id": "ied_V0f-FIPn"
      },
      "execution_count": 9,
      "outputs": []
    },
    {
      "cell_type": "code",
      "source": [
        "# build the dataset\n",
        "block_size = 3\n",
        "\n",
        "def build_dataset(words):\n",
        "  X, Y = [], []\n",
        "  for w in words:\n",
        "\n",
        "    #print(w)\n",
        "    context = [0] * block_size\n",
        "    for ch in w + '.':\n",
        "      ix = stoi[ch]\n",
        "      X.append(context)\n",
        "      Y.append(ix)\n",
        "      context = context[1:] + [ix] # crop and append\n",
        "\n",
        "  X = torch.tensor(X)\n",
        "  Y = torch.tensor(Y)\n",
        "  print(X.shape, Y.shape)\n",
        "  return X, Y\n",
        "\n",
        "import random\n",
        "random.seed(42)\n",
        "random.shuffle(words)\n",
        "n1 = int(0.8*len(words))\n",
        "n2 = int(0.9*len(words))\n",
        "\n",
        "Xtr, Ytr = build_dataset(words[:n1])\n",
        "Xdev, Ydev = build_dataset(words[n1:n2])\n",
        "Xte, Yte = build_dataset(words[n2:])"
      ],
      "metadata": {
        "colab": {
          "base_uri": "https://localhost:8080/"
        },
        "id": "SP7Bz11JFKtd",
        "outputId": "4a05f0fa-1260-4b5f-ec42-eebfcbeeb64e"
      },
      "execution_count": 10,
      "outputs": [
        {
          "output_type": "stream",
          "name": "stdout",
          "text": [
            "torch.Size([182625, 3]) torch.Size([182625])\n",
            "torch.Size([22655, 3]) torch.Size([22655])\n",
            "torch.Size([22866, 3]) torch.Size([22866])\n"
          ]
        }
      ]
    },
    {
      "cell_type": "code",
      "source": [
        "n_embd = 10\n",
        "n_hidden = 200\n",
        "\n",
        "\n",
        "g = torch.Generator().manual_seed(2147483647)\n",
        "C = torch.randn((vocab_size, n_embd),             generator=g)\n",
        "W1 = torch.randn((n_embd * block_size, n_hidden), generator=g)\n",
        "b1 = torch.randn(n_hidden,                        generator=g)\n",
        "W2 = torch.randn((n_hidden, vocab_size),          generator=g)\n",
        "b2 = torch.randn(vocab_size,                      generator=g)\n",
        "\n",
        "parameters = [C, W1, b1, W2, b2]"
      ],
      "metadata": {
        "id": "I-EMYwneFMzN"
      },
      "execution_count": 11,
      "outputs": []
    },
    {
      "cell_type": "code",
      "source": [
        "total_param = sum(p.nelement() for p in parameters)\n",
        "print(f\"Total params: {total_param}\")\n",
        "\n",
        "for p in parameters:\n",
        "  p.requires_grad = True"
      ],
      "metadata": {
        "colab": {
          "base_uri": "https://localhost:8080/"
        },
        "id": "wf1KoWA7FqaQ",
        "outputId": "3a58d9e9-2400-4328-849b-e62c22285193"
      },
      "execution_count": 12,
      "outputs": [
        {
          "output_type": "stream",
          "name": "stdout",
          "text": [
            "Total params: 11897\n"
          ]
        }
      ]
    },
    {
      "cell_type": "code",
      "source": [
        "max_steps = 200000\n",
        "batch_size = 32\n",
        "lossi = []\n",
        "\n",
        "for i in range(max_steps):\n",
        "\n",
        "  # minibatch construct\n",
        "  ix = torch.randint(0, Xtr.shape[0], (batch_size,), generator=g)\n",
        "  Xb, Yb = Xtr[ix], Ytr[ix]\n",
        "\n",
        "  # forward pass\n",
        "  emb = C[Xb]\n",
        "  embcat = emb.view(emb.shape[0], -1)\n",
        "  hpreact  = embcat @ W1 + b1\n",
        "  h = torch.tanh(hpreact)\n",
        "  logits = h @ W2 + b2\n",
        "  loss = F.cross_entropy(logits, Yb)\n",
        "\n",
        "  # backward pass\n",
        "  for p in parameters:\n",
        "    p.grad = None\n",
        "  loss.backward()\n",
        "\n",
        "  # update\n",
        "  lr = 0.1 if i < 100000 else 0.01\n",
        "  for p in parameters:\n",
        "    p.data += -lr * p.grad\n",
        "\n",
        "  # track stats, lri for finding a good lr\n",
        "  if i % 10000 == 0:\n",
        "    print(f\"{i:7d}/{max_steps:7d}: {loss.item():.4f}\")\n",
        "  lossi.append(loss.log10().item())"
      ],
      "metadata": {
        "colab": {
          "base_uri": "https://localhost:8080/"
        },
        "id": "lrBOvV5mF2Yk",
        "outputId": "42eefdbf-39f1-4cb0-c412-9b2995067a33"
      },
      "execution_count": 13,
      "outputs": [
        {
          "output_type": "stream",
          "name": "stdout",
          "text": [
            "      0/ 200000: 27.8817\n",
            "  10000/ 200000: 2.9415\n",
            "  20000/ 200000: 2.5069\n",
            "  30000/ 200000: 2.7998\n",
            "  40000/ 200000: 2.0261\n",
            "  50000/ 200000: 2.5863\n",
            "  60000/ 200000: 2.3420\n",
            "  70000/ 200000: 2.0952\n",
            "  80000/ 200000: 2.3454\n",
            "  90000/ 200000: 2.2365\n",
            " 100000/ 200000: 2.1080\n",
            " 110000/ 200000: 2.3831\n",
            " 120000/ 200000: 1.9898\n",
            " 130000/ 200000: 2.4591\n",
            " 140000/ 200000: 2.1910\n",
            " 150000/ 200000: 2.1606\n",
            " 160000/ 200000: 2.1811\n",
            " 170000/ 200000: 1.7997\n",
            " 180000/ 200000: 2.0962\n",
            " 190000/ 200000: 1.8052\n"
          ]
        }
      ]
    },
    {
      "cell_type": "code",
      "source": [
        "plt.plot(lossi)"
      ],
      "metadata": {
        "colab": {
          "base_uri": "https://localhost:8080/",
          "height": 448
        },
        "id": "22E6rshMISye",
        "outputId": "f4620b79-b8ad-43ad-b9f2-790896174025"
      },
      "execution_count": 14,
      "outputs": [
        {
          "output_type": "execute_result",
          "data": {
            "text/plain": [
              "[<matplotlib.lines.Line2D at 0x7d6d63421310>]"
            ]
          },
          "metadata": {},
          "execution_count": 14
        },
        {
          "output_type": "display_data",
          "data": {
            "text/plain": [
              "<Figure size 640x480 with 1 Axes>"
            ],
            "image/png": "[encoded data removed]"
          },
          "metadata": {}
        }
      ]
    },
    {
      "cell_type": "code",
      "source": [
        "@torch.no_grad()\n",
        "def calculate_loss(X, Y):\n",
        "  emb = C[X]\n",
        "  embcat =  emb.view(emb.shape[0], -1)\n",
        "  hpreact = embcat @ W1 + b1\n",
        "  h = torch.tanh(hpreact)\n",
        "  logits = h @ W2 + b2\n",
        "  loss = F.cross_entropy(logits, Y)\n",
        "  return loss.item()"
      ],
      "metadata": {
        "id": "wwwGcYPhIc8I"
      },
      "execution_count": 15,
      "outputs": []
    },
    {
      "cell_type": "code",
      "source": [
        "# training loss\n",
        "train_loss = calculate_loss(Xtr, Ytr)\n",
        "train_loss"
      ],
      "metadata": {
        "colab": {
          "base_uri": "https://localhost:8080/"
        },
        "id": "EfcpwwgyIlJ1",
        "outputId": "69a12322-aa7d-4f97-c3a2-3cffb97b7ad5"
      },
      "execution_count": 16,
      "outputs": [
        {
          "output_type": "execute_result",
          "data": {
            "text/plain": [
              "2.127678871154785"
            ]
          },
          "metadata": {},
          "execution_count": 16
        }
      ]
    },
    {
      "cell_type": "code",
      "source": [
        "# validation loss\n",
        "dev_loss = calculate_loss(Xdev, Ydev)\n",
        "dev_loss"
      ],
      "metadata": {
        "colab": {
          "base_uri": "https://localhost:8080/"
        },
        "id": "9jBi8Wl1ImJx",
        "outputId": "88bd5504-e99d-4f95-8246-ea953c1b6178"
      },
      "execution_count": 17,
      "outputs": [
        {
          "output_type": "execute_result",
          "data": {
            "text/plain": [
              "2.1750576496124268"
            ]
          },
          "metadata": {},
          "execution_count": 17
        }
      ]
    },
    {
      "cell_type": "code",
      "source": [
        "# test loss\n",
        "test_loss = calculate_loss(Xte, Yte)\n",
        "test_loss"
      ],
      "metadata": {
        "colab": {
          "base_uri": "https://localhost:8080/"
        },
        "id": "dDF4zwgKIoYH",
        "outputId": "fc943755-70a5-45a9-b5ed-9e0439e60b8c"
      },
      "execution_count": 18,
      "outputs": [
        {
          "output_type": "execute_result",
          "data": {
            "text/plain": [
              "2.1674134731292725"
            ]
          },
          "metadata": {},
          "execution_count": 18
        }
      ]
    },
    {
      "cell_type": "markdown",
      "source": [
        "# Exploring the Network initialization\n",
        "- The first loss recorded is quite high: 27\n",
        "- If we had a uniform distribution of the next letter, we would expect each letter to have the same out come: 1/27. The loss would equal to something around 3.2. (Take the neg likelihood of 1/27)\n",
        "- Question:\n",
        "  - Can we achieve the first loss to be 3.2, or asked differently, what values do the layers have to be initialized to, so that we have a Uniform distribution?"
      ],
      "metadata": {
        "id": "uREbwyQzJcul"
      }
    },
    {
      "cell_type": "code",
      "source": [
        "n_embd = 10\n",
        "n_hidden = 200\n",
        "\n",
        "\n",
        "g = torch.Generator().manual_seed(2147483647)\n",
        "C = torch.randn((vocab_size, n_embd),             generator=g)\n",
        "W1 = torch.randn((n_embd * block_size, n_hidden), generator=g)\n",
        "b1 = torch.randn(n_hidden,                        generator=g)\n",
        "W2 = torch.randn((n_hidden, vocab_size),          generator=g) * 0.01\n",
        "b2 = torch.randn(vocab_size,                      generator=g) * 0\n",
        "\n",
        "parameters = [C, W1, b1, W2, b2]"
      ],
      "metadata": {
        "id": "Kr11hE30KDdv"
      },
      "execution_count": 19,
      "outputs": []
    },
    {
      "cell_type": "markdown",
      "source": [
        "- Initializing the W2 to excatly 0 can lead to Neuron damage(see below)"
      ],
      "metadata": {
        "id": "eU_qHHoQKavY"
      }
    },
    {
      "cell_type": "code",
      "source": [
        "total_param = sum(p.nelement() for p in parameters)\n",
        "print(f\"Total params: {total_param}\")\n",
        "\n",
        "for p in parameters:\n",
        "  p.requires_grad = True"
      ],
      "metadata": {
        "colab": {
          "base_uri": "https://localhost:8080/"
        },
        "id": "var_PhREKG8t",
        "outputId": "7e060f5d-96c8-4db0-a4d9-40ef3761016e"
      },
      "execution_count": 20,
      "outputs": [
        {
          "output_type": "stream",
          "name": "stdout",
          "text": [
            "Total params: 11897\n"
          ]
        }
      ]
    },
    {
      "cell_type": "code",
      "source": [
        "max_steps = 200000\n",
        "batch_size = 32\n",
        "lossi = []\n",
        "\n",
        "for i in range(max_steps):\n",
        "\n",
        "  # minibatch construct\n",
        "  ix = torch.randint(0, Xtr.shape[0], (batch_size,), generator=g)\n",
        "  Xb, Yb = Xtr[ix], Ytr[ix]\n",
        "\n",
        "  # forward pass\n",
        "  emb = C[Xb]\n",
        "  embcat = emb.view(emb.shape[0], -1)\n",
        "  hpreact  = embcat @ W1 + b1\n",
        "  h = torch.tanh(hpreact)\n",
        "  logits = h @ W2 + b2\n",
        "  loss = F.cross_entropy(logits, Yb)\n",
        "\n",
        "  # backward pass\n",
        "  for p in parameters:\n",
        "    p.grad = None\n",
        "  loss.backward()\n",
        "\n",
        "  # update\n",
        "  lr = 0.1 if i < 100000 else 0.01\n",
        "  for p in parameters:\n",
        "    p.data += -lr * p.grad\n",
        "\n",
        "  # track stats, lri for finding a good lr\n",
        "  if i % 10000 == 0:\n",
        "    print(f\"{i:7d}/{max_steps:7d}: {loss.item():.4f}\")\n",
        "  lossi.append(loss.log10().item())\n"
      ],
      "metadata": {
        "colab": {
          "base_uri": "https://localhost:8080/"
        },
        "id": "IDx3OPPtKImF",
        "outputId": "3b099d46-e1b6-4e50-f55e-6f6826eb3255"
      },
      "execution_count": 21,
      "outputs": [
        {
          "output_type": "stream",
          "name": "stdout",
          "text": [
            "      0/ 200000: 3.3221\n",
            "  10000/ 200000: 2.1900\n",
            "  20000/ 200000: 2.4196\n",
            "  30000/ 200000: 2.6067\n",
            "  40000/ 200000: 2.0601\n",
            "  50000/ 200000: 2.4988\n",
            "  60000/ 200000: 2.3902\n",
            "  70000/ 200000: 2.1344\n",
            "  80000/ 200000: 2.3369\n",
            "  90000/ 200000: 2.1299\n",
            " 100000/ 200000: 1.8329\n",
            " 110000/ 200000: 2.2053\n",
            " 120000/ 200000: 1.8540\n",
            " 130000/ 200000: 2.4566\n",
            " 140000/ 200000: 2.1879\n",
            " 150000/ 200000: 2.1118\n",
            " 160000/ 200000: 1.8956\n",
            " 170000/ 200000: 1.8644\n",
            " 180000/ 200000: 2.0326\n",
            " 190000/ 200000: 1.8417\n"
          ]
        }
      ]
    },
    {
      "cell_type": "code",
      "source": [
        "plt.plot(lossi)"
      ],
      "metadata": {
        "colab": {
          "base_uri": "https://localhost:8080/",
          "height": 448
        },
        "id": "Weqgan2fLc7W",
        "outputId": "ffd94be2-fca4-4a75-a9d1-21f9c1ad2925"
      },
      "execution_count": 22,
      "outputs": [
        {
          "output_type": "execute_result",
          "data": {
            "text/plain": [
              "[<matplotlib.lines.Line2D at 0x7d6d62365050>]"
            ]
          },
          "metadata": {},
          "execution_count": 22
        },
        {
          "output_type": "display_data",
          "data": {
            "text/plain": [
              "<Figure size 640x480 with 1 Axes>"
            ],
            "image/png": "[encoded data removed]"
          },
          "metadata": {}
        }
      ]
    },
    {
      "cell_type": "code",
      "source": [
        "# training loss\n",
        "train_loss = calculate_loss(Xtr, Ytr)\n",
        "print(f\"Training loss: {train_loss}\")\n",
        "# validation loss\n",
        "dev_loss = calculate_loss(Xdev, Ydev)\n",
        "print(f\"Dev loss: {dev_loss}\")\n",
        "# test loss\n",
        "test_loss = calculate_loss(Xte, Yte)\n",
        "print(f\"Test loss: {test_loss}\")"
      ],
      "metadata": {
        "colab": {
          "base_uri": "https://localhost:8080/"
        },
        "id": "EpqSqeiELtJn",
        "outputId": "aba15e99-b9ad-4e55-f270-84013491135b"
      },
      "execution_count": 23,
      "outputs": [
        {
          "output_type": "stream",
          "name": "stdout",
          "text": [
            "Training loss: 2.0695888996124268\n",
            "Dev loss: 2.1310746669769287\n",
            "Test loss: 2.1328301429748535\n"
          ]
        }
      ]
    },
    {
      "cell_type": "markdown",
      "source": [
        "# Exploring the activation of the hidden layers!\n",
        "- squashing the values, can lead to a lot of 0, or 1 -> Which can lead to Dead neuron for the tanh.\n",
        "- Think about it from the backward pass. Starting from the loss, you flow backwards to the tanh. Than if you have values of -1 or 1 than you kill the Gradient flowing backward. -> Meaning the Gradient stops at the tanh Neuron and all the other Neurons cannot be optimized. (See below for vizulization)\n"
      ],
      "metadata": {
        "id": "El1uMLgGMb6f"
      }
    },
    {
      "cell_type": "code",
      "source": [
        "n_embd = 10\n",
        "n_hidden = 200\n",
        "\n",
        "\n",
        "g = torch.Generator().manual_seed(2147483647)\n",
        "C = torch.randn((vocab_size, n_embd),             generator=g)\n",
        "W1 = torch.randn((n_embd * block_size, n_hidden), generator=g)\n",
        "b1 = torch.randn(n_hidden,                        generator=g)\n",
        "W2 = torch.randn((n_hidden, vocab_size),          generator=g) * 0.01\n",
        "b2 = torch.randn(vocab_size,                      generator=g) * 0\n",
        "\n",
        "parameters = [C, W1, b1, W2, b2]"
      ],
      "metadata": {
        "id": "Fn0ow6GRMwT-"
      },
      "execution_count": 24,
      "outputs": []
    },
    {
      "cell_type": "code",
      "source": [
        "total_param = sum(p.nelement() for p in parameters)\n",
        "print(f\"Total params: {total_param}\")\n",
        "\n",
        "for p in parameters:\n",
        "  p.requires_grad = True"
      ],
      "metadata": {
        "colab": {
          "base_uri": "https://localhost:8080/"
        },
        "id": "u5KEVmH6Mxjc",
        "outputId": "e2cb8c25-4eb2-4584-8a12-a616fa24911a"
      },
      "execution_count": 25,
      "outputs": [
        {
          "output_type": "stream",
          "name": "stdout",
          "text": [
            "Total params: 11897\n"
          ]
        }
      ]
    },
    {
      "cell_type": "code",
      "source": [
        "max_steps = 200000\n",
        "batch_size = 32\n",
        "lossi = []\n",
        "\n",
        "for i in range(max_steps):\n",
        "\n",
        "  # minibatch construct\n",
        "  ix = torch.randint(0, Xtr.shape[0], (batch_size,), generator=g)\n",
        "  Xb, Yb = Xtr[ix], Ytr[ix]\n",
        "\n",
        "  # forward pass\n",
        "  emb = C[Xb]\n",
        "  embcat = emb.view(emb.shape[0], -1)\n",
        "  hpreact  = embcat @ W1 + b1\n",
        "  h = torch.tanh(hpreact)\n",
        "  logits = h @ W2 + b2\n",
        "  loss = F.cross_entropy(logits, Yb)\n",
        "\n",
        "  # backward pass\n",
        "  for p in parameters:\n",
        "    p.grad = None\n",
        "  loss.backward()\n",
        "\n",
        "  # update\n",
        "  lr = 0.1 if i < 100000 else 0.01\n",
        "  for p in parameters:\n",
        "    p.data += -lr * p.grad\n",
        "\n",
        "  # track stats, lri for finding a good lr\n",
        "  if i % 10000 == 0:\n",
        "    print(f\"{i:7d}/{max_steps:7d}: {loss.item():.4f}\")\n",
        "  lossi.append(loss.log10().item())\n",
        "  break"
      ],
      "metadata": {
        "colab": {
          "base_uri": "https://localhost:8080/"
        },
        "id": "17h8b5QzMy89",
        "outputId": "3801ba49-d350-4f5a-fce7-6921b000b512"
      },
      "execution_count": 26,
      "outputs": [
        {
          "output_type": "stream",
          "name": "stdout",
          "text": [
            "      0/ 200000: 3.3221\n"
          ]
        }
      ]
    },
    {
      "cell_type": "code",
      "source": [
        "plt.hist(h.view(-1).tolist(), 50)"
      ],
      "metadata": {
        "colab": {
          "base_uri": "https://localhost:8080/",
          "height": 667
        },
        "id": "bcR8qusBNBrA",
        "outputId": "ccfc3da5-1f08-43a8-db64-03bd39fb0c28"
      },
      "execution_count": 27,
      "outputs": [
        {
          "output_type": "execute_result",
          "data": {
            "text/plain": [
              "(array([2069.,  144.,  106.,   82.,   59.,   56.,   44.,   30.,   43.,\n",
              "          26.,   16.,   38.,   16.,   32.,   24.,   14.,   28.,   27.,\n",
              "          26.,   19.,   24.,   26.,   30.,   14.,   19.,   19.,   22.,\n",
              "          26.,   18.,   12.,   10.,   33.,   27.,   32.,   17.,   24.,\n",
              "          30.,   22.,   26.,   29.,   26.,   40.,   29.,   41.,   49.,\n",
              "          64.,   62.,  100.,  188., 2442.]),\n",
              " array([-1.  , -0.96, -0.92, -0.88, -0.84, -0.8 , -0.76, -0.72, -0.68,\n",
              "        -0.64, -0.6 , -0.56, -0.52, -0.48, -0.44, -0.4 , -0.36, -0.32,\n",
              "        -0.28, -0.24, -0.2 , -0.16, -0.12, -0.08, -0.04,  0.  ,  0.04,\n",
              "         0.08,  0.12,  0.16,  0.2 ,  0.24,  0.28,  0.32,  0.36,  0.4 ,\n",
              "         0.44,  0.48,  0.52,  0.56,  0.6 ,  0.64,  0.68,  0.72,  0.76,\n",
              "         0.8 ,  0.84,  0.88,  0.92,  0.96,  1.  ]),\n",
              " <BarContainer object of 50 artists>)"
            ]
          },
          "metadata": {},
          "execution_count": 27
        },
        {
          "output_type": "display_data",
          "data": {
            "text/plain": [
              "<Figure size 640x480 with 1 Axes>"
            ],
            "image/png": "[encoded data removed]"
          },
          "metadata": {}
        }
      ]
    },
    {
      "cell_type": "code",
      "source": [
        "plt.hist(hpreact.view(-1).tolist(), 50)"
      ],
      "metadata": {
        "colab": {
          "base_uri": "https://localhost:8080/",
          "height": 777
        },
        "id": "BCoXAKryPXAS",
        "outputId": "efaaf940-af18-4c74-a45e-be110b3d1462"
      },
      "execution_count": 28,
      "outputs": [
        {
          "output_type": "execute_result",
          "data": {
            "text/plain": [
              "(array([  2.,   2.,   1.,   4.,   2.,   4.,   6.,  15.,   5.,  25.,  32.,\n",
              "         49.,  56.,  59.,  92., 119., 134., 197., 195., 221., 257., 275.,\n",
              "        297., 341., 353., 375., 369., 349., 358., 362., 271., 312., 229.,\n",
              "        206., 190., 167.,  87., 111.,  72.,  55.,  41.,  22.,  23.,  18.,\n",
              "         17.,   8.,   5.,   7.,   2.,   1.]),\n",
              " array([-19.05793571, -18.31571732, -17.57349892, -16.83128052,\n",
              "        -16.08906212, -15.34684372, -14.60462532, -13.86240692,\n",
              "        -13.12018852, -12.37797012, -11.63575172, -10.89353333,\n",
              "        -10.15131493,  -9.40909653,  -8.66687813,  -7.92465973,\n",
              "         -7.18244133,  -6.44022293,  -5.69800453,  -4.95578613,\n",
              "         -4.21356773,  -3.47134933,  -2.72913094,  -1.98691254,\n",
              "         -1.24469414,  -0.50247574,   0.23974266,   0.98196106,\n",
              "          1.72417946,   2.46639786,   3.20861626,   3.95083466,\n",
              "          4.69305305,   5.43527145,   6.17748985,   6.91970825,\n",
              "          7.66192665,   8.40414505,   9.14636345,   9.88858185,\n",
              "         10.63080025,  11.37301865,  12.11523705,  12.85745544,\n",
              "         13.59967384,  14.34189224,  15.08411064,  15.82632904,\n",
              "         16.56854744,  17.31076584,  18.05298424]),\n",
              " <BarContainer object of 50 artists>)"
            ]
          },
          "metadata": {},
          "execution_count": 28
        },
        {
          "output_type": "display_data",
          "data": {
            "text/plain": [
              "<Figure size 640x480 with 1 Axes>"
            ],
            "image/png": "[encoded data removed]"
          },
          "metadata": {}
        }
      ]
    },
    {
      "cell_type": "code",
      "source": [
        "plt.figure(figsize=(28,10))\n",
        "plt.imshow(h.abs() > 0.99, cmap='gray', interpolation='nearest')"
      ],
      "metadata": {
        "colab": {
          "base_uri": "https://localhost:8080/",
          "height": 168
        },
        "id": "1vj9UA8IP1dD",
        "outputId": "b1e15610-6e69-4cb7-dc53-d652ae58d8eb"
      },
      "execution_count": 29,
      "outputs": [
        {
          "output_type": "execute_result",
          "data": {
            "text/plain": [
              "<matplotlib.image.AxesImage at 0x7d6d63070990>"
            ]
          },
          "metadata": {},
          "execution_count": 29
        },
        {
          "output_type": "display_data",
          "data": {
            "text/plain": [
              "<Figure size 2800x1000 with 1 Axes>"
            ],
            "image/png": "[encoded data removed]"
          },
          "metadata": {}
        }
      ]
    },
    {
      "cell_type": "markdown",
      "source": [
        "- High activation (> 0.99) gets marked as white\n",
        "- If at any x-achses you find a strip of pure white, that would mean a unreachable Neuron.\n",
        "- This can be caused by bad initialization or a too high learning rate, that knocks out Neurons in the backward pass."
      ],
      "metadata": {
        "id": "QalzvKfWQ_Qj"
      }
    },
    {
      "cell_type": "code",
      "source": [
        "n_embd = 10\n",
        "n_hidden = 200\n",
        "\n",
        "\n",
        "g = torch.Generator().manual_seed(2147483647)\n",
        "C = torch.randn((vocab_size, n_embd),             generator=g)\n",
        "W1 = torch.randn((n_embd * block_size, n_hidden), generator=g) * 0.2  #<--\n",
        "b1 = torch.randn(n_hidden,                        generator=g) * 0    #<--\n",
        "W2 = torch.randn((n_hidden, vocab_size),          generator=g) * 0.01\n",
        "b2 = torch.randn(vocab_size,                      generator=g) * 0\n",
        "\n",
        "parameters = [C, W1, b1, W2, b2]"
      ],
      "metadata": {
        "id": "Z--_wnW1RhnO"
      },
      "execution_count": 30,
      "outputs": []
    },
    {
      "cell_type": "code",
      "source": [
        "total_param = sum(p.nelement() for p in parameters)\n",
        "print(f\"Total params: {total_param}\")\n",
        "\n",
        "for p in parameters:\n",
        "  p.requires_grad = True"
      ],
      "metadata": {
        "colab": {
          "base_uri": "https://localhost:8080/"
        },
        "id": "QbgAqooARkt_",
        "outputId": "0600129a-48ab-477f-a49a-fdfa99460778"
      },
      "execution_count": 31,
      "outputs": [
        {
          "output_type": "stream",
          "name": "stdout",
          "text": [
            "Total params: 11897\n"
          ]
        }
      ]
    },
    {
      "cell_type": "code",
      "source": [
        "max_steps = 200000\n",
        "batch_size = 32\n",
        "lossi = []\n",
        "\n",
        "for i in range(max_steps):\n",
        "\n",
        "  # minibatch construct\n",
        "  ix = torch.randint(0, Xtr.shape[0], (batch_size,), generator=g)\n",
        "  Xb, Yb = Xtr[ix], Ytr[ix]\n",
        "\n",
        "  # forward pass\n",
        "  emb = C[Xb]\n",
        "  embcat = emb.view(emb.shape[0], -1)\n",
        "  hpreact  = embcat @ W1 + b1\n",
        "  h = torch.tanh(hpreact)\n",
        "  logits = h @ W2 + b2\n",
        "  loss = F.cross_entropy(logits, Yb)\n",
        "\n",
        "  # backward pass\n",
        "  for p in parameters:\n",
        "    p.grad = None\n",
        "  loss.backward()\n",
        "\n",
        "  # update\n",
        "  lr = 0.1 if i < 100000 else 0.01\n",
        "  for p in parameters:\n",
        "    p.data += -lr * p.grad\n",
        "\n",
        "  # track stats, lri for finding a good lr\n",
        "  if i % 10000 == 0:\n",
        "    print(f\"{i:7d}/{max_steps:7d}: {loss.item():.4f}\")\n",
        "  lossi.append(loss.log10().item())\n",
        "  break"
      ],
      "metadata": {
        "colab": {
          "base_uri": "https://localhost:8080/"
        },
        "id": "UidhT3B5RmHn",
        "outputId": "6e999aa5-1694-4451-c9f3-3203bce40a1c"
      },
      "execution_count": 32,
      "outputs": [
        {
          "output_type": "stream",
          "name": "stdout",
          "text": [
            "      0/ 200000: 3.3134\n"
          ]
        }
      ]
    },
    {
      "cell_type": "code",
      "source": [
        "plt.hist(h.view(-1).tolist(), 50)"
      ],
      "metadata": {
        "colab": {
          "base_uri": "https://localhost:8080/",
          "height": 777
        },
        "id": "i9HLV710RuzP",
        "outputId": "a8e8b6b4-b324-4054-f4e5-52229eda6e09"
      },
      "execution_count": 33,
      "outputs": [
        {
          "output_type": "execute_result",
          "data": {
            "text/plain": [
              "(array([140., 172., 169., 160., 144., 154., 135., 128., 108., 142.,  93.,\n",
              "        103., 131., 109., 118.,  95.,  81., 102., 104., 106., 106., 123.,\n",
              "        109.,  73., 107., 112., 100., 106., 101.,  97., 106., 123., 111.,\n",
              "        125.,  95., 142., 101.,  98., 123., 122., 141., 125., 165., 161.,\n",
              "        163., 185., 187., 197., 212., 190.]),\n",
              " array([-9.98918831e-01, -9.58983165e-01, -9.19047499e-01, -8.79111832e-01,\n",
              "        -8.39176166e-01, -7.99240500e-01, -7.59304833e-01, -7.19369167e-01,\n",
              "        -6.79433501e-01, -6.39497834e-01, -5.99562168e-01, -5.59626502e-01,\n",
              "        -5.19690835e-01, -4.79755169e-01, -4.39819503e-01, -3.99883837e-01,\n",
              "        -3.59948170e-01, -3.20012504e-01, -2.80076838e-01, -2.40141171e-01,\n",
              "        -2.00205505e-01, -1.60269839e-01, -1.20334172e-01, -8.03985059e-02,\n",
              "        -4.04628396e-02, -5.27173281e-04,  3.94084930e-02,  7.93441594e-02,\n",
              "         1.19279826e-01,  1.59215492e-01,  1.99151158e-01,  2.39086825e-01,\n",
              "         2.79022491e-01,  3.18958157e-01,  3.58893824e-01,  3.98829490e-01,\n",
              "         4.38765156e-01,  4.78700823e-01,  5.18636489e-01,  5.58572155e-01,\n",
              "         5.98507822e-01,  6.38443488e-01,  6.78379154e-01,  7.18314821e-01,\n",
              "         7.58250487e-01,  7.98186153e-01,  8.38121819e-01,  8.78057486e-01,\n",
              "         9.17993152e-01,  9.57928818e-01,  9.97864485e-01]),\n",
              " <BarContainer object of 50 artists>)"
            ]
          },
          "metadata": {},
          "execution_count": 33
        },
        {
          "output_type": "display_data",
          "data": {
            "text/plain": [
              "<Figure size 640x480 with 1 Axes>"
            ],
            "image/png": "[encoded data removed]"
          },
          "metadata": {}
        }
      ]
    },
    {
      "cell_type": "code",
      "source": [
        "plt.hist(hpreact.view(-1).tolist(), 50)"
      ],
      "metadata": {
        "colab": {
          "base_uri": "https://localhost:8080/",
          "height": 741
        },
        "id": "qFD40QVnRw2d",
        "outputId": "85915fd3-5d3c-4b9c-8ba8-179744193f13"
      },
      "execution_count": 34,
      "outputs": [
        {
          "output_type": "execute_result",
          "data": {
            "text/plain": [
              "(array([  1.,   2.,   0.,   1.,   5.,   3.,  11.,   6.,  13.,  10.,  25.,\n",
              "         40.,  39.,  77.,  64.,  99., 134., 169., 187., 219., 224., 275.,\n",
              "        308., 311., 355., 369., 379., 357., 366., 333., 292., 284., 287.,\n",
              "        244., 187., 170., 134., 104.,  82.,  74.,  41.,  30.,  27.,  19.,\n",
              "         12.,   7.,  12.,   3.,   2.,   7.]),\n",
              " array([-3.76114893, -3.61751465, -3.47388037, -3.33024609, -3.1866118 ,\n",
              "        -3.04297752, -2.89934324, -2.75570896, -2.61207468, -2.4684404 ,\n",
              "        -2.32480612, -2.18117184, -2.03753756, -1.89390327, -1.75026899,\n",
              "        -1.60663471, -1.46300043, -1.31936615, -1.17573187, -1.03209759,\n",
              "        -0.88846331, -0.74482903, -0.60119474, -0.45756046, -0.31392618,\n",
              "        -0.1702919 , -0.02665762,  0.11697666,  0.26061094,  0.40424522,\n",
              "         0.54787951,  0.69151379,  0.83514807,  0.97878235,  1.12241663,\n",
              "         1.26605091,  1.40968519,  1.55331947,  1.69695375,  1.84058804,\n",
              "         1.98422232,  2.1278566 ,  2.27149088,  2.41512516,  2.55875944,\n",
              "         2.70239372,  2.846028  ,  2.98966228,  3.13329657,  3.27693085,\n",
              "         3.42056513]),\n",
              " <BarContainer object of 50 artists>)"
            ]
          },
          "metadata": {},
          "execution_count": 34
        },
        {
          "output_type": "display_data",
          "data": {
            "text/plain": [
              "<Figure size 640x480 with 1 Axes>"
            ],
            "image/png": "[encoded data removed]"
          },
          "metadata": {}
        }
      ]
    },
    {
      "cell_type": "code",
      "source": [
        "plt.figure(figsize=(28,10))\n",
        "plt.imshow(h.abs() > 0.99, cmap='gray', interpolation='nearest')"
      ],
      "metadata": {
        "colab": {
          "base_uri": "https://localhost:8080/",
          "height": 168
        },
        "id": "tlrFj0hjR18C",
        "outputId": "fdbdd968-1943-4635-f62a-ea3f7dee3e36"
      },
      "execution_count": 35,
      "outputs": [
        {
          "output_type": "execute_result",
          "data": {
            "text/plain": [
              "<matplotlib.image.AxesImage at 0x7d6d626a4b90>"
            ]
          },
          "metadata": {},
          "execution_count": 35
        },
        {
          "output_type": "display_data",
          "data": {
            "text/plain": [
              "<Figure size 2800x1000 with 1 Axes>"
            ],
            "image/png": "[encoded data removed]"
          },
          "metadata": {}
        }
      ]
    },
    {
      "cell_type": "markdown",
      "source": [
        "# Experiment Initialize to Zero and Visualize the Activations."
      ],
      "metadata": {
        "id": "_rD1dJE7SSfo"
      }
    },
    {
      "cell_type": "code",
      "source": [
        "n_embd = 10\n",
        "n_hidden = 200\n",
        "\n",
        "\n",
        "g = torch.Generator().manual_seed(2147483647)\n",
        "C = torch.randn((vocab_size, n_embd),             generator=g)\n",
        "W1 = torch.randn((n_embd * block_size, n_hidden), generator=g) * 0 #<--\n",
        "b1 = torch.randn(n_hidden,                        generator=g) * 0 #<--\n",
        "W2 = torch.randn((n_hidden, vocab_size),          generator=g) * 0 #<--\n",
        "b2 = torch.randn(vocab_size,                      generator=g) * 0 #<--\n",
        "\n",
        "parameters = [C, W1, b1, W2, b2]\n",
        "\n",
        "\n",
        "total_param = sum(p.nelement() for p in parameters)\n",
        "print(f\"Total params: {total_param}\")\n",
        "\n",
        "for p in parameters:\n",
        "  p.requires_grad = True\n",
        "\n",
        "  max_steps = 200000\n",
        "batch_size = 32\n",
        "lossi = []\n",
        "\n",
        "for i in range(max_steps):\n",
        "\n",
        "  # minibatch construct\n",
        "  ix = torch.randint(0, Xtr.shape[0], (batch_size,), generator=g)\n",
        "  Xb, Yb = Xtr[ix], Ytr[ix]\n",
        "\n",
        "  # forward pass\n",
        "  emb = C[Xb]\n",
        "  embcat = emb.view(emb.shape[0], -1)\n",
        "  hpreact  = embcat @ W1 + b1\n",
        "  h = torch.tanh(hpreact)\n",
        "  logits = h @ W2 + b2\n",
        "  loss = F.cross_entropy(logits, Yb)\n",
        "\n",
        "  # backward pass\n",
        "  for p in parameters:\n",
        "    p.grad = None\n",
        "  loss.backward()\n",
        "\n",
        "  # update\n",
        "  lr = 0.1 if i < 100000 else 0.01\n",
        "  for p in parameters:\n",
        "    p.data += -lr * p.grad\n",
        "\n",
        "  # track stats, lri for finding a good lr\n",
        "  if i % 10000 == 0:\n",
        "    print(f\"{i:7d}/{max_steps:7d}: {loss.item():.4f}\")\n",
        "  lossi.append(loss.log10().item())"
      ],
      "metadata": {
        "colab": {
          "base_uri": "https://localhost:8080/"
        },
        "id": "NwQVqTQTSXma",
        "outputId": "213ec736-ad95-4e3d-c429-7e3b759c1a72"
      },
      "execution_count": 36,
      "outputs": [
        {
          "output_type": "stream",
          "name": "stdout",
          "text": [
            "Total params: 11897\n",
            "      0/ 200000: 3.2958\n",
            "  10000/ 200000: 2.6793\n",
            "  20000/ 200000: 2.8210\n",
            "  30000/ 200000: 3.0941\n",
            "  40000/ 200000: 3.0673\n",
            "  50000/ 200000: 3.0884\n",
            "  60000/ 200000: 2.8090\n",
            "  70000/ 200000: 2.6637\n",
            "  80000/ 200000: 2.6951\n",
            "  90000/ 200000: 2.7917\n",
            " 100000/ 200000: 2.5930\n",
            " 110000/ 200000: 3.0857\n",
            " 120000/ 200000: 2.8063\n",
            " 130000/ 200000: 2.8613\n",
            " 140000/ 200000: 2.8347\n",
            " 150000/ 200000: 2.8381\n",
            " 160000/ 200000: 2.8990\n",
            " 170000/ 200000: 2.6623\n",
            " 180000/ 200000: 2.7992\n",
            " 190000/ 200000: 2.8359\n"
          ]
        }
      ]
    },
    {
      "cell_type": "code",
      "source": [
        "plt.hist(h.view(-1).tolist(), 50)"
      ],
      "metadata": {
        "colab": {
          "base_uri": "https://localhost:8080/",
          "height": 667
        },
        "id": "j9v_1RfDTQhO",
        "outputId": "d1d504da-7929-42b6-d1d3-efa13c35ba53"
      },
      "execution_count": 37,
      "outputs": [
        {
          "output_type": "execute_result",
          "data": {
            "text/plain": [
              "(array([   0.,    0.,    0.,    0.,    0.,    0.,    0.,    0.,    0.,\n",
              "           0.,    0.,    0.,    0.,    0.,    0.,    0.,    0.,    0.,\n",
              "           0.,    0.,    0.,    0.,    0.,    0.,    0., 6400.,    0.,\n",
              "           0.,    0.,    0.,    0.,    0.,    0.,    0.,    0.,    0.,\n",
              "           0.,    0.,    0.,    0.,    0.,    0.,    0.,    0.,    0.,\n",
              "           0.,    0.,    0.,    0.,    0.]),\n",
              " array([-0.5 , -0.48, -0.46, -0.44, -0.42, -0.4 , -0.38, -0.36, -0.34,\n",
              "        -0.32, -0.3 , -0.28, -0.26, -0.24, -0.22, -0.2 , -0.18, -0.16,\n",
              "        -0.14, -0.12, -0.1 , -0.08, -0.06, -0.04, -0.02,  0.  ,  0.02,\n",
              "         0.04,  0.06,  0.08,  0.1 ,  0.12,  0.14,  0.16,  0.18,  0.2 ,\n",
              "         0.22,  0.24,  0.26,  0.28,  0.3 ,  0.32,  0.34,  0.36,  0.38,\n",
              "         0.4 ,  0.42,  0.44,  0.46,  0.48,  0.5 ]),\n",
              " <BarContainer object of 50 artists>)"
            ]
          },
          "metadata": {},
          "execution_count": 37
        },
        {
          "output_type": "display_data",
          "data": {
            "text/plain": [
              "<Figure size 640x480 with 1 Axes>"
            ],
            "image/png": "[encoded data removed]"
          },
          "metadata": {}
        }
      ]
    },
    {
      "cell_type": "code",
      "source": [
        "plt.hist(hpreact.view(-1).tolist(), 50)"
      ],
      "metadata": {
        "colab": {
          "base_uri": "https://localhost:8080/",
          "height": 667
        },
        "id": "iSM59EOoTWRs",
        "outputId": "fd80d39e-9d4e-45dc-8cf5-1dafe1f36d3f"
      },
      "execution_count": 38,
      "outputs": [
        {
          "output_type": "execute_result",
          "data": {
            "text/plain": [
              "(array([   0.,    0.,    0.,    0.,    0.,    0.,    0.,    0.,    0.,\n",
              "           0.,    0.,    0.,    0.,    0.,    0.,    0.,    0.,    0.,\n",
              "           0.,    0.,    0.,    0.,    0.,    0.,    0., 6400.,    0.,\n",
              "           0.,    0.,    0.,    0.,    0.,    0.,    0.,    0.,    0.,\n",
              "           0.,    0.,    0.,    0.,    0.,    0.,    0.,    0.,    0.,\n",
              "           0.,    0.,    0.,    0.,    0.]),\n",
              " array([-0.5 , -0.48, -0.46, -0.44, -0.42, -0.4 , -0.38, -0.36, -0.34,\n",
              "        -0.32, -0.3 , -0.28, -0.26, -0.24, -0.22, -0.2 , -0.18, -0.16,\n",
              "        -0.14, -0.12, -0.1 , -0.08, -0.06, -0.04, -0.02,  0.  ,  0.02,\n",
              "         0.04,  0.06,  0.08,  0.1 ,  0.12,  0.14,  0.16,  0.18,  0.2 ,\n",
              "         0.22,  0.24,  0.26,  0.28,  0.3 ,  0.32,  0.34,  0.36,  0.38,\n",
              "         0.4 ,  0.42,  0.44,  0.46,  0.48,  0.5 ]),\n",
              " <BarContainer object of 50 artists>)"
            ]
          },
          "metadata": {},
          "execution_count": 38
        },
        {
          "output_type": "display_data",
          "data": {
            "text/plain": [
              "<Figure size 640x480 with 1 Axes>"
            ],
            "image/png": "[encoded data removed]"
          },
          "metadata": {}
        }
      ]
    },
    {
      "cell_type": "code",
      "source": [
        "plt.figure(figsize=(28,10))\n",
        "plt.imshow(h.abs() > 0.99, cmap='gray', interpolation='nearest')"
      ],
      "metadata": {
        "colab": {
          "base_uri": "https://localhost:8080/",
          "height": 168
        },
        "id": "oOm2c7ynSqYy",
        "outputId": "0333d0fc-702e-42ae-a3d4-27628a1cf8f8"
      },
      "execution_count": 39,
      "outputs": [
        {
          "output_type": "execute_result",
          "data": {
            "text/plain": [
              "<matplotlib.image.AxesImage at 0x7d6d62a5aa90>"
            ]
          },
          "metadata": {},
          "execution_count": 39
        },
        {
          "output_type": "display_data",
          "data": {
            "text/plain": [
              "<Figure size 2800x1000 with 1 Axes>"
            ],
            "image/png": "[encoded data removed]"
          },
          "metadata": {}
        }
      ]
    },
    {
      "cell_type": "code",
      "source": [
        "# training loss\n",
        "train_loss = calculate_loss(Xtr, Ytr)\n",
        "print(f\"Training loss: {train_loss}\")\n",
        "# validation loss\n",
        "dev_loss = calculate_loss(Xdev, Ydev)\n",
        "print(f\"Dev loss: {dev_loss}\")\n",
        "# test loss\n",
        "test_loss = calculate_loss(Xte, Yte)\n",
        "print(f\"Test loss: {test_loss}\")"
      ],
      "metadata": {
        "colab": {
          "base_uri": "https://localhost:8080/"
        },
        "id": "o0hmdoA2TbJ1",
        "outputId": "6db47458-f01a-4b50-bb7f-659b8fed7f6d"
      },
      "execution_count": 40,
      "outputs": [
        {
          "output_type": "stream",
          "name": "stdout",
          "text": [
            "Training loss: 2.822659730911255\n",
            "Dev loss: 2.8209733963012695\n",
            "Test loss: 2.8255531787872314\n"
          ]
        }
      ]
    },
    {
      "cell_type": "markdown",
      "source": [
        "# Setting initialization\n",
        "- no magic number is the goal!\n",
        "- See below how the std is changing after doing a multiplication, we want the std to stay the same.\n",
        "- Further reading: https://arxiv.org/pdf/1502.01852\n",
        "- practical use: https://docs.pytorch.org/docs/stable/nn.init.html"
      ],
      "metadata": {
        "id": "jSAZ3fc6Ybiv"
      }
    },
    {
      "cell_type": "code",
      "source": [
        "x = torch.randn(1000, 10)\n",
        "w = torch.rand(10, 200) # <-- What do we multiply it with to keep the std?\n",
        "y = x @ w\n",
        "print(x.mean(), x.std())\n",
        "print(y.mean(), y.std())\n",
        "plt.figure(figsize=(28, 5))\n",
        "plt.subplot(121)\n",
        "plt.hist(x.view(-1), 50, density=True)\n",
        "plt.subplot(122)\n",
        "plt.hist(y.view(-1), 50, density=True)"
      ],
      "metadata": {
        "colab": {
          "base_uri": "https://localhost:8080/",
          "height": 655
        },
        "id": "1K8xiMZaYrEN",
        "outputId": "95b29aa7-8358-49fe-f46e-fc8cbb966289"
      },
      "execution_count": 41,
      "outputs": [
        {
          "output_type": "stream",
          "name": "stdout",
          "text": [
            "tensor(0.0069) tensor(1.0121)\n",
            "tensor(0.0354) tensor(1.9062)\n"
          ]
        },
        {
          "output_type": "execute_result",
          "data": {
            "text/plain": [
              "(array([1.36470429e-05, 4.09412353e-05, 0.00000000e+00, 6.82353033e-05,\n",
              "        1.36470607e-04, 2.04705910e-04, 3.00235335e-04, 9.68940046e-04,\n",
              "        1.48753155e-03, 2.68846745e-03, 4.43529471e-03, 6.40047145e-03,\n",
              "        1.02898837e-02, 1.40291601e-02, 2.10574146e-02, 3.04329453e-02,\n",
              "        4.51581237e-02, 6.14800083e-02, 8.17867281e-02, 1.04440955e-01,\n",
              "        1.31571312e-01, 1.53174609e-01, 1.78789909e-01, 2.01744760e-01,\n",
              "        2.16633159e-01, 2.19144785e-01, 2.08731521e-01, 1.96148948e-01,\n",
              "        1.73208719e-01, 1.52028058e-01, 1.28091478e-01, 1.02448351e-01,\n",
              "        7.89754373e-02, 6.13026763e-02, 4.57448878e-02, 3.24936937e-02,\n",
              "        2.26404442e-02, 1.54893937e-02, 9.78495523e-03, 6.55058059e-03,\n",
              "        3.82118196e-03, 2.48376181e-03, 1.37835133e-03, 7.36942235e-04,\n",
              "        4.50353588e-04, 1.63764089e-04, 1.91059098e-04, 2.72941568e-05,\n",
              "        2.72940148e-05, 1.36470784e-05]),\n",
              " array([-9.30009937, -8.93371964, -8.56734085, -8.20096111, -7.83458185,\n",
              "        -7.46820259, -7.10182333, -6.73544407, -6.36906433, -6.00268555,\n",
              "        -5.63630581, -5.26992655, -4.90354729, -4.53716803, -4.17078829,\n",
              "        -3.80440903, -3.43802977, -3.07165051, -2.70527124, -2.33889151,\n",
              "        -1.97251225, -1.60613298, -1.23975372, -0.87337399, -0.5069952 ,\n",
              "        -0.14061546,  0.22576332,  0.59214306,  0.9585228 ,  1.32490158,\n",
              "         1.69128132,  2.0576601 ,  2.42403984,  2.79041958,  3.15679836,\n",
              "         3.5231781 ,  3.88955688,  4.25593662,  4.62231636,  4.98869514,\n",
              "         5.35507488,  5.72145367,  6.0878334 ,  6.45421314,  6.82059193,\n",
              "         7.18697071,  7.5533514 ,  7.91973019,  8.28610897,  8.65248966,\n",
              "         9.01886845]),\n",
              " <BarContainer object of 50 artists>)"
            ]
          },
          "metadata": {},
          "execution_count": 41
        },
        {
          "output_type": "display_data",
          "data": {
            "text/plain": [
              "<Figure size 2800x500 with 2 Axes>"
            ],
            "image/png": "[encoded data removed]"
          },
          "metadata": {}
        }
      ]
    },
    {
      "cell_type": "code",
      "source": [
        "x = torch.randn(1000, 10)\n",
        "w = torch.rand(10, 200) / 10 ** 0.5 # This is depending on the operation done read paper, docu.\n",
        "y = x @ w\n",
        "print(x.mean(), x.std())\n",
        "print(y.mean(), y.std())\n",
        "plt.figure(figsize=(28, 5))\n",
        "plt.subplot(121)\n",
        "plt.hist(x.view(-1), 50, density=True)\n",
        "plt.subplot(122)\n",
        "plt.hist(y.view(-1), 50, density=True)"
      ],
      "metadata": {
        "colab": {
          "base_uri": "https://localhost:8080/",
          "height": 692
        },
        "id": "vzj5KakMZ_VN",
        "outputId": "c99696e3-7698-4798-c211-85916ce9d927"
      },
      "execution_count": 42,
      "outputs": [
        {
          "output_type": "stream",
          "name": "stdout",
          "text": [
            "tensor(0.0022) tensor(1.0020)\n",
            "tensor(0.0038) tensor(0.5612)\n"
          ]
        },
        {
          "output_type": "execute_result",
          "data": {
            "text/plain": [
              "(array([1.44387208e-04, 4.81290693e-05, 1.92516277e-04, 3.36903485e-04,\n",
              "        5.29419762e-04, 1.54013022e-03, 2.31019533e-03, 3.80219647e-03,\n",
              "        6.20864994e-03, 9.43330840e-03, 1.44387208e-02, 2.07436289e-02,\n",
              "        3.15245404e-02, 4.88991344e-02, 6.85839237e-02, 9.79907850e-02,\n",
              "        1.35723975e-01, 1.87318338e-01, 2.53495808e-01, 3.36807613e-01,\n",
              "        4.14920706e-01, 5.03670710e-01, 5.92468843e-01, 6.52582050e-01,\n",
              "        7.08844932e-01, 7.38492439e-01, 7.28818496e-01, 7.02588153e-01,\n",
              "        6.54122180e-01, 5.76441863e-01, 4.84322824e-01, 4.03562246e-01,\n",
              "        3.25545025e-01, 2.50415547e-01, 1.88858468e-01, 1.46264242e-01,\n",
              "        1.05498920e-01, 7.63327039e-02, 5.25088146e-02, 3.44123635e-02,\n",
              "        2.20430631e-02, 1.79040549e-02, 1.04921130e-02, 6.49743926e-03,\n",
              "        4.09096150e-03, 2.45458817e-03, 9.62579176e-04, 2.88775078e-04,\n",
              "        2.40644794e-04, 9.62583595e-05]),\n",
              " array([-2.69874692e+00, -2.59485960e+00, -2.49097228e+00, -2.38708496e+00,\n",
              "        -2.28319764e+00, -2.17931032e+00, -2.07542300e+00, -1.97153568e+00,\n",
              "        -1.86764836e+00, -1.76376104e+00, -1.65987384e+00, -1.55598652e+00,\n",
              "        -1.45209920e+00, -1.34821188e+00, -1.24432456e+00, -1.14043725e+00,\n",
              "        -1.03654993e+00, -9.32662606e-01, -8.28775287e-01, -7.24887967e-01,\n",
              "        -6.21000767e-01, -5.17113447e-01, -4.13226128e-01, -3.09338808e-01,\n",
              "        -2.05451488e-01, -1.01564169e-01,  2.32315063e-03,  1.06210470e-01,\n",
              "         2.10097790e-01,  3.13985109e-01,  4.17872429e-01,  5.21759748e-01,\n",
              "         6.25647068e-01,  7.29534388e-01,  8.33421707e-01,  9.37309027e-01,\n",
              "         1.04119635e+00,  1.14508367e+00,  1.24897099e+00,  1.35285830e+00,\n",
              "         1.45674539e+00,  1.56063294e+00,  1.66452003e+00,  1.76840758e+00,\n",
              "         1.87229466e+00,  1.97618222e+00,  2.08006930e+00,  2.18395686e+00,\n",
              "         2.28784394e+00,  2.39173150e+00,  2.49561858e+00]),\n",
              " <BarContainer object of 50 artists>)"
            ]
          },
          "metadata": {},
          "execution_count": 42
        },
        {
          "output_type": "display_data",
          "data": {
            "text/plain": [
              "<Figure size 2800x500 with 2 Axes>"
            ],
            "image/png": "[encoded data removed]"
          },
          "metadata": {}
        }
      ]
    },
    {
      "cell_type": "code",
      "source": [
        "# Torchifying Code:\n",
        "class Linear:\n",
        "  def __init__(self,fan_in, fan_out, bias=True):\n",
        "    self.weight = torch.randn((fan_in, fan_out), generator=g) /fan_in ** 0.5\n",
        "    self.bias = torch.zeros(fan_out) if bias else None\n",
        "\n",
        "  def __call__(self, x):\n",
        "    self.out = x @ self.weight\n",
        "    if self.bias is not None:\n",
        "      self.out += self.bias\n",
        "    return self.out\n",
        "\n",
        "  def parameters(self):\n",
        "    return [self.weight] + ([] if self.bias is None else [self.bias])\n",
        "\n",
        "class Tanh:\n",
        "  def __call__(self, x):\n",
        "    self.out = torch.tanh(x)\n",
        "    return self.out\n",
        "  def parameters(self):\n",
        "    return []"
      ],
      "metadata": {
        "id": "mI9zBI2Abx-I"
      },
      "execution_count": 47,
      "outputs": []
    },
    {
      "cell_type": "code",
      "source": [
        "n_embd = 10\n",
        "n_hidden = 200\n",
        "g = torch.Generator().manual_seed(2147483647)\n",
        "\n",
        "C = torch.randn((vocab_size, n_embd), generator=g)\n",
        "layers = [\n",
        "    Linear(n_embd * block_size, n_hidden, bias=True), Tanh(),\n",
        "    Linear(n_hidden, vocab_size, bias=True),\n",
        "]\n",
        "\n",
        "with torch.no_grad():\n",
        "  # last layer: make les confident\n",
        "  layers[-1].weight *= 0.1\n",
        "  for layer in layers[:-1]:\n",
        "    if isinstance(layer, Linear):\n",
        "      layer.weight *= 5/3\n",
        "\n",
        "\n",
        "parameters = [C] + [p for layer in layers for p in layer.parameters()]\n",
        "print(sum(p.nelement() for p in parameters)) # number of parameters in total\n",
        "for p in parameters:\n",
        "  p.requires_grad = True"
      ],
      "metadata": {
        "id": "8ym6bJBHek6o",
        "outputId": "4115a559-2117-47c5-ce6d-b9948b2aab57",
        "colab": {
          "base_uri": "https://localhost:8080/"
        }
      },
      "execution_count": 49,
      "outputs": [
        {
          "output_type": "stream",
          "name": "stdout",
          "text": [
            "11897\n"
          ]
        }
      ]
    },
    {
      "cell_type": "code",
      "source": [
        "# same optimization as last time\n",
        "max_steps = 200000\n",
        "batch_size = 32\n",
        "lossi = []\n",
        "ud = []\n",
        "\n",
        "for i in range(max_steps):\n",
        "\n",
        "  # minibatch construct\n",
        "  ix = torch.randint(0, Xtr.shape[0], (batch_size,), generator=g)\n",
        "  Xb, Yb = Xtr[ix], Ytr[ix]\n",
        "\n",
        "  # forward pass\n",
        "  emb = C[Xb]\n",
        "  x = emb.view(emb.shape[0], -1)\n",
        "  for layer in layers:\n",
        "    x = layer(x)\n",
        "  loss = F.cross_entropy(x, Yb)\n",
        "\n",
        "  # backward pass\n",
        "  for layer in layers:\n",
        "    layer.out.retain_grad()\n",
        "  for p in parameters:\n",
        "    p.grad = None\n",
        "  loss.backward()\n",
        "\n",
        "  # update\n",
        "  lr = 0.1 if i < 150000 else 0.01\n",
        "  for p in parameters:\n",
        "    p.data += -lr * p.grad\n",
        "\n",
        "  # track stats\n",
        "  if i % 10000 == 0:\n",
        "    print(f'{i:7d}/{max_steps:7d}: {loss.item():.4f}')\n",
        "  lossi.append(loss.log10().item())\n",
        "  with torch.no_grad():\n",
        "    ud.append([((lr*p.grad).std() / p.data.std()).log10().item() for p in parameters])"
      ],
      "metadata": {
        "id": "dkSEPom0hG1V",
        "outputId": "7cf8c558-a40d-46c6-cd35-f0e301173c7b",
        "colab": {
          "base_uri": "https://localhost:8080/"
        }
      },
      "execution_count": null,
      "outputs": [
        {
          "output_type": "stream",
          "name": "stdout",
          "text": [
            "      0/ 200000: 3.3150\n",
            "  10000/ 200000: 2.4845\n"
          ]
        }
      ]
    }
  ]
}