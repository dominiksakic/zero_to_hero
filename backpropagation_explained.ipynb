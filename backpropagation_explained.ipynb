{
  "nbformat": 4,
  "nbformat_minor": 0,
  "metadata": {
    "colab": {
      "provenance": [],
      "authorship_tag": "ABX9TyNgV9arIqaPfXFR4/XsDt6M",
      "include_colab_link": true
    },
    "kernelspec": {
      "name": "python3",
      "display_name": "Python 3"
    },
    "language_info": {
      "name": "python"
    }
  },
  "cells": [
    {
      "cell_type": "markdown",
      "metadata": {
        "id": "view-in-github",
        "colab_type": "text"
      },
      "source": [
        "<a href=\"https://colab.research.google.com/github/dominiksakic/zero_to_hero/blob/main/backpropagation_explained.ipynb\" target=\"_parent\"><img src=\"https://colab.research.google.com/assets/colab-badge.svg\" alt=\"Open In Colab\"/></a>"
      ]
    },
    {
      "cell_type": "markdown",
      "source": [
        "# Simple start\n"
      ],
      "metadata": {
        "id": "Mk-kAJOvPQWJ"
      }
    },
    {
      "cell_type": "code",
      "execution_count": null,
      "metadata": {
        "colab": {
          "base_uri": "https://localhost:8080/"
        },
        "id": "gSn--JMfF79Q",
        "outputId": "09affc24-c818-4cd2-c4c8-e871565a3bdc"
      },
      "outputs": [
        {
          "output_type": "execute_result",
          "data": {
            "text/plain": [
              "27.0"
            ]
          },
          "metadata": {},
          "execution_count": 1
        }
      ],
      "source": [
        "import math\n",
        "import numpy as np\n",
        "import matplotlib.pyplot as plt\n",
        "%matplotlib inline\n",
        "\n",
        "# Function to explain Backpropagation\n",
        "def f(x):\n",
        "  \"\"\"\n",
        "  6x^2 - 10\n",
        "  \"\"\"\n",
        "  return 2*x**3 - 10*x + 3\n",
        "\n",
        "f(3.0)"
      ]
    },
    {
      "cell_type": "markdown",
      "source": [
        "- What is the derivate of this function at any given point?\n",
        "\n",
        "  - What is the derivate telling me about the function?\n",
        "  - Derivate: if I have a value a and increase it by h, how much does the function change?\n",
        "  - This change is the slope of the function. And if it is positive it goes up, if it is positive it goes down!"
      ],
      "metadata": {
        "id": "2PZWoxrpKcjv"
      }
    },
    {
      "cell_type": "code",
      "source": [
        "xs = np.arange(-5, 5, 0.25)\n",
        "ys = f(xs)\n",
        "plt.plot(xs, ys)"
      ],
      "metadata": {
        "colab": {
          "base_uri": "https://localhost:8080/",
          "height": 448
        },
        "id": "4Op5c-PQJ7q_",
        "outputId": "b97255d6-787c-492b-ccd1-e53bd07bab2d"
      },
      "execution_count": null,
      "outputs": [
        {
          "output_type": "execute_result",
          "data": {
            "text/plain": [
              "[<matplotlib.lines.Line2D at 0x7db9d3bdf110>]"
            ]
          },
          "metadata": {},
          "execution_count": 2
        },
        {
          "output_type": "display_data",
          "data": {
            "text/plain": [
              "<Figure size 640x480 with 1 Axes>"
            ],
            "image/png": "[encoded data removed]"
          },
          "metadata": {}
        }
      ]
    },
    {
      "cell_type": "markdown",
      "source": [
        "- For the above function, looking at any value in bigger than 2 for x, I would expect the Derivate to be positive!\n",
        "- Lets test it!"
      ],
      "metadata": {
        "id": "2JiCL2s5LaZl"
      }
    },
    {
      "cell_type": "code",
      "source": [
        "def derivate (x, h):\n",
        "  \"\"\"\n",
        "  Dividing by h gives you the rate of change.\n",
        "  f(x + h) - f(x) --> Difference between to points.\n",
        "  /h --> Rate of change, which is the comparision between two things that\n",
        "  change at the same time.\n",
        "\n",
        "  The change of rate established a connection.\n",
        "  \"\"\"\n",
        "  return (f(x + h) - f(x))/h\n",
        "\n",
        "# Numerical approximation of the slope, h has to be close to 0 for better resutls\n",
        "print(derivate(2, 0.001))\n",
        "print(derivate(0, 0.001))\n",
        "print(derivate(-4, 0.001))"
      ],
      "metadata": {
        "colab": {
          "base_uri": "https://localhost:8080/"
        },
        "id": "v0nwFiRQLm6l",
        "outputId": "87e2f1d9-4298-4f7b-d1cd-4decc341f841"
      },
      "execution_count": null,
      "outputs": [
        {
          "output_type": "stream",
          "name": "stdout",
          "text": [
            "14.012001999997636\n",
            "-9.999998000000065\n",
            "85.97600199999533\n"
          ]
        }
      ]
    },
    {
      "cell_type": "markdown",
      "source": [
        "# Add complexity\n",
        "- What are the derivate in terms of a, b, and c?"
      ],
      "metadata": {
        "id": "F0Jz_4sqPTgG"
      }
    },
    {
      "cell_type": "code",
      "source": [
        "a = 2.0\n",
        "b = -3.0\n",
        "c = 10.0\n",
        "d = a * b + c\n",
        "print(d)"
      ],
      "metadata": {
        "colab": {
          "base_uri": "https://localhost:8080/"
        },
        "id": "tiqpROxPPaKD",
        "outputId": "a56f61a2-c24f-4577-ccd4-c29e516c658b"
      },
      "execution_count": null,
      "outputs": [
        {
          "output_type": "stream",
          "name": "stdout",
          "text": [
            "4.0\n"
          ]
        }
      ]
    },
    {
      "cell_type": "code",
      "source": [
        "h = 0.0001\n",
        "\n",
        "a = 2.0\n",
        "b = -3.0\n",
        "c = 10.0\n",
        "\n",
        "d1 = a * b + c\n",
        "a += h\n",
        "d2 = a * b + c\n",
        "derivate = (d2 - d1)/h\n",
        "# Increasing a decreses d, because you multiply b by a.\n",
        "# b is negative here -> decrease.\n",
        "print('d1, ', d1)\n",
        "print('d2, ', d2)\n",
        "print('Slope ',  derivate)"
      ],
      "metadata": {
        "colab": {
          "base_uri": "https://localhost:8080/"
        },
        "id": "DrKqV54OQDyZ",
        "outputId": "59895390-d7b9-4fe5-d592-63761de538ec"
      },
      "execution_count": null,
      "outputs": [
        {
          "output_type": "stream",
          "name": "stdout",
          "text": [
            "d1,  4.0\n",
            "d2,  3.999699999999999\n",
            "Slope  -3.000000000010772\n"
          ]
        }
      ]
    },
    {
      "cell_type": "code",
      "source": [
        "class Value:\n",
        "\n",
        "  def __init__(self, data, _children=(), _op='', label=''):\n",
        "    self.data = data\n",
        "    self._prev = set(_children)\n",
        "    self._op = _op\n",
        "    self.label = label\n",
        "\n",
        "  def __repr__(self):\n",
        "    return f\"Value(data={self.data})\"\n",
        "\n",
        "  def __add__(self, other):\n",
        "    out = Value(self.data + other.data, (self, other), \"+\")\n",
        "    return out\n",
        "\n",
        "  def __mul__(self, other):\n",
        "    out = Value(self.data * other.data, (self, other), \"*\")\n",
        "    return out\n",
        "\n",
        "  def __sub__(self, other):\n",
        "    out = Value(self.data - other.data, (self, other), \"-\")\n",
        "    return out"
      ],
      "metadata": {
        "id": "VXGy1VbUdmA_"
      },
      "execution_count": 41,
      "outputs": []
    },
    {
      "cell_type": "code",
      "source": [
        "a = Value(2.0, label='a')\n",
        "b = Value(-3.0, label='b')\n",
        "# same as c = a + b\n",
        "c = a.__add__(b)\n",
        "c.label = 'c'"
      ],
      "metadata": {
        "id": "bVqN53-xd0sn"
      },
      "execution_count": 58,
      "outputs": []
    },
    {
      "cell_type": "code",
      "source": [
        "from graphviz import Digraph\n",
        "\n",
        "def trace(root):\n",
        "  # builds a set of all nodes and edges in a graph\n",
        "  nodes, edges = set(), set()\n",
        "  def build(v):\n",
        "    if v not in nodes:\n",
        "      nodes.add(v)\n",
        "      for child in v._prev:\n",
        "        edges.add((child, v))\n",
        "        build(child)\n",
        "  build(root)\n",
        "  return nodes, edges\n",
        "\n",
        "def draw_dot(root):\n",
        "  dot = Digraph(format='svg', graph_attr={'rankdir': 'LR'}) # LR = left to right\n",
        "\n",
        "  nodes, edges = trace(root)\n",
        "  for n in nodes:\n",
        "    uid = str(id(n))\n",
        "    # for any value in the graph, create a rectangular ('record') node for it\n",
        "    dot.node(name = uid, label = \"{ %s | data %.4f  }\" % (n.label, n.data,), shape='record')\n",
        "    if n._op:\n",
        "      # if this value is a result of some operation, create an op node for it\n",
        "      dot.node(name = uid + n._op, label = n._op)\n",
        "      # and connect this node to it\n",
        "      dot.edge(uid + n._op, uid)\n",
        "\n",
        "  for n1, n2 in edges:\n",
        "    # connect n1 to the op node of n2\n",
        "    dot.edge(str(id(n1)), str(id(n2)) + n2._op)\n",
        "\n",
        "  return dot"
      ],
      "metadata": {
        "id": "ImLOXY97gLKN"
      },
      "execution_count": 56,
      "outputs": []
    },
    {
      "cell_type": "code",
      "source": [
        "draw_dot(c)\n"
      ],
      "metadata": {
        "id": "i0KyilTKgY9C",
        "outputId": "5830d336-78fa-4d5f-b446-54bdc90db0f7",
        "colab": {
          "base_uri": "https://localhost:8080/",
          "height": 154
        }
      },
      "execution_count": 57,
      "outputs": [
        {
          "output_type": "execute_result",
          "data": {
            "image/svg+xml": "<?xml version=\"1.0\" encoding=\"UTF-8\" standalone=\"no\"?>\n<!DOCTYPE svg PUBLIC \"-//W3C//DTD SVG 1.1//EN\"\n \"http://www.w3.org/Graphics/SVG/1.1/DTD/svg11.dtd\">\n<!-- Generated by graphviz version 2.43.0 (0)\n -->\n<!-- Title: %3 Pages: 1 -->\n<svg width=\"350pt\" height=\"100pt\"\n viewBox=\"0.00 0.00 350.00 100.00\" xmlns=\"http://www.w3.org/2000/svg\" xmlns:xlink=\"http://www.w3.org/1999/xlink\">\n<g id=\"graph0\" class=\"graph\" transform=\"scale(1 1) rotate(0) translate(4 96)\">\n<title>%3</title>\n<polygon fill=\"white\" stroke=\"transparent\" points=\"-4,4 -4,-96 346,-96 346,4 -4,4\"/>\n<!-- 140538085121296 -->\n<g id=\"node1\" class=\"node\">\n<title>140538085121296</title>\n<polygon fill=\"none\" stroke=\"black\" points=\"234,-27.5 234,-63.5 342,-63.5 342,-27.5 234,-27.5\"/>\n<text text-anchor=\"middle\" x=\"245.5\" y=\"-41.8\" font-family=\"Times,serif\" font-size=\"14.00\">c</text>\n<polyline fill=\"none\" stroke=\"black\" points=\"257,-27.5 257,-63.5 \"/>\n<text text-anchor=\"middle\" x=\"299.5\" y=\"-41.8\" font-family=\"Times,serif\" font-size=\"14.00\">data &#45;1.0000</text>\n</g>\n<!-- 140538085121296+ -->\n<g id=\"node2\" class=\"node\">\n<title>140538085121296+</title>\n<ellipse fill=\"none\" stroke=\"black\" cx=\"171\" cy=\"-45.5\" rx=\"27\" ry=\"18\"/>\n<text text-anchor=\"middle\" x=\"171\" y=\"-41.8\" font-family=\"Times,serif\" font-size=\"14.00\">+</text>\n</g>\n<!-- 140538085121296+&#45;&gt;140538085121296 -->\n<g id=\"edge1\" class=\"edge\">\n<title>140538085121296+&#45;&gt;140538085121296</title>\n<path fill=\"none\" stroke=\"black\" d=\"M198.1,-45.5C205.8,-45.5 214.59,-45.5 223.57,-45.5\"/>\n<polygon fill=\"black\" stroke=\"black\" points=\"223.75,-49 233.75,-45.5 223.75,-42 223.75,-49\"/>\n</g>\n<!-- 140538083737104 -->\n<g id=\"node3\" class=\"node\">\n<title>140538083737104</title>\n<polygon fill=\"none\" stroke=\"black\" points=\"0,-55.5 0,-91.5 108,-91.5 108,-55.5 0,-55.5\"/>\n<text text-anchor=\"middle\" x=\"11.5\" y=\"-69.8\" font-family=\"Times,serif\" font-size=\"14.00\">b</text>\n<polyline fill=\"none\" stroke=\"black\" points=\"23,-55.5 23,-91.5 \"/>\n<text text-anchor=\"middle\" x=\"65.5\" y=\"-69.8\" font-family=\"Times,serif\" font-size=\"14.00\">data &#45;3.0000</text>\n</g>\n<!-- 140538083737104&#45;&gt;140538085121296+ -->\n<g id=\"edge3\" class=\"edge\">\n<title>140538083737104&#45;&gt;140538085121296+</title>\n<path fill=\"none\" stroke=\"black\" d=\"M108.12,-60.57C117.51,-58.28 127.06,-55.95 135.76,-53.84\"/>\n<polygon fill=\"black\" stroke=\"black\" points=\"136.62,-57.23 145.51,-51.46 134.97,-50.43 136.62,-57.23\"/>\n</g>\n<!-- 140538083429072 -->\n<g id=\"node4\" class=\"node\">\n<title>140538083429072</title>\n<polygon fill=\"none\" stroke=\"black\" points=\"2.5,-0.5 2.5,-36.5 105.5,-36.5 105.5,-0.5 2.5,-0.5\"/>\n<text text-anchor=\"middle\" x=\"14\" y=\"-14.8\" font-family=\"Times,serif\" font-size=\"14.00\">a</text>\n<polyline fill=\"none\" stroke=\"black\" points=\"25.5,-0.5 25.5,-36.5 \"/>\n<text text-anchor=\"middle\" x=\"65.5\" y=\"-14.8\" font-family=\"Times,serif\" font-size=\"14.00\">data 2.0000</text>\n</g>\n<!-- 140538083429072&#45;&gt;140538085121296+ -->\n<g id=\"edge2\" class=\"edge\">\n<title>140538083429072&#45;&gt;140538085121296+</title>\n<path fill=\"none\" stroke=\"black\" d=\"M105.78,-30.42C115.74,-32.76 125.98,-35.17 135.28,-37.35\"/>\n<polygon fill=\"black\" stroke=\"black\" points=\"134.77,-40.82 145.3,-39.7 136.37,-34.01 134.77,-40.82\"/>\n</g>\n</g>\n</svg>\n",
            "text/plain": [
              "<graphviz.graphs.Digraph at 0x7fd192a41210>"
            ]
          },
          "metadata": {},
          "execution_count": 57
        }
      ]
    }
  ]
}