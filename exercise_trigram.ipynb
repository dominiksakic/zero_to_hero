{
  "nbformat": 4,
  "nbformat_minor": 0,
  "metadata": {
    "colab": {
      "provenance": [],
      "authorship_tag": "ABX9TyMyTPVNWfr6aDSziaqaX0zk",
      "include_colab_link": true
    },
    "kernelspec": {
      "name": "python3",
      "display_name": "Python 3"
    },
    "language_info": {
      "name": "python"
    }
  },
  "cells": [
    {
      "cell_type": "markdown",
      "metadata": {
        "id": "view-in-github",
        "colab_type": "text"
      },
      "source": [
        "<a href=\"https://colab.research.google.com/github/dominiksakic/zero_to_hero/blob/main/exercise_trigram.ipynb\" target=\"_parent\"><img src=\"https://colab.research.google.com/assets/colab-badge.svg\" alt=\"Open In Colab\"/></a>"
      ]
    },
    {
      "cell_type": "markdown",
      "source": [
        "#Quests\n",
        "- E01: train a trigram language model, i.e. take two characters as an input to predict the 3rd one. Feel free to use either counting or a neural net. Evaluate the loss; Did it improve over a bigram model? (COMPLETE!)\n",
        "- E02: split up the dataset randomly into 80% train set, 10% dev set, 10% test set. Train the bigram and trigram models only on the training set. Evaluate them on dev and test splits. What can you see? (COMPLETE!)\n",
        "- E03: use the dev set to tune the strength of smoothing (or regularization) for the trigram model - i.e. try many possibilities and see which one works best based on the dev set loss. What patterns can you see in the train and dev set loss as you tune this strength? Take the best setting of the smoothing and evaluate on the test set once and at the end. How good of a loss do you achieve?\n",
        "- E04: we saw that our 1-hot vectors merely select a row of W, so producing these vectors explicitly feels wasteful. Can you delete our use of F.one_hot in favor of simply indexing into rows of W?\n",
        "- E05: look up and use F.cross_entropy instead. You should achieve the same result. Can you think of why we'd prefer to use F.cross_entropy instead?\n",
        "- E06: meta-exercise! Think of a fun/interesting exercise and complete it.\n"
      ],
      "metadata": {
        "id": "rZ1QPM5lOSR5"
      }
    },
    {
      "cell_type": "code",
      "execution_count": 20,
      "metadata": {
        "colab": {
          "base_uri": "https://localhost:8080/",
          "height": 37
        },
        "id": "BjKaA90KuKIq",
        "outputId": "0ce57e5e-9d1a-42b7-f157-9d80a35b89fa"
      },
      "outputs": [
        {
          "output_type": "display_data",
          "data": {
            "text/plain": [
              "<IPython.core.display.HTML object>"
            ],
            "text/html": [
              "\n",
              "     <input type=\"file\" id=\"files-37d09def-9d24-4bf4-9f84-fd30745be216\" name=\"files[]\" multiple disabled\n",
              "        style=\"border:none\" />\n",
              "     <output id=\"result-37d09def-9d24-4bf4-9f84-fd30745be216\">\n",
              "      Upload widget is only available when the cell has been executed in the\n",
              "      current browser session. Please rerun this cell to enable.\n",
              "      </output>\n",
              "      <script>// Copyright 2017 Google LLC\n",
              "//\n",
              "// Licensed under the Apache License, Version 2.0 (the \"License\");\n",
              "// you may not use this file except in compliance with the License.\n",
              "// You may obtain a copy of the License at\n",
              "//\n",
              "//      http://www.apache.org/licenses/LICENSE-2.0\n",
              "//\n",
              "// Unless required by applicable law or agreed to in writing, software\n",
              "// distributed under the License is distributed on an \"AS IS\" BASIS,\n",
              "// WITHOUT WARRANTIES OR CONDITIONS OF ANY KIND, either express or implied.\n",
              "// See the License for the specific language governing permissions and\n",
              "// limitations under the License.\n",
              "\n",
              "/**\n",
              " * @fileoverview Helpers for google.colab Python module.\n",
              " */\n",
              "(function(scope) {\n",
              "function span(text, styleAttributes = {}) {\n",
              "  const element = document.createElement('span');\n",
              "  element.textContent = text;\n",
              "  for (const key of Object.keys(styleAttributes)) {\n",
              "    element.style[key] = styleAttributes[key];\n",
              "  }\n",
              "  return element;\n",
              "}\n",
              "\n",
              "// Max number of bytes which will be uploaded at a time.\n",
              "const MAX_PAYLOAD_SIZE = 100 * 1024;\n",
              "\n",
              "function _uploadFiles(inputId, outputId) {\n",
              "  const steps = uploadFilesStep(inputId, outputId);\n",
              "  const outputElement = document.getElementById(outputId);\n",
              "  // Cache steps on the outputElement to make it available for the next call\n",
              "  // to uploadFilesContinue from Python.\n",
              "  outputElement.steps = steps;\n",
              "\n",
              "  return _uploadFilesContinue(outputId);\n",
              "}\n",
              "\n",
              "// This is roughly an async generator (not supported in the browser yet),\n",
              "// where there are multiple asynchronous steps and the Python side is going\n",
              "// to poll for completion of each step.\n",
              "// This uses a Promise to block the python side on completion of each step,\n",
              "// then passes the result of the previous step as the input to the next step.\n",
              "function _uploadFilesContinue(outputId) {\n",
              "  const outputElement = document.getElementById(outputId);\n",
              "  const steps = outputElement.steps;\n",
              "\n",
              "  const next = steps.next(outputElement.lastPromiseValue);\n",
              "  return Promise.resolve(next.value.promise).then((value) => {\n",
              "    // Cache the last promise value to make it available to the next\n",
              "    // step of the generator.\n",
              "    outputElement.lastPromiseValue = value;\n",
              "    return next.value.response;\n",
              "  });\n",
              "}\n",
              "\n",
              "/**\n",
              " * Generator function which is called between each async step of the upload\n",
              " * process.\n",
              " * @param {string} inputId Element ID of the input file picker element.\n",
              " * @param {string} outputId Element ID of the output display.\n",
              " * @return {!Iterable<!Object>} Iterable of next steps.\n",
              " */\n",
              "function* uploadFilesStep(inputId, outputId) {\n",
              "  const inputElement = document.getElementById(inputId);\n",
              "  inputElement.disabled = false;\n",
              "\n",
              "  const outputElement = document.getElementById(outputId);\n",
              "  outputElement.innerHTML = '';\n",
              "\n",
              "  const pickedPromise = new Promise((resolve) => {\n",
              "    inputElement.addEventListener('change', (e) => {\n",
              "      resolve(e.target.files);\n",
              "    });\n",
              "  });\n",
              "\n",
              "  const cancel = document.createElement('button');\n",
              "  inputElement.parentElement.appendChild(cancel);\n",
              "  cancel.textContent = 'Cancel upload';\n",
              "  const cancelPromise = new Promise((resolve) => {\n",
              "    cancel.onclick = () => {\n",
              "      resolve(null);\n",
              "    };\n",
              "  });\n",
              "\n",
              "  // Wait for the user to pick the files.\n",
              "  const files = yield {\n",
              "    promise: Promise.race([pickedPromise, cancelPromise]),\n",
              "    response: {\n",
              "      action: 'starting',\n",
              "    }\n",
              "  };\n",
              "\n",
              "  cancel.remove();\n",
              "\n",
              "  // Disable the input element since further picks are not allowed.\n",
              "  inputElement.disabled = true;\n",
              "\n",
              "  if (!files) {\n",
              "    return {\n",
              "      response: {\n",
              "        action: 'complete',\n",
              "      }\n",
              "    };\n",
              "  }\n",
              "\n",
              "  for (const file of files) {\n",
              "    const li = document.createElement('li');\n",
              "    li.append(span(file.name, {fontWeight: 'bold'}));\n",
              "    li.append(span(\n",
              "        `(${file.type || 'n/a'}) - ${file.size} bytes, ` +\n",
              "        `last modified: ${\n",
              "            file.lastModifiedDate ? file.lastModifiedDate.toLocaleDateString() :\n",
              "                                    'n/a'} - `));\n",
              "    const percent = span('0% done');\n",
              "    li.appendChild(percent);\n",
              "\n",
              "    outputElement.appendChild(li);\n",
              "\n",
              "    const fileDataPromise = new Promise((resolve) => {\n",
              "      const reader = new FileReader();\n",
              "      reader.onload = (e) => {\n",
              "        resolve(e.target.result);\n",
              "      };\n",
              "      reader.readAsArrayBuffer(file);\n",
              "    });\n",
              "    // Wait for the data to be ready.\n",
              "    let fileData = yield {\n",
              "      promise: fileDataPromise,\n",
              "      response: {\n",
              "        action: 'continue',\n",
              "      }\n",
              "    };\n",
              "\n",
              "    // Use a chunked sending to avoid message size limits. See b/62115660.\n",
              "    let position = 0;\n",
              "    do {\n",
              "      const length = Math.min(fileData.byteLength - position, MAX_PAYLOAD_SIZE);\n",
              "      const chunk = new Uint8Array(fileData, position, length);\n",
              "      position += length;\n",
              "\n",
              "      const base64 = btoa(String.fromCharCode.apply(null, chunk));\n",
              "      yield {\n",
              "        response: {\n",
              "          action: 'append',\n",
              "          file: file.name,\n",
              "          data: base64,\n",
              "        },\n",
              "      };\n",
              "\n",
              "      let percentDone = fileData.byteLength === 0 ?\n",
              "          100 :\n",
              "          Math.round((position / fileData.byteLength) * 100);\n",
              "      percent.textContent = `${percentDone}% done`;\n",
              "\n",
              "    } while (position < fileData.byteLength);\n",
              "  }\n",
              "\n",
              "  // All done.\n",
              "  yield {\n",
              "    response: {\n",
              "      action: 'complete',\n",
              "    }\n",
              "  };\n",
              "}\n",
              "\n",
              "scope.google = scope.google || {};\n",
              "scope.google.colab = scope.google.colab || {};\n",
              "scope.google.colab._files = {\n",
              "  _uploadFiles,\n",
              "  _uploadFilesContinue,\n",
              "};\n",
              "})(self);\n",
              "</script> "
            ]
          },
          "metadata": {}
        }
      ],
      "source": [
        "from google.colab import files\n",
        "\n",
        "uploaded = files.upload()\n",
        "\n",
        "for fn in uploaded.keys():\n",
        "  print('User uploaded file \"{name}\" with length {length} bytes'.format(\n",
        "      name=fn, length=len(uploaded[fn])))"
      ]
    },
    {
      "cell_type": "code",
      "source": [
        "words = open('names.txt', 'r').read().splitlines()"
      ],
      "metadata": {
        "id": "D1ICwNLhuVHw"
      },
      "execution_count": 21,
      "outputs": []
    },
    {
      "cell_type": "code",
      "source": [
        "train_idx = int(len(words) * 0.8)\n",
        "dev_idx = int(len(words) * 0.1)\n",
        "\n",
        "train_words = words[:train_idx]\n",
        "dev_words = words[train_idx:train_idx + dev_idx]\n",
        "test_words = words[train_idx+dev_idx:]\n",
        "\n",
        "print(f\"Train set: {len(train_words)}\")\n",
        "print(f\"Dev set: {len(dev_words)}\")\n",
        "print(f\"Test set: {len(test_words)}\")"
      ],
      "metadata": {
        "id": "bnUUkX2wOlI8",
        "outputId": "4ca67112-cb11-456c-ddd0-988850218220",
        "colab": {
          "base_uri": "https://localhost:8080/"
        }
      },
      "execution_count": 22,
      "outputs": [
        {
          "output_type": "stream",
          "name": "stdout",
          "text": [
            "Train set: 25626\n",
            "Dev set: 3203\n",
            "Test set: 3204\n"
          ]
        }
      ]
    },
    {
      "cell_type": "code",
      "source": [
        "import torch\n",
        "\n",
        "chars = sorted(list(set(''.join(words))))\n",
        "stoi = {s:i+1 for i,s in enumerate(chars)}\n",
        "stoi['.'] = 0\n",
        "itos = {i:s for s,i in stoi.items()}\n",
        "\n",
        "N = torch.zeros((27, 27, 27) , dtype=torch.int32)\n",
        "\n",
        "for w in train_words:\n",
        "  chs = ['.'] + list(w) + ['.']\n",
        "  for ch1, ch2, ch3 in zip(chs, chs[1:], chs[2:]):\n",
        "    ix1 = stoi[ch1]\n",
        "    ix2 = stoi[ch2]\n",
        "    ix3 = stoi[ch3]\n",
        "    N[ix1, ix2, ix3] += 1\n",
        "\n",
        "alpha = 1\n",
        "N += alpha"
      ],
      "metadata": {
        "id": "sN96eU19uXkn"
      },
      "execution_count": 23,
      "outputs": []
    },
    {
      "cell_type": "code",
      "source": [
        "P = N.float()\n",
        "P /= P.sum(2, keepdim=True)\n",
        "\n",
        "g = torch.Generator().manual_seed(2147483647)\n",
        "\n",
        "for i in range(5):\n",
        "\n",
        "  out = []\n",
        "  ix1 = 0\n",
        "  ix2 = 0\n",
        "  while True:\n",
        "    p = P[ix1, ix2]\n",
        "    ix3 = torch.multinomial(p, num_samples=1, replacement=True, generator=g).item()\n",
        "    out.append(itos[ix3])\n",
        "    if ix3 == 0:\n",
        "      break\n",
        "    ix1, ix2 = ix2, ix3\n",
        "  print(''.join(out))"
      ],
      "metadata": {
        "colab": {
          "base_uri": "https://localhost:8080/"
        },
        "id": "YDBrwKTku-LK",
        "outputId": "23bd7d83-8274-4e78-f517-d0c756b353d6"
      },
      "execution_count": 24,
      "outputs": [
        {
          "output_type": "stream",
          "name": "stdout",
          "text": [
            "junide.\n",
            "ilyasid.\n",
            "prelayleinna.\n",
            "jimritonia.\n",
            "saree.\n"
          ]
        }
      ]
    },
    {
      "cell_type": "code",
      "source": [
        "def calulate_loss(words):\n",
        "  g = torch.Generator().manual_seed(2147483647)\n",
        "  log_likelihood = 0.0\n",
        "  n = 0\n",
        "\n",
        "  for w in words:\n",
        "  # for w in [\"kanade\"]:\n",
        "    chs = ['.'] + list(w) + ['.']\n",
        "    for ch1, ch2, ch3 in zip(chs, chs[1:], chs[2:]):\n",
        "      ix1 = stoi[ch1]\n",
        "      ix2 = stoi[ch2]\n",
        "      ix3 = stoi[ch3]\n",
        "      prob = P[ix1, ix2, ix3]\n",
        "      logprob = torch.log(prob)\n",
        "      log_likelihood += logprob\n",
        "      n += 1\n",
        "      # print(f'{ch1}{ch2}: {prob:.4f} {logprob:.4f}')\n",
        "\n",
        "  print(f'{log_likelihood=}')\n",
        "  nll = -log_likelihood\n",
        "  print(f'{nll=}')\n",
        "  print(f'{nll/n}')\n",
        "  return \"\\n\"\n",
        "\n",
        "print(f\"Test set {calulate_loss(train_words)}\")\n",
        "print(f\"Dev set {calulate_loss(dev_words)}\")\n",
        "print(f\"Test set {calulate_loss(test_words)}\")"
      ],
      "metadata": {
        "colab": {
          "base_uri": "https://localhost:8080/"
        },
        "id": "2RSiKhanx5hF",
        "outputId": "ecaf9291-c63e-4667-af40-f116a5f362f1"
      },
      "execution_count": 31,
      "outputs": [
        {
          "output_type": "stream",
          "name": "stdout",
          "text": [
            "log_likelihood=tensor(-322671.4062)\n",
            "nll=tensor(322671.4062)\n",
            "2.053244113922119\n",
            "Test set \n",
            "\n",
            "log_likelihood=tensor(-45202.6094)\n",
            "nll=tensor(45202.6094)\n",
            "2.3264338970184326\n",
            "Dev set \n",
            "\n",
            "log_likelihood=tensor(-45653.1797)\n",
            "nll=tensor(45653.1797)\n",
            "2.337472677230835\n",
            "Test set \n",
            "\n"
          ]
        }
      ]
    },
    {
      "cell_type": "markdown",
      "source": [
        "# NN with one layer"
      ],
      "metadata": {
        "id": "kQjORGqHyyup"
      }
    },
    {
      "cell_type": "code",
      "source": [
        "xs, ys = [], []\n",
        "\n",
        "for w in train_words:\n",
        "  chs = ['.'] + list(w) + ['.']\n",
        "  for ch1, ch2, ch3 in zip(chs, chs[1:], chs[2:]):\n",
        "    ix1 = stoi[ch1]\n",
        "    ix2 = stoi[ch2]\n",
        "    ix3 = stoi[ch3]\n",
        "\n",
        "    xs.append([ix1, ix2])\n",
        "    ys.append(ix3)\n",
        "\n",
        "xs = torch.tensor(xs)\n",
        "ys = torch.tensor(ys)\n",
        "\n",
        "num = xs.shape[0]\n",
        "print('number of examples: ', num)"
      ],
      "metadata": {
        "colab": {
          "base_uri": "https://localhost:8080/"
        },
        "id": "7MPyD7_9yn8O",
        "outputId": "2a8583fc-14d1-4196-bba8-06da6a9e958f"
      },
      "execution_count": 32,
      "outputs": [
        {
          "output_type": "stream",
          "name": "stdout",
          "text": [
            "number of examples:  157152\n"
          ]
        }
      ]
    },
    {
      "cell_type": "code",
      "source": [
        "# initialize the 'network'\n",
        "g = torch.Generator().manual_seed(2147483647)\n",
        "W = torch.randn((54, 27), generator=g, requires_grad=True)"
      ],
      "metadata": {
        "id": "kT51mL_K1heC"
      },
      "execution_count": 33,
      "outputs": []
    },
    {
      "cell_type": "code",
      "source": [
        "import torch.nn.functional as F\n",
        "\n",
        "# gradient descent\n",
        "for k in range(1000):\n",
        "\n",
        "  # forward pass\n",
        "  xenc = F.one_hot(xs, num_classes=27).float()\n",
        "  xenc = xenc.reshape(xenc.shape[0], -1)\n",
        "\n",
        "  logits = xenc @ W\n",
        "  counts = logits.exp()\n",
        "  probs = counts / counts.sum(1, keepdims=True)\n",
        "\n",
        "  loss = -probs[torch.arange(num), ys].log().mean() + 0.01*(W**2).mean()\n",
        "  if k % 10 == 0:\n",
        "    print(loss.item())\n",
        "\n",
        "  # backward pass\n",
        "  W.grad = None # set to zero the gradient\n",
        "  loss.backward()\n",
        "\n",
        "  # update\n",
        "  W.data += -50* W.grad"
      ],
      "metadata": {
        "colab": {
          "base_uri": "https://localhost:8080/"
        },
        "id": "jLeEFXGk1kw1",
        "outputId": "a92060f9-4c74-4bee-8917-457e03fd9783"
      },
      "execution_count": 35,
      "outputs": [
        {
          "output_type": "stream",
          "name": "stdout",
          "text": [
            "2.787389039993286\n",
            "2.409698486328125\n",
            "2.328303337097168\n",
            "2.2924156188964844\n",
            "2.27254581451416\n",
            "2.260072946548462\n",
            "2.251558542251587\n",
            "2.2453932762145996\n",
            "2.240731954574585\n",
            "2.237093687057495\n",
            "2.234182834625244\n",
            "2.2318100929260254\n",
            "2.2298460006713867\n",
            "2.2281992435455322\n",
            "2.226803779602051\n",
            "2.22560977935791\n",
            "2.224579334259033\n",
            "2.2236828804016113\n",
            "2.22289776802063\n",
            "2.22220516204834\n",
            "2.2215917110443115\n",
            "2.2210447788238525\n",
            "2.220555067062378\n",
            "2.2201154232025146\n",
            "2.2197189331054688\n",
            "2.219360589981079\n",
            "2.2190349102020264\n",
            "2.2187392711639404\n",
            "2.2184698581695557\n",
            "2.2182233333587646\n",
            "2.2179975509643555\n",
            "2.2177908420562744\n",
            "2.2176003456115723\n",
            "2.2174248695373535\n",
            "2.2172632217407227\n",
            "2.217113733291626\n",
            "2.216975212097168\n",
            "2.2168467044830322\n",
            "2.2167274951934814\n",
            "2.21661639213562\n",
            "2.216513156890869\n",
            "2.216416358947754\n",
            "2.2163259983062744\n",
            "2.2162418365478516\n",
            "2.2161624431610107\n",
            "2.21608829498291\n",
            "2.2160181999206543\n",
            "2.2159523963928223\n",
            "2.215890884399414\n",
            "2.215832233428955\n",
            "2.2157771587371826\n",
            "2.2157254219055176\n",
            "2.2156760692596436\n",
            "2.2156293392181396\n",
            "2.2155849933624268\n",
            "2.215543270111084\n",
            "2.215503454208374\n",
            "2.215465545654297\n",
            "2.2154297828674316\n",
            "2.215395450592041\n",
            "2.215362787246704\n",
            "2.215331792831421\n",
            "2.215301752090454\n",
            "2.21527361869812\n",
            "2.2152466773986816\n",
            "2.2152204513549805\n",
            "2.215195894241333\n",
            "2.215172290802002\n",
            "2.215149402618408\n",
            "2.21512770652771\n",
            "2.21510648727417\n",
            "2.2150864601135254\n",
            "2.215067148208618\n",
            "2.2150487899780273\n",
            "2.2150309085845947\n",
            "2.2150137424468994\n",
            "2.2149972915649414\n",
            "2.2149810791015625\n",
            "2.2149658203125\n",
            "2.2149510383605957\n",
            "2.2149367332458496\n",
            "2.21492338180542\n",
            "2.214909553527832\n",
            "2.2148971557617188\n",
            "2.2148847579956055\n",
            "2.2148728370666504\n",
            "2.2148609161376953\n",
            "2.2148497104644775\n",
            "2.214838981628418\n",
            "2.2148284912109375\n",
            "2.214818000793457\n",
            "2.214808464050293\n",
            "2.214798927307129\n",
            "2.214789390563965\n",
            "2.214780569076538\n",
            "2.2147715091705322\n",
            "2.2147631645202637\n",
            "2.214754819869995\n",
            "2.214747190475464\n",
            "2.2147393226623535\n"
          ]
        }
      ]
    },
    {
      "cell_type": "code",
      "source": [
        "# Helper functions:\n",
        "def calculate_loss(xs, ys):\n",
        "  xenc = F.one_hot(xs, num_classes=27).float()\n",
        "  xenc = xenc.reshape(xenc.shape[0], -1)\n",
        "\n",
        "  logits = xenc @ W\n",
        "  counts = logits.exp()\n",
        "  probs = counts / counts.sum(1, keepdims=True)\n",
        "\n",
        "  num = xs.shape[0]\n",
        "  loss = -probs[torch.arange(num), ys].log().mean() + 0.01*(W**2).mean()\n",
        "\n",
        "  return loss\n",
        "\n",
        "def one_hot_encode(words):\n",
        "  xs, ys = [], []\n",
        "\n",
        "  for w in words:\n",
        "    chs = ['.'] + list(w) + ['.']\n",
        "    for ch1, ch2, ch3 in zip(chs, chs[1:], chs[2:]):\n",
        "      ix1 = stoi[ch1]\n",
        "      ix2 = stoi[ch2]\n",
        "      ix3 = stoi[ch3]\n",
        "\n",
        "      xs.append([ix1, ix2])\n",
        "      ys.append(ix3)\n",
        "\n",
        "  xs = torch.tensor(xs)\n",
        "  ys = torch.tensor(ys)\n",
        "\n",
        "  return xs, ys"
      ],
      "metadata": {
        "id": "2JCBppgKRUST"
      },
      "execution_count": 36,
      "outputs": []
    },
    {
      "cell_type": "code",
      "source": [
        "# Dev loss\n",
        "xs, ys = one_hot_encode(dev_words)\n",
        "dev_loss = calculate_loss(xs, ys)\n",
        "print(f\"Dev loss: {dev_loss}\")"
      ],
      "metadata": {
        "id": "8EQQ6G6BSMqx",
        "outputId": "ca0e5147-6e5b-42ee-d039-c68334add849",
        "colab": {
          "base_uri": "https://localhost:8080/"
        }
      },
      "execution_count": 37,
      "outputs": [
        {
          "output_type": "stream",
          "name": "stdout",
          "text": [
            "Dev loss: 2.4342474937438965\n"
          ]
        }
      ]
    },
    {
      "cell_type": "code",
      "source": [
        "# Test loss\n",
        "xs, ys = one_hot_encode(test_words)\n",
        "test_loss = calculate_loss(xs, ys)\n",
        "print(f\"Dev loss: {test_loss}\")"
      ],
      "metadata": {
        "id": "x4GbdT18SOW-",
        "outputId": "00fb70a8-4594-4c68-ab9e-4f4b89f5944c",
        "colab": {
          "base_uri": "https://localhost:8080/"
        }
      },
      "execution_count": 38,
      "outputs": [
        {
          "output_type": "stream",
          "name": "stdout",
          "text": [
            "Dev loss: 2.4337499141693115\n"
          ]
        }
      ]
    },
    {
      "cell_type": "code",
      "source": [
        "# sample\n",
        "g = torch.Generator().manual_seed(2147483647)\n",
        "for i in range(5):\n",
        "  out = []\n",
        "  ix1 = 0\n",
        "  ix2 = 0\n",
        "  while True:\n",
        "      xenc = F.one_hot(torch.tensor([ix1, ix2]), num_classes=27).float()\n",
        "      xenc = xenc.reshape(1, -1)\n",
        "      logits = xenc @ W\n",
        "      counts = logits.exp()\n",
        "      p = counts / counts.sum(1, keepdims=True)\n",
        "\n",
        "      ix3 = torch.multinomial(p, num_samples=1, replacement=True, generator=g).item()\n",
        "      out.append(itos[ix3])\n",
        "      if ix3 == 0:\n",
        "        break\n",
        "      ix1, ix2 = ix2, ix3\n",
        "  print(''.join(out))"
      ],
      "metadata": {
        "colab": {
          "base_uri": "https://localhost:8080/"
        },
        "id": "T0K48De9141d",
        "outputId": "17ed5885-e000-4dd0-9a14-2aa7179b29eb"
      },
      "execution_count": 39,
      "outputs": [
        {
          "output_type": "stream",
          "name": "stdout",
          "text": [
            "uunide.\n",
            "uliagar.\n",
            "ulen.\n",
            "amainn.\n",
            "vorin.\n"
          ]
        }
      ]
    }
  ]
}