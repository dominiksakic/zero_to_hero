{
  "nbformat": 4,
  "nbformat_minor": 0,
  "metadata": {
    "colab": {
      "provenance": [],
      "authorship_tag": "ABX9TyMh7jDvGvlmNT+5O7PZxdaH",
      "include_colab_link": true
    },
    "kernelspec": {
      "name": "python3",
      "display_name": "Python 3"
    },
    "language_info": {
      "name": "python"
    }
  },
  "cells": [
    {
      "cell_type": "markdown",
      "metadata": {
        "id": "view-in-github",
        "colab_type": "text"
      },
      "source": [
        "<a href=\"https://colab.research.google.com/github/dominiksakic/zero_to_hero/blob/main/adv_01_dialated_conv.ipynb\" target=\"_parent\"><img src=\"https://colab.research.google.com/assets/colab-badge.svg\" alt=\"Open In Colab\"/></a>"
      ]
    },
    {
      "cell_type": "markdown",
      "source": [
        "# Goal\n",
        "- implement a dialated Convolutions\n",
        "- link: https://arxiv.org/pdf/1609.03499"
      ],
      "metadata": {
        "id": "f_UfT-VrLDuA"
      }
    },
    {
      "cell_type": "code",
      "execution_count": 1,
      "metadata": {
        "colab": {
          "base_uri": "https://localhost:8080/"
        },
        "id": "KEqQm8txKY_G",
        "outputId": "330fbcb4-a8ff-476c-e859-1cdb5f6a4cc2"
      },
      "outputs": [
        {
          "output_type": "stream",
          "name": "stdout",
          "text": [
            "--2025-07-07 23:16:42--  https://raw.githubusercontent.com/karpathy/makemore/master/names.txt\n",
            "Resolving raw.githubusercontent.com (raw.githubusercontent.com)... 185.199.108.133, 185.199.109.133, 185.199.110.133, ...\n",
            "Connecting to raw.githubusercontent.com (raw.githubusercontent.com)|185.199.108.133|:443... connected.\n",
            "HTTP request sent, awaiting response... 200 OK\n",
            "Length: 228145 (223K) [text/plain]\n",
            "Saving to: ‘names.txt’\n",
            "\n",
            "\rnames.txt             0%[                    ]       0  --.-KB/s               \rnames.txt           100%[===================>] 222.80K  --.-KB/s    in 0.005s  \n",
            "\n",
            "2025-07-07 23:16:42 (41.2 MB/s) - ‘names.txt’ saved [228145/228145]\n",
            "\n"
          ]
        }
      ],
      "source": [
        "#BOILERPLATE CONVNET\n",
        "!wget https://raw.githubusercontent.com/karpathy/makemore/master/names.txt"
      ]
    },
    {
      "cell_type": "code",
      "source": [
        "import torch\n",
        "import torch.nn.functional as F\n",
        "import torch.nn as nn\n",
        "import matplotlib.pyplot as plt\n",
        "%matplotlib inline"
      ],
      "metadata": {
        "id": "DASrFOJXLUpi"
      },
      "execution_count": 42,
      "outputs": []
    },
    {
      "cell_type": "code",
      "source": [
        "words = open('names.txt', 'r').read().splitlines()\n",
        "\n",
        "# build vocab and mappings to/from integers\n",
        "chars = sorted(list(set(''.join(words))))\n",
        "stoi = {s: i + 1 for i, s in enumerate(chars)}\n",
        "stoi['.'] = 0\n",
        "itos = {i : s for s, i in stoi.items()}\n",
        "vocab_size = len(itos)\n",
        "\n",
        "\n",
        "# build the dataset\n",
        "block_size = 8\n",
        "\n",
        "def build_dataset(words):\n",
        "  X, Y = [], []\n",
        "  for w in words:\n",
        "\n",
        "    #print(w)\n",
        "    context = [0] * block_size\n",
        "    for ch in w + '.':\n",
        "      ix = stoi[ch]\n",
        "      X.append(context)\n",
        "      Y.append(ix)\n",
        "      context = context[1:] + [ix] # crop and append\n",
        "\n",
        "  X = torch.tensor(X)\n",
        "  Y = torch.tensor(Y)\n",
        "  print(X.shape, Y.shape)\n",
        "  return X, Y\n",
        "\n",
        "import random\n",
        "random.seed(42)\n",
        "random.shuffle(words)\n",
        "n1 = int(0.8*len(words))\n",
        "n2 = int(0.9*len(words))\n",
        "\n",
        "Xtr, Ytr = build_dataset(words[:n1])\n",
        "Xdev, Ydev = build_dataset(words[n1:n2])\n",
        "Xte, Yte = build_dataset(words[n2:])"
      ],
      "metadata": {
        "colab": {
          "base_uri": "https://localhost:8080/"
        },
        "id": "QcfToNjILXB9",
        "outputId": "b2a2b2fa-4dde-4f08-8f1c-4541813d6cb6"
      },
      "execution_count": 43,
      "outputs": [
        {
          "output_type": "stream",
          "name": "stdout",
          "text": [
            "torch.Size([182625, 8]) torch.Size([182625])\n",
            "torch.Size([22655, 8]) torch.Size([22655])\n",
            "torch.Size([22866, 8]) torch.Size([22866])\n"
          ]
        }
      ]
    },
    {
      "cell_type": "code",
      "source": [
        "class EmbeddingWithReshape(nn.Module):\n",
        "  def __init__(self, vocab_size, n_embd):\n",
        "    super().__init__()\n",
        "    self.embedding = nn.Embedding(vocab_size, n_embd)\n",
        "  \"\"\"\n",
        "  Use transpose to rearrange dimensions.\n",
        "  View wont work unless the tensor is already in the correct memory layout.\n",
        "  Usefull link: https://blog.ezyang.com/2019/05/pytorch-internals/\n",
        "  \"\"\"\n",
        "  def forward(self, x):\n",
        "    # x: (B, T)\n",
        "    x = self.embedding(x) # (B,T,C)\n",
        "    x = x.transpose(1, 2) # (B,C,T)\n",
        "    return x"
      ],
      "metadata": {
        "id": "vN-J4bkPLZz5"
      },
      "execution_count": 48,
      "outputs": []
    },
    {
      "cell_type": "code",
      "source": [
        "n_embd = 10\n",
        "n_hidden = 200\n",
        "block_size = 8\n",
        "\n",
        "model = nn.Sequential(\n",
        "    EmbeddingWithReshape(vocab_size, n_embd),\n",
        "    nn.Conv1d(n_embd, n_hidden, kernel_size=2),\n",
        "    nn.BatchNorm1d(n_hidden),\n",
        "    nn.Tanh(),\n",
        "\n",
        "    nn.Conv1d(n_hidden, n_hidden, kernel_size=2),\n",
        "    nn.BatchNorm1d(n_hidden),\n",
        "    nn.Tanh(),\n",
        "\n",
        "    nn.Conv1d(n_hidden, n_hidden, kernel_size=2),\n",
        "    nn.BatchNorm1d(n_hidden),\n",
        "    nn.Tanh(),\n",
        "\n",
        "    nn.AdaptiveAvgPool1d(1),\n",
        "    nn.Flatten(),\n",
        "    nn.Linear(n_hidden, vocab_size),\n",
        ")\n",
        "\n",
        "x = torch.randint(0, vocab_size, (32, block_size))\n",
        "print(f\"Input shape: {x.shape}\")\n",
        "\n",
        "for layer in model:\n",
        "    x = layer(x)\n",
        "    print(f\"{layer.__class__.__name__}: {x.shape}\")"
      ],
      "metadata": {
        "colab": {
          "base_uri": "https://localhost:8080/"
        },
        "id": "LscO4_sJLqwj",
        "outputId": "48863de5-cabf-4a27-f831-6a16685f8247"
      },
      "execution_count": 49,
      "outputs": [
        {
          "output_type": "stream",
          "name": "stdout",
          "text": [
            "Input shape: torch.Size([32, 8])\n",
            "EmbeddingWithReshape: torch.Size([32, 10, 8])\n",
            "Conv1d: torch.Size([32, 200, 7])\n",
            "BatchNorm1d: torch.Size([32, 200, 7])\n",
            "Tanh: torch.Size([32, 200, 7])\n",
            "Conv1d: torch.Size([32, 200, 6])\n",
            "BatchNorm1d: torch.Size([32, 200, 6])\n",
            "Tanh: torch.Size([32, 200, 6])\n",
            "Conv1d: torch.Size([32, 200, 5])\n",
            "BatchNorm1d: torch.Size([32, 200, 5])\n",
            "Tanh: torch.Size([32, 200, 5])\n",
            "AdaptiveAvgPool1d: torch.Size([32, 200, 1])\n",
            "Flatten: torch.Size([32, 200])\n",
            "Linear: torch.Size([32, 27])\n"
          ]
        }
      ]
    },
    {
      "cell_type": "code",
      "source": [
        "parameters = list(model.parameters())\n",
        "print(f\"Parameters: {sum((p.nelement() for p in parameters))}\")"
      ],
      "metadata": {
        "colab": {
          "base_uri": "https://localhost:8080/"
        },
        "id": "FkOJw0QBLsGi",
        "outputId": "26e40e43-f457-4f64-c072-9eefd33bb554"
      },
      "execution_count": 50,
      "outputs": [
        {
          "output_type": "stream",
          "name": "stdout",
          "text": [
            "Parameters: 171497\n"
          ]
        }
      ]
    },
    {
      "cell_type": "code",
      "source": [
        "max_steps = 200000\n",
        "batch_size = 32\n",
        "lossi = []\n",
        "ud = []\n",
        "\n",
        "for i in range(max_steps):\n",
        "\n",
        "  # minibatch construct\n",
        "  ix = torch.randint(0, Xtr.shape[0], (batch_size,))\n",
        "  Xb, Yb = Xtr[ix], Ytr[ix]\n",
        "\n",
        "  # forward pass\n",
        "  logits = model(Xb)\n",
        "  loss = F.cross_entropy(logits, Yb)\n",
        "\n",
        "  # backward pass\n",
        "  for p in parameters:\n",
        "    p.grad = None\n",
        "\n",
        "  loss.backward()\n",
        "\n",
        "  # update\n",
        "  lr = 0.1 if i < 150000 else 0.01\n",
        "  for p in parameters:\n",
        "    p.data += -lr * p.grad\n",
        "\n",
        "  # track stats\n",
        "  if i % 10000 == 0:\n",
        "    print(f'{i:7d}/{max_steps:7d}: {loss.item():.4f}')\n",
        "  lossi.append(loss.log10().item())"
      ],
      "metadata": {
        "colab": {
          "base_uri": "https://localhost:8080/"
        },
        "id": "rnJBatS_LupQ",
        "outputId": "1865edad-9ace-4e67-f6b7-96621d795ce1"
      },
      "execution_count": null,
      "outputs": [
        {
          "output_type": "stream",
          "name": "stdout",
          "text": [
            "      0/ 200000: 3.3550\n"
          ]
        }
      ]
    },
    {
      "cell_type": "code",
      "source": [
        "plt.plot(torch.tensor(lossi).view(-1, 1000).mean(1))"
      ],
      "metadata": {
        "id": "B1fr9TtbLy5e"
      },
      "execution_count": null,
      "outputs": []
    },
    {
      "cell_type": "code",
      "source": [
        "@torch.no_grad()\n",
        "def split_loss(split):\n",
        "  model.eval()\n",
        "  x,y = {\n",
        "    'train': (Xtr, Ytr),\n",
        "    'val': (Xdev, Ydev),\n",
        "    'test': (Xte, Yte),\n",
        "  }[split]\n",
        "\n",
        "  logits = model(x)\n",
        "  loss = F.cross_entropy(logits, y)\n",
        "  print(split, loss.item())\n",
        "\n",
        "split_loss('train')\n",
        "split_loss('val')"
      ],
      "metadata": {
        "id": "HLvykGURLwlY"
      },
      "execution_count": null,
      "outputs": []
    },
    {
      "cell_type": "code",
      "source": [
        "# sample from the model\n",
        "for _ in range(20):\n",
        "\n",
        "    out = []\n",
        "    context = [0] * block_size\n",
        "    while True:\n",
        "      logits = model(torch.tensor([context]))\n",
        "      probs = F.softmax(logits, dim=1)\n",
        "      # sample from the distribution\n",
        "      ix = torch.multinomial(probs, num_samples=1).item()\n",
        "      # shift the context window and track the samples\n",
        "      context = context[1:] + [ix]\n",
        "      out.append(ix)\n",
        "      if ix == 0:\n",
        "        break\n",
        "\n",
        "    print(''.join(itos[i] for i in out))"
      ],
      "metadata": {
        "id": "x7Z4KFF6L0f3"
      },
      "execution_count": null,
      "outputs": []
    },
    {
      "cell_type": "code",
      "source": [
        "# BOILERPLATE END"
      ],
      "metadata": {
        "id": "mceiE_GfL1DG"
      },
      "execution_count": null,
      "outputs": []
    }
  ]
}