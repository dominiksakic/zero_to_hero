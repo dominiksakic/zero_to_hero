{
  "nbformat": 4,
  "nbformat_minor": 0,
  "metadata": {
    "colab": {
      "provenance": [],
      "authorship_tag": "ABX9TyOpB2UOD0QfDWBQglAPLjWZ",
      "include_colab_link": true
    },
    "kernelspec": {
      "name": "python3",
      "display_name": "Python 3"
    },
    "language_info": {
      "name": "python"
    }
  },
  "cells": [
    {
      "cell_type": "markdown",
      "metadata": {
        "id": "view-in-github",
        "colab_type": "text"
      },
      "source": [
        "<a href=\"https://colab.research.google.com/github/dominiksakic/zero_to_hero/blob/main/basics_07_representation_of_data.ipynb\" target=\"_parent\"><img src=\"https://colab.research.google.com/assets/colab-badge.svg\" alt=\"Open In Colab\"/></a>"
      ]
    },
    {
      "cell_type": "markdown",
      "source": [
        "# What data can I input into a NN?\n",
        "- Text\n",
        "- Voice Recordings\n",
        "- Images\n",
        "- Videos"
      ],
      "metadata": {
        "id": "nGIJy4cw_hnU"
      }
    },
    {
      "cell_type": "code",
      "source": [
        "# Text\n",
        "example_sentence = \"Japan is the country of the rising sun.\""
      ],
      "metadata": {
        "id": "L4aJEAm0_sQA"
      },
      "execution_count": 6,
      "outputs": []
    },
    {
      "cell_type": "code",
      "source": [
        "# One hot encoding\n",
        "\n",
        "vocab = list(set(example_sentence.split(' ')))\n",
        "vocab += ['UNK']\n",
        "\n",
        "def one_hot_encoding(word):\n",
        "  out = len(vocab) * [0]\n",
        "  index = vocab.index(word) if word in vocab else vocab.index('UNK')\n",
        "  out[index] = 1\n",
        "  return out\n",
        "\n",
        "out = []\n",
        "for word in example_sentence.split(' '):\n",
        "  out.append(one_hot_encoding(word))\n",
        "\n",
        "print(out)"
      ],
      "metadata": {
        "colab": {
          "base_uri": "https://localhost:8080/"
        },
        "id": "Ru9FJiHRCKNx",
        "outputId": "11950243-cb17-41d8-d4bc-714d34a44248"
      },
      "execution_count": 16,
      "outputs": [
        {
          "output_type": "stream",
          "name": "stdout",
          "text": [
            "[[0, 0, 0, 0, 0, 0, 1, 0], [0, 0, 1, 0, 0, 0, 0, 0], [0, 0, 0, 1, 0, 0, 0, 0], [0, 0, 0, 0, 0, 1, 0, 0], [0, 0, 0, 0, 1, 0, 0, 0], [0, 0, 0, 1, 0, 0, 0, 0], [1, 0, 0, 0, 0, 0, 0, 0], [0, 1, 0, 0, 0, 0, 0, 0]]\n"
          ]
        }
      ]
    }
  ]
}