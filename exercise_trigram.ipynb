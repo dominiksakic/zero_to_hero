{
  "nbformat": 4,
  "nbformat_minor": 0,
  "metadata": {
    "colab": {
      "provenance": [],
      "authorship_tag": "ABX9TyPdN4SbjWWjnyO8pL4xZkGg",
      "include_colab_link": true
    },
    "kernelspec": {
      "name": "python3",
      "display_name": "Python 3"
    },
    "language_info": {
      "name": "python"
    }
  },
  "cells": [
    {
      "cell_type": "markdown",
      "metadata": {
        "id": "view-in-github",
        "colab_type": "text"
      },
      "source": [
        "<a href=\"https://colab.research.google.com/github/dominiksakic/zero_to_hero/blob/main/exercise_trigram.ipynb\" target=\"_parent\"><img src=\"https://colab.research.google.com/assets/colab-badge.svg\" alt=\"Open In Colab\"/></a>"
      ]
    },
    {
      "cell_type": "markdown",
      "source": [
        "#Quests\n",
        "- E01: train a trigram language model, i.e. take two characters as an input to predict the 3rd one. Feel free to use either counting or a neural net. Evaluate the loss; Did it improve over a bigram model? (COMPLETE!)\n",
        "- E02: split up the dataset randomly into 80% train set, 10% dev set, 10% test set. Train the bigram and trigram models only on the training set. Evaluate them on dev and test splits. What can you see? (COMPLETE!)\n",
        "- E03: use the dev set to tune the strength of smoothing (or regularization) for the trigram model - i.e. try many possibilities and see which one works best based on the dev set loss. What patterns can you see in the train and dev set loss as you tune this strength? Take the best setting of the smoothing and evaluate on the test set once and at the end. How good of a loss do you achieve?(COMPLETE: If the smoothing part overweights the loss, the loss gets stuck.)\n",
        "- E04: we saw that our 1-hot vectors merely select a row of W, so producing these vectors explicitly feels wasteful. Can you delete our use of F.one_hot in favor of simply indexing into rows of W? (COMPLETE!)\n",
        "- E05: look up and use F.cross_entropy instead. You should achieve the same result. Can you think of why we'd prefer to use F.cross_entropy instead?\n",
        "- E06: meta-exercise! Think of a fun/interesting exercise and complete it.\n"
      ],
      "metadata": {
        "id": "rZ1QPM5lOSR5"
      }
    },
    {
      "cell_type": "code",
      "execution_count": 1,
      "metadata": {
        "colab": {
          "base_uri": "https://localhost:8080/",
          "height": 91
        },
        "id": "BjKaA90KuKIq",
        "outputId": "b877852d-c3b2-4aa2-8f99-c1a889f1a09f"
      },
      "outputs": [
        {
          "output_type": "display_data",
          "data": {
            "text/plain": [
              "<IPython.core.display.HTML object>"
            ],
            "text/html": [
              "\n",
              "     <input type=\"file\" id=\"files-42ce5663-4d2f-467f-bec5-0eb5706a5744\" name=\"files[]\" multiple disabled\n",
              "        style=\"border:none\" />\n",
              "     <output id=\"result-42ce5663-4d2f-467f-bec5-0eb5706a5744\">\n",
              "      Upload widget is only available when the cell has been executed in the\n",
              "      current browser session. Please rerun this cell to enable.\n",
              "      </output>\n",
              "      <script>// Copyright 2017 Google LLC\n",
              "//\n",
              "// Licensed under the Apache License, Version 2.0 (the \"License\");\n",
              "// you may not use this file except in compliance with the License.\n",
              "// You may obtain a copy of the License at\n",
              "//\n",
              "//      http://www.apache.org/licenses/LICENSE-2.0\n",
              "//\n",
              "// Unless required by applicable law or agreed to in writing, software\n",
              "// distributed under the License is distributed on an \"AS IS\" BASIS,\n",
              "// WITHOUT WARRANTIES OR CONDITIONS OF ANY KIND, either express or implied.\n",
              "// See the License for the specific language governing permissions and\n",
              "// limitations under the License.\n",
              "\n",
              "/**\n",
              " * @fileoverview Helpers for google.colab Python module.\n",
              " */\n",
              "(function(scope) {\n",
              "function span(text, styleAttributes = {}) {\n",
              "  const element = document.createElement('span');\n",
              "  element.textContent = text;\n",
              "  for (const key of Object.keys(styleAttributes)) {\n",
              "    element.style[key] = styleAttributes[key];\n",
              "  }\n",
              "  return element;\n",
              "}\n",
              "\n",
              "// Max number of bytes which will be uploaded at a time.\n",
              "const MAX_PAYLOAD_SIZE = 100 * 1024;\n",
              "\n",
              "function _uploadFiles(inputId, outputId) {\n",
              "  const steps = uploadFilesStep(inputId, outputId);\n",
              "  const outputElement = document.getElementById(outputId);\n",
              "  // Cache steps on the outputElement to make it available for the next call\n",
              "  // to uploadFilesContinue from Python.\n",
              "  outputElement.steps = steps;\n",
              "\n",
              "  return _uploadFilesContinue(outputId);\n",
              "}\n",
              "\n",
              "// This is roughly an async generator (not supported in the browser yet),\n",
              "// where there are multiple asynchronous steps and the Python side is going\n",
              "// to poll for completion of each step.\n",
              "// This uses a Promise to block the python side on completion of each step,\n",
              "// then passes the result of the previous step as the input to the next step.\n",
              "function _uploadFilesContinue(outputId) {\n",
              "  const outputElement = document.getElementById(outputId);\n",
              "  const steps = outputElement.steps;\n",
              "\n",
              "  const next = steps.next(outputElement.lastPromiseValue);\n",
              "  return Promise.resolve(next.value.promise).then((value) => {\n",
              "    // Cache the last promise value to make it available to the next\n",
              "    // step of the generator.\n",
              "    outputElement.lastPromiseValue = value;\n",
              "    return next.value.response;\n",
              "  });\n",
              "}\n",
              "\n",
              "/**\n",
              " * Generator function which is called between each async step of the upload\n",
              " * process.\n",
              " * @param {string} inputId Element ID of the input file picker element.\n",
              " * @param {string} outputId Element ID of the output display.\n",
              " * @return {!Iterable<!Object>} Iterable of next steps.\n",
              " */\n",
              "function* uploadFilesStep(inputId, outputId) {\n",
              "  const inputElement = document.getElementById(inputId);\n",
              "  inputElement.disabled = false;\n",
              "\n",
              "  const outputElement = document.getElementById(outputId);\n",
              "  outputElement.innerHTML = '';\n",
              "\n",
              "  const pickedPromise = new Promise((resolve) => {\n",
              "    inputElement.addEventListener('change', (e) => {\n",
              "      resolve(e.target.files);\n",
              "    });\n",
              "  });\n",
              "\n",
              "  const cancel = document.createElement('button');\n",
              "  inputElement.parentElement.appendChild(cancel);\n",
              "  cancel.textContent = 'Cancel upload';\n",
              "  const cancelPromise = new Promise((resolve) => {\n",
              "    cancel.onclick = () => {\n",
              "      resolve(null);\n",
              "    };\n",
              "  });\n",
              "\n",
              "  // Wait for the user to pick the files.\n",
              "  const files = yield {\n",
              "    promise: Promise.race([pickedPromise, cancelPromise]),\n",
              "    response: {\n",
              "      action: 'starting',\n",
              "    }\n",
              "  };\n",
              "\n",
              "  cancel.remove();\n",
              "\n",
              "  // Disable the input element since further picks are not allowed.\n",
              "  inputElement.disabled = true;\n",
              "\n",
              "  if (!files) {\n",
              "    return {\n",
              "      response: {\n",
              "        action: 'complete',\n",
              "      }\n",
              "    };\n",
              "  }\n",
              "\n",
              "  for (const file of files) {\n",
              "    const li = document.createElement('li');\n",
              "    li.append(span(file.name, {fontWeight: 'bold'}));\n",
              "    li.append(span(\n",
              "        `(${file.type || 'n/a'}) - ${file.size} bytes, ` +\n",
              "        `last modified: ${\n",
              "            file.lastModifiedDate ? file.lastModifiedDate.toLocaleDateString() :\n",
              "                                    'n/a'} - `));\n",
              "    const percent = span('0% done');\n",
              "    li.appendChild(percent);\n",
              "\n",
              "    outputElement.appendChild(li);\n",
              "\n",
              "    const fileDataPromise = new Promise((resolve) => {\n",
              "      const reader = new FileReader();\n",
              "      reader.onload = (e) => {\n",
              "        resolve(e.target.result);\n",
              "      };\n",
              "      reader.readAsArrayBuffer(file);\n",
              "    });\n",
              "    // Wait for the data to be ready.\n",
              "    let fileData = yield {\n",
              "      promise: fileDataPromise,\n",
              "      response: {\n",
              "        action: 'continue',\n",
              "      }\n",
              "    };\n",
              "\n",
              "    // Use a chunked sending to avoid message size limits. See b/62115660.\n",
              "    let position = 0;\n",
              "    do {\n",
              "      const length = Math.min(fileData.byteLength - position, MAX_PAYLOAD_SIZE);\n",
              "      const chunk = new Uint8Array(fileData, position, length);\n",
              "      position += length;\n",
              "\n",
              "      const base64 = btoa(String.fromCharCode.apply(null, chunk));\n",
              "      yield {\n",
              "        response: {\n",
              "          action: 'append',\n",
              "          file: file.name,\n",
              "          data: base64,\n",
              "        },\n",
              "      };\n",
              "\n",
              "      let percentDone = fileData.byteLength === 0 ?\n",
              "          100 :\n",
              "          Math.round((position / fileData.byteLength) * 100);\n",
              "      percent.textContent = `${percentDone}% done`;\n",
              "\n",
              "    } while (position < fileData.byteLength);\n",
              "  }\n",
              "\n",
              "  // All done.\n",
              "  yield {\n",
              "    response: {\n",
              "      action: 'complete',\n",
              "    }\n",
              "  };\n",
              "}\n",
              "\n",
              "scope.google = scope.google || {};\n",
              "scope.google.colab = scope.google.colab || {};\n",
              "scope.google.colab._files = {\n",
              "  _uploadFiles,\n",
              "  _uploadFilesContinue,\n",
              "};\n",
              "})(self);\n",
              "</script> "
            ]
          },
          "metadata": {}
        },
        {
          "output_type": "stream",
          "name": "stdout",
          "text": [
            "Saving names.txt to names.txt\n",
            "User uploaded file \"names.txt\" with length 228145 bytes\n"
          ]
        }
      ],
      "source": [
        "from google.colab import files\n",
        "\n",
        "uploaded = files.upload()\n",
        "\n",
        "for fn in uploaded.keys():\n",
        "  print('User uploaded file \"{name}\" with length {length} bytes'.format(\n",
        "      name=fn, length=len(uploaded[fn])))"
      ]
    },
    {
      "cell_type": "code",
      "source": [
        "words = open('names.txt', 'r').read().splitlines()"
      ],
      "metadata": {
        "id": "D1ICwNLhuVHw"
      },
      "execution_count": 2,
      "outputs": []
    },
    {
      "cell_type": "code",
      "source": [
        "train_idx = int(len(words) * 0.8)\n",
        "dev_idx = int(len(words) * 0.1)\n",
        "\n",
        "train_words = words[:train_idx]\n",
        "dev_words = words[train_idx:train_idx + dev_idx]\n",
        "test_words = words[train_idx+dev_idx:]\n",
        "\n",
        "print(f\"Train set: {len(train_words)}\")\n",
        "print(f\"Dev set: {len(dev_words)}\")\n",
        "print(f\"Test set: {len(test_words)}\")"
      ],
      "metadata": {
        "id": "bnUUkX2wOlI8",
        "outputId": "e218f9e3-0d8c-4ffe-a66f-9060f53881b9",
        "colab": {
          "base_uri": "https://localhost:8080/"
        }
      },
      "execution_count": 3,
      "outputs": [
        {
          "output_type": "stream",
          "name": "stdout",
          "text": [
            "Train set: 25626\n",
            "Dev set: 3203\n",
            "Test set: 3204\n"
          ]
        }
      ]
    },
    {
      "cell_type": "code",
      "source": [
        "import torch\n",
        "\n",
        "chars = sorted(list(set(''.join(words))))\n",
        "stoi = {s:i+1 for i,s in enumerate(chars)}\n",
        "stoi['.'] = 0\n",
        "itos = {i:s for s,i in stoi.items()}\n",
        "\n",
        "N = torch.zeros((27, 27, 27) , dtype=torch.int32)\n",
        "\n",
        "for w in train_words:\n",
        "  chs = ['.'] + list(w) + ['.']\n",
        "  for ch1, ch2, ch3 in zip(chs, chs[1:], chs[2:]):\n",
        "    ix1 = stoi[ch1]\n",
        "    ix2 = stoi[ch2]\n",
        "    ix3 = stoi[ch3]\n",
        "    N[ix1, ix2, ix3] += 1\n",
        "\n",
        "alpha = 1\n",
        "N += alpha"
      ],
      "metadata": {
        "id": "sN96eU19uXkn"
      },
      "execution_count": 4,
      "outputs": []
    },
    {
      "cell_type": "code",
      "source": [
        "P = N.float()\n",
        "P /= P.sum(2, keepdim=True)\n",
        "\n",
        "g = torch.Generator().manual_seed(2147483647)\n",
        "\n",
        "for i in range(5):\n",
        "\n",
        "  out = []\n",
        "  ix1 = 0\n",
        "  ix2 = 0\n",
        "  while True:\n",
        "    p = P[ix1, ix2]\n",
        "    ix3 = torch.multinomial(p, num_samples=1, replacement=True, generator=g).item()\n",
        "    out.append(itos[ix3])\n",
        "    if ix3 == 0:\n",
        "      break\n",
        "    ix1, ix2 = ix2, ix3\n",
        "  print(''.join(out))"
      ],
      "metadata": {
        "colab": {
          "base_uri": "https://localhost:8080/"
        },
        "id": "YDBrwKTku-LK",
        "outputId": "acba1084-9575-4df6-b4ac-1565588304f2"
      },
      "execution_count": 5,
      "outputs": [
        {
          "output_type": "stream",
          "name": "stdout",
          "text": [
            "junide.\n",
            "ilyasid.\n",
            "prelayleinna.\n",
            "jimritonia.\n",
            "saree.\n"
          ]
        }
      ]
    },
    {
      "cell_type": "code",
      "source": [
        "def calulate_loss(words):\n",
        "  g = torch.Generator().manual_seed(2147483647)\n",
        "  log_likelihood = 0.0\n",
        "  n = 0\n",
        "\n",
        "  for w in words:\n",
        "  # for w in [\"kanade\"]:\n",
        "    chs = ['.'] + list(w) + ['.']\n",
        "    for ch1, ch2, ch3 in zip(chs, chs[1:], chs[2:]):\n",
        "      ix1 = stoi[ch1]\n",
        "      ix2 = stoi[ch2]\n",
        "      ix3 = stoi[ch3]\n",
        "      prob = P[ix1, ix2, ix3]\n",
        "      logprob = torch.log(prob)\n",
        "      log_likelihood += logprob\n",
        "      n += 1\n",
        "      # print(f'{ch1}{ch2}: {prob:.4f} {logprob:.4f}')\n",
        "\n",
        "  print(f'{log_likelihood=}')\n",
        "  nll = -log_likelihood\n",
        "  print(f'{nll=}')\n",
        "  print(f'{nll/n}')\n",
        "  return \"\\n\"\n",
        "\n",
        "print(f\"Test set {calulate_loss(train_words)}\")\n",
        "print(f\"Dev set {calulate_loss(dev_words)}\")\n",
        "print(f\"Test set {calulate_loss(test_words)}\")"
      ],
      "metadata": {
        "colab": {
          "base_uri": "https://localhost:8080/"
        },
        "id": "2RSiKhanx5hF",
        "outputId": "78033b0e-be43-4622-a47c-e0a4bde91e7d"
      },
      "execution_count": 6,
      "outputs": [
        {
          "output_type": "stream",
          "name": "stdout",
          "text": [
            "log_likelihood=tensor(-322671.4062)\n",
            "nll=tensor(322671.4062)\n",
            "2.053244113922119\n",
            "Test set \n",
            "\n",
            "log_likelihood=tensor(-45202.6094)\n",
            "nll=tensor(45202.6094)\n",
            "2.3264338970184326\n",
            "Dev set \n",
            "\n",
            "log_likelihood=tensor(-45653.1797)\n",
            "nll=tensor(45653.1797)\n",
            "2.337472677230835\n",
            "Test set \n",
            "\n"
          ]
        }
      ]
    },
    {
      "cell_type": "markdown",
      "source": [
        "# NN with one layer"
      ],
      "metadata": {
        "id": "kQjORGqHyyup"
      }
    },
    {
      "cell_type": "code",
      "source": [
        "xs, ys = [], []\n",
        "\n",
        "for w in train_words:\n",
        "  chs = ['.'] + list(w) + ['.']\n",
        "  for ch1, ch2, ch3 in zip(chs, chs[1:], chs[2:]):\n",
        "    ix1 = stoi[ch1]\n",
        "    ix2 = stoi[ch2]\n",
        "    ix3 = stoi[ch3]\n",
        "\n",
        "    xs.append([ix1, ix2])\n",
        "    ys.append(ix3)\n",
        "\n",
        "xs = torch.tensor(xs)\n",
        "ys = torch.tensor(ys)\n",
        "\n",
        "num = xs.shape[0]\n",
        "print('number of examples: ', num)"
      ],
      "metadata": {
        "colab": {
          "base_uri": "https://localhost:8080/"
        },
        "id": "7MPyD7_9yn8O",
        "outputId": "7d655f0a-cdb5-4f48-f41e-920d3908cca5"
      },
      "execution_count": 57,
      "outputs": [
        {
          "output_type": "stream",
          "name": "stdout",
          "text": [
            "number of examples:  157152\n"
          ]
        }
      ]
    },
    {
      "cell_type": "code",
      "source": [
        "# initialize the 'network'\n",
        "g = torch.Generator().manual_seed(2147483647)\n",
        "W = torch.randn((54, 27), generator=g, requires_grad=True)\n",
        "C = torch.randn(27, 27, generator=g, requires_grad=True)"
      ],
      "metadata": {
        "id": "kT51mL_K1heC"
      },
      "execution_count": 58,
      "outputs": []
    },
    {
      "cell_type": "code",
      "source": [
        "import torch.nn.functional as F\n",
        "\n",
        "# gradient descent\n",
        "for k in range(1000):\n",
        "\n",
        "  # forward pass\n",
        "  emb = C[xs]        # [N, 2, 27]\n",
        "  xenc = emb.view(num, -1)  # [N, 54]\n",
        "  logits = xenc @ W\n",
        "  counts = logits.exp()\n",
        "  probs = counts / counts.sum(1, keepdims=True)\n",
        "\n",
        "  loss = -probs[torch.arange(num), ys].log().mean() + 0.01*(W**2).mean()\n",
        "  if k % 10 == 0:\n",
        "    print(loss.item())\n",
        "\n",
        "  # backward pass\n",
        "  W.grad = None # set to zero the gradient\n",
        "  C.grad = None\n",
        "  loss.backward()\n",
        "\n",
        "  # update\n",
        "  learning_rate = 1.0\n",
        "  W.data += -learning_rate* W.grad\n",
        "  C.data += -learning_rate* C.grad"
      ],
      "metadata": {
        "colab": {
          "base_uri": "https://localhost:8080/"
        },
        "id": "jLeEFXGk1kw1",
        "outputId": "e96ef524-49fd-4b79-ea1e-f7bfbdba90b2"
      },
      "execution_count": 59,
      "outputs": [
        {
          "output_type": "stream",
          "name": "stdout",
          "text": [
            "15.802996635437012\n",
            "5.5635833740234375\n",
            "3.8366901874542236\n",
            "3.245016098022461\n",
            "2.9444658756256104\n",
            "2.7744932174682617\n",
            "2.6661410331726074\n",
            "2.590229034423828\n",
            "2.534379243850708\n",
            "2.491743326187134\n",
            "2.4583306312561035\n",
            "2.4316561222076416\n",
            "2.4099748134613037\n",
            "2.3920345306396484\n",
            "2.376958131790161\n",
            "2.3641271591186523\n",
            "2.3530900478363037\n",
            "2.34350848197937\n",
            "2.3351237773895264\n",
            "2.3277344703674316\n",
            "2.3211803436279297\n",
            "2.315333366394043\n",
            "2.310088872909546\n",
            "2.3053600788116455\n",
            "2.3010759353637695\n",
            "2.297175645828247\n",
            "2.293609380722046\n",
            "2.2903337478637695\n",
            "2.2873141765594482\n",
            "2.2845191955566406\n",
            "2.281923532485962\n",
            "2.2795042991638184\n",
            "2.2772438526153564\n",
            "2.27512526512146\n",
            "2.27313494682312\n",
            "2.2712602615356445\n",
            "2.2694904804229736\n",
            "2.267817258834839\n",
            "2.2662320137023926\n",
            "2.2647273540496826\n",
            "2.2632977962493896\n",
            "2.261936902999878\n",
            "2.2606399059295654\n",
            "2.2594027519226074\n",
            "2.2582204341888428\n",
            "2.2570903301239014\n",
            "2.2560083866119385\n",
            "2.254972219467163\n",
            "2.253978967666626\n",
            "2.253025531768799\n",
            "2.252110004425049\n",
            "2.251230478286743\n",
            "2.250384569168091\n",
            "2.2495710849761963\n",
            "2.2487871646881104\n",
            "2.248033046722412\n",
            "2.2473061084747314\n",
            "2.246605157852173\n",
            "2.2459287643432617\n",
            "2.2452759742736816\n",
            "2.2446463108062744\n",
            "2.24403715133667\n",
            "2.2434494495391846\n",
            "2.2428808212280273\n",
            "2.2423312664031982\n",
            "2.2417993545532227\n",
            "2.2412848472595215\n",
            "2.2407870292663574\n",
            "2.240304708480835\n",
            "2.239837408065796\n",
            "2.239384889602661\n",
            "2.2389461994171143\n",
            "2.238520860671997\n",
            "2.2381086349487305\n",
            "2.237708330154419\n",
            "2.2373197078704834\n",
            "2.2369425296783447\n",
            "2.236576795578003\n",
            "2.2362208366394043\n",
            "2.235874891281128\n",
            "2.2355384826660156\n",
            "2.2352116107940674\n",
            "2.234893321990967\n",
            "2.234583854675293\n",
            "2.2342822551727295\n",
            "2.233988046646118\n",
            "2.2337019443511963\n",
            "2.23342227935791\n",
            "2.2331502437591553\n",
            "2.232884407043457\n",
            "2.2326247692108154\n",
            "2.2323713302612305\n",
            "2.232123613357544\n",
            "2.231881856918335\n",
            "2.231645107269287\n",
            "2.2314136028289795\n",
            "2.231187343597412\n",
            "2.2309656143188477\n",
            "2.230748414993286\n",
            "2.2305359840393066\n"
          ]
        }
      ]
    },
    {
      "cell_type": "code",
      "source": [
        "# Helper functions:\n",
        "def calculate_loss(xs, ys):\n",
        "  num = xs.shape[0]\n",
        "  emb = C[xs]\n",
        "  xenc = emb.view(num, -1)\n",
        "\n",
        "  logits = xenc @ W\n",
        "  counts = logits.exp()\n",
        "  probs = counts / counts.sum(1, keepdims=True)\n",
        "\n",
        "  loss = -probs[torch.arange(num), ys].log().mean() + 0.01*(W**2).mean()\n",
        "\n",
        "  return loss\n",
        "\n",
        "def one_hot_encode(words):\n",
        "  xs, ys = [], []\n",
        "\n",
        "  for w in words:\n",
        "    chs = ['.'] + list(w) + ['.']\n",
        "    for ch1, ch2, ch3 in zip(chs, chs[1:], chs[2:]):\n",
        "      ix1 = stoi[ch1]\n",
        "      ix2 = stoi[ch2]\n",
        "      ix3 = stoi[ch3]\n",
        "\n",
        "      xs.append([ix1, ix2])\n",
        "      ys.append(ix3)\n",
        "\n",
        "  xs = torch.tensor(xs)\n",
        "  ys = torch.tensor(ys)\n",
        "\n",
        "  return xs, ys"
      ],
      "metadata": {
        "id": "2JCBppgKRUST"
      },
      "execution_count": 62,
      "outputs": []
    },
    {
      "cell_type": "code",
      "source": [
        "# Dev loss\n",
        "xs, ys = one_hot_encode(dev_words)\n",
        "dev_loss = calculate_loss(xs, ys)\n",
        "print(f\"Dev loss: {dev_loss}\")"
      ],
      "metadata": {
        "id": "8EQQ6G6BSMqx",
        "outputId": "5e90ff16-8fd8-46ec-bb58-227a6765437d",
        "colab": {
          "base_uri": "https://localhost:8080/"
        }
      },
      "execution_count": 63,
      "outputs": [
        {
          "output_type": "stream",
          "name": "stdout",
          "text": [
            "Dev loss: 2.458848476409912\n"
          ]
        }
      ]
    },
    {
      "cell_type": "code",
      "source": [
        "# Test loss\n",
        "xs, ys = one_hot_encode(test_words)\n",
        "test_loss = calculate_loss(xs, ys)\n",
        "print(f\"Dev loss: {test_loss}\")"
      ],
      "metadata": {
        "id": "x4GbdT18SOW-",
        "outputId": "757c4011-75c7-4b53-f73d-77e3f7c79da9",
        "colab": {
          "base_uri": "https://localhost:8080/"
        }
      },
      "execution_count": 64,
      "outputs": [
        {
          "output_type": "stream",
          "name": "stdout",
          "text": [
            "Dev loss: 2.4623382091522217\n"
          ]
        }
      ]
    },
    {
      "cell_type": "code",
      "source": [
        "# sample\n",
        "g = torch.Generator().manual_seed(2147483647)\n",
        "for i in range(5):\n",
        "  out = []\n",
        "  ix1 = 0\n",
        "  ix2 = 0\n",
        "  while True:\n",
        "      x = torch.tensor([[ix1, ix2]])\n",
        "      emb = C[x]                      # shape [1, 2, 27]\n",
        "      xenc = emb.view(1, -1)          # shape [1, 54]\n",
        "\n",
        "      logits = xenc @ W               # shape [1, 27]\n",
        "      counts = logits.exp()\n",
        "      p = counts / counts.sum(1, keepdims=True)\n",
        "\n",
        "      ix3 = torch.multinomial(p, num_samples=1, replacement=True, generator=g).item()\n",
        "      out.append(itos[ix3])\n",
        "      if ix3 == 0:\n",
        "        break\n",
        "      ix1, ix2 = ix2, ix3\n",
        "  print(''.join(out))"
      ],
      "metadata": {
        "colab": {
          "base_uri": "https://localhost:8080/"
        },
        "id": "T0K48De9141d",
        "outputId": "4fbf4a89-7b12-479f-e226-c879ca2947e3"
      },
      "execution_count": 66,
      "outputs": [
        {
          "output_type": "stream",
          "name": "stdout",
          "text": [
            "junnde.\n",
            "janasad.\n",
            "kallay.\n",
            "odin.\n",
            "koi.\n"
          ]
        }
      ]
    }
  ]
}