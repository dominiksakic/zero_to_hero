{
  "nbformat": 4,
  "nbformat_minor": 0,
  "metadata": {
    "colab": {
      "provenance": [],
      "authorship_tag": "ABX9TyP+qSRB5+E5/M0Iyzz0GTVY",
      "include_colab_link": true
    },
    "kernelspec": {
      "name": "python3",
      "display_name": "Python 3"
    },
    "language_info": {
      "name": "python"
    }
  },
  "cells": [
    {
      "cell_type": "markdown",
      "metadata": {
        "id": "view-in-github",
        "colab_type": "text"
      },
      "source": [
        "<a href=\"https://colab.research.google.com/github/dominiksakic/zero_to_hero/blob/main/basics_04_activations_and_gradient.ipynb\" target=\"_parent\"><img src=\"https://colab.research.google.com/assets/colab-badge.svg\" alt=\"Open In Colab\"/></a>"
      ]
    },
    {
      "cell_type": "code",
      "execution_count": 1,
      "metadata": {
        "colab": {
          "base_uri": "https://localhost:8080/"
        },
        "id": "W8zyGtkzEtmy",
        "outputId": "6d9a4992-fd18-4153-dec4-b418da3b4eb8"
      },
      "outputs": [
        {
          "output_type": "stream",
          "name": "stdout",
          "text": [
            "--2025-06-23 09:17:46--  https://raw.githubusercontent.com/karpathy/makemore/master/names.txt\n",
            "Resolving raw.githubusercontent.com (raw.githubusercontent.com)... 185.199.108.133, 185.199.109.133, 185.199.110.133, ...\n",
            "Connecting to raw.githubusercontent.com (raw.githubusercontent.com)|185.199.108.133|:443... connected.\n",
            "HTTP request sent, awaiting response... 200 OK\n",
            "Length: 228145 (223K) [text/plain]\n",
            "Saving to: ‘names.txt’\n",
            "\n",
            "\rnames.txt             0%[                    ]       0  --.-KB/s               \rnames.txt           100%[===================>] 222.80K  --.-KB/s    in 0.004s  \n",
            "\n",
            "2025-06-23 09:17:46 (50.7 MB/s) - ‘names.txt’ saved [228145/228145]\n",
            "\n"
          ]
        }
      ],
      "source": [
        "# download the names.txt file from github\n",
        "!wget https://raw.githubusercontent.com/karpathy/makemore/master/names.txt"
      ]
    },
    {
      "cell_type": "code",
      "source": [
        "import torch\n",
        "import torch.nn.functional as F\n",
        "import matplotlib.pyplot as plt # for making figures\n",
        "%matplotlib inline"
      ],
      "metadata": {
        "id": "gaSHD7g-FD_X"
      },
      "execution_count": 2,
      "outputs": []
    },
    {
      "cell_type": "code",
      "source": [
        "words = open('names.txt', 'r').read().splitlines()"
      ],
      "metadata": {
        "id": "GD5OdvJ3FGbV"
      },
      "execution_count": 3,
      "outputs": []
    },
    {
      "cell_type": "code",
      "source": [
        "# build vocab and mappings to/from integers\n",
        "chars = sorted(list(set(''.join(words))))\n",
        "stoi = {s: i + 1 for i, s in enumerate(chars)}\n",
        "stoi['.'] = 0\n",
        "itos = {i : s for s, i in stoi.items()}\n",
        "vocab_size = len(itos)"
      ],
      "metadata": {
        "id": "ied_V0f-FIPn"
      },
      "execution_count": 6,
      "outputs": []
    },
    {
      "cell_type": "code",
      "source": [
        "# build the dataset\n",
        "block_size = 3\n",
        "\n",
        "def build_dataset(words):\n",
        "  X, Y = [], []\n",
        "  for w in words:\n",
        "\n",
        "    #print(w)\n",
        "    context = [0] * block_size\n",
        "    for ch in w + '.':\n",
        "      ix = stoi[ch]\n",
        "      X.append(context)\n",
        "      Y.append(ix)\n",
        "      context = context[1:] + [ix] # crop and append\n",
        "\n",
        "  X = torch.tensor(X)\n",
        "  Y = torch.tensor(Y)\n",
        "  print(X.shape, Y.shape)\n",
        "  return X, Y\n",
        "\n",
        "import random\n",
        "random.seed(42)\n",
        "random.shuffle(words)\n",
        "n1 = int(0.8*len(words))\n",
        "n2 = int(0.9*len(words))\n",
        "\n",
        "Xtr, Ytr = build_dataset(words[:n1])\n",
        "Xdev, Ydev = build_dataset(words[n1:n2])\n",
        "Xte, Yte = build_dataset(words[n2:])"
      ],
      "metadata": {
        "colab": {
          "base_uri": "https://localhost:8080/"
        },
        "id": "SP7Bz11JFKtd",
        "outputId": "7bee56a4-c997-4b5c-e593-8f877da88156"
      },
      "execution_count": 5,
      "outputs": [
        {
          "output_type": "stream",
          "name": "stdout",
          "text": [
            "torch.Size([182625, 3]) torch.Size([182625])\n",
            "torch.Size([22655, 3]) torch.Size([22655])\n",
            "torch.Size([22866, 3]) torch.Size([22866])\n"
          ]
        }
      ]
    },
    {
      "cell_type": "code",
      "source": [
        "n_embd = 10\n",
        "n_hidden = 200\n",
        "\n",
        "\n",
        "g = torch.Generator().manual_seed(2147483647)\n",
        "C = torch.randn((vocab_size, n_embd),             generator=g)\n",
        "W1 = torch.randn((n_embd * block_size, n_hidden), generator=g)\n",
        "b1 = torch.randn(n_hidden,                        generator=g)\n",
        "W2 = torch.randn((n_hidden, vocab_size),          generator=g)\n",
        "b2 = torch.randn(vocab_size,                      generator=g)\n",
        "\n",
        "parameters = [C, W1, b1, W2, b2]"
      ],
      "metadata": {
        "id": "I-EMYwneFMzN"
      },
      "execution_count": 15,
      "outputs": []
    },
    {
      "cell_type": "code",
      "source": [
        "total_param = sum(p.nelement() for p in parameters)\n",
        "print(f\"Total params: {total_param}\")\n",
        "\n",
        "for p in parameters:\n",
        "  p.requires_grad = True"
      ],
      "metadata": {
        "colab": {
          "base_uri": "https://localhost:8080/"
        },
        "id": "wf1KoWA7FqaQ",
        "outputId": "1bb7c43f-1662-4ad4-8e88-0c72318c5f31"
      },
      "execution_count": 16,
      "outputs": [
        {
          "output_type": "stream",
          "name": "stdout",
          "text": [
            "Total params: 11897\n"
          ]
        }
      ]
    },
    {
      "cell_type": "code",
      "source": [
        "max_steps = 200000\n",
        "batch_size = 32\n",
        "lossi = []\n",
        "\n",
        "for i in range(max_steps):\n",
        "\n",
        "  # minibatch construct\n",
        "  ix = torch.randint(0, Xtr.shape[0], (batch_size,), generator=g)\n",
        "  Xb, Yb = Xtr[ix], Ytr[ix]\n",
        "\n",
        "  # forward pass\n",
        "  emb = C[Xb]\n",
        "  embcat = emb.view(emb.shape[0], -1)\n",
        "  hpreact  = embcat @ W1 + b1\n",
        "  h = torch.tanh(hpreact)\n",
        "  logits = h @ W2 + b2\n",
        "  loss = F.cross_entropy(logits, Yb)\n",
        "\n",
        "  # backward pass\n",
        "  for p in parameters:\n",
        "    p.grad = None\n",
        "  loss.backward()\n",
        "\n",
        "  # update\n",
        "  lr = 0.1 if i < 100000 else 0.01\n",
        "  for p in parameters:\n",
        "    p.data += -lr * p.grad\n",
        "\n",
        "  # track stats, lri for finding a good lr\n",
        "  if i % 10000 == 0:\n",
        "    print(f\"{i:7d}/{max_steps:7d}: {loss.item():.4f}\")\n",
        "  lossi.append(loss.log10().item())"
      ],
      "metadata": {
        "colab": {
          "base_uri": "https://localhost:8080/"
        },
        "id": "lrBOvV5mF2Yk",
        "outputId": "19406e5f-e72d-4b5e-abf2-a20222306b8a"
      },
      "execution_count": 17,
      "outputs": [
        {
          "output_type": "stream",
          "name": "stdout",
          "text": [
            "      0/ 200000: 27.8817\n",
            "  10000/ 200000: 2.9415\n",
            "  20000/ 200000: 2.5069\n",
            "  30000/ 200000: 2.7998\n",
            "  40000/ 200000: 2.0261\n",
            "  50000/ 200000: 2.5863\n",
            "  60000/ 200000: 2.3420\n",
            "  70000/ 200000: 2.0952\n",
            "  80000/ 200000: 2.3454\n",
            "  90000/ 200000: 2.2365\n",
            " 100000/ 200000: 2.1080\n",
            " 110000/ 200000: 2.3831\n",
            " 120000/ 200000: 1.9898\n",
            " 130000/ 200000: 2.4591\n",
            " 140000/ 200000: 2.1910\n",
            " 150000/ 200000: 2.1606\n",
            " 160000/ 200000: 2.1811\n",
            " 170000/ 200000: 1.7997\n",
            " 180000/ 200000: 2.0962\n",
            " 190000/ 200000: 1.8052\n"
          ]
        }
      ]
    },
    {
      "cell_type": "code",
      "source": [
        "plt.plot(lossi)"
      ],
      "metadata": {
        "colab": {
          "base_uri": "https://localhost:8080/",
          "height": 448
        },
        "id": "22E6rshMISye",
        "outputId": "bde3d302-2230-4e41-ca8e-335f6b7b4d26"
      },
      "execution_count": 18,
      "outputs": [
        {
          "output_type": "execute_result",
          "data": {
            "text/plain": [
              "[<matplotlib.lines.Line2D at 0x7ed6d1212950>]"
            ]
          },
          "metadata": {},
          "execution_count": 18
        },
        {
          "output_type": "display_data",
          "data": {
            "text/plain": [
              "<Figure size 640x480 with 1 Axes>"
            ],
            "image/png": "[encoded data removed]"
          },
          "metadata": {}
        }
      ]
    },
    {
      "cell_type": "code",
      "source": [
        "@torch.no_grad()\n",
        "def calculate_loss(X, Y):\n",
        "  emb = C[X]\n",
        "  embcat =  emb.view(emb.shape[0], -1)\n",
        "  hpreact = embcat @ W1 + b1\n",
        "  h = torch.tanh(hpreact)\n",
        "  logits = h @ W2 + b2\n",
        "  loss = F.cross_entropy(logits, Y)\n",
        "  return loss.item()"
      ],
      "metadata": {
        "id": "wwwGcYPhIc8I"
      },
      "execution_count": 23,
      "outputs": []
    },
    {
      "cell_type": "code",
      "source": [
        "# training loss\n",
        "train_loss = calculate_loss(Xtr, Ytr)\n",
        "train_loss"
      ],
      "metadata": {
        "colab": {
          "base_uri": "https://localhost:8080/"
        },
        "id": "EfcpwwgyIlJ1",
        "outputId": "23f0905d-b3fc-4a6a-9da5-3db314c328fc"
      },
      "execution_count": 24,
      "outputs": [
        {
          "output_type": "execute_result",
          "data": {
            "text/plain": [
              "2.127678871154785"
            ]
          },
          "metadata": {},
          "execution_count": 24
        }
      ]
    },
    {
      "cell_type": "code",
      "source": [
        "# validation loss\n",
        "dev_loss = calculate_loss(Xdev, Ydev)\n",
        "dev_loss"
      ],
      "metadata": {
        "colab": {
          "base_uri": "https://localhost:8080/"
        },
        "id": "9jBi8Wl1ImJx",
        "outputId": "e26d177b-4471-4df2-8e13-1f5c5f7b328d"
      },
      "execution_count": 25,
      "outputs": [
        {
          "output_type": "execute_result",
          "data": {
            "text/plain": [
              "2.1750576496124268"
            ]
          },
          "metadata": {},
          "execution_count": 25
        }
      ]
    },
    {
      "cell_type": "code",
      "source": [
        "# test loss\n",
        "test_loss = calculate_loss(Xte, Yte)\n",
        "test_loss"
      ],
      "metadata": {
        "colab": {
          "base_uri": "https://localhost:8080/"
        },
        "id": "dDF4zwgKIoYH",
        "outputId": "4ac24be8-575d-40f0-94be-05055a7ed29f"
      },
      "execution_count": 26,
      "outputs": [
        {
          "output_type": "execute_result",
          "data": {
            "text/plain": [
              "2.1674134731292725"
            ]
          },
          "metadata": {},
          "execution_count": 26
        }
      ]
    },
    {
      "cell_type": "markdown",
      "source": [
        "# Exploring the Network initialization\n",
        "- The first loss recorded is quite high: 27\n",
        "- If we had a uniform distribution of the next letter, we would expect each letter to have the same out come: 1/27. The loss would equal to something around 3.2. (Take the neg likelihood of 1/27)\n",
        "- Question:\n",
        "  - Can we achieve the first loss to be 3.2, or asked differently, what values do the layers have to be initialized to, so that we have a Uniform distribution?"
      ],
      "metadata": {
        "id": "uREbwyQzJcul"
      }
    },
    {
      "cell_type": "code",
      "source": [
        "n_embd = 10\n",
        "n_hidden = 200\n",
        "\n",
        "\n",
        "g = torch.Generator().manual_seed(2147483647)\n",
        "C = torch.randn((vocab_size, n_embd),             generator=g)\n",
        "W1 = torch.randn((n_embd * block_size, n_hidden), generator=g)\n",
        "b1 = torch.randn(n_hidden,                        generator=g)\n",
        "W2 = torch.randn((n_hidden, vocab_size),          generator=g) * 0.01\n",
        "b2 = torch.randn(vocab_size,                      generator=g) * 0\n",
        "\n",
        "parameters = [C, W1, b1, W2, b2]"
      ],
      "metadata": {
        "id": "Kr11hE30KDdv"
      },
      "execution_count": 36,
      "outputs": []
    },
    {
      "cell_type": "markdown",
      "source": [
        "- Initializing the W2 to excatly 0 can lead to Neuron damage(see below)"
      ],
      "metadata": {
        "id": "eU_qHHoQKavY"
      }
    },
    {
      "cell_type": "code",
      "source": [
        "total_param = sum(p.nelement() for p in parameters)\n",
        "print(f\"Total params: {total_param}\")\n",
        "\n",
        "for p in parameters:\n",
        "  p.requires_grad = True"
      ],
      "metadata": {
        "colab": {
          "base_uri": "https://localhost:8080/"
        },
        "id": "var_PhREKG8t",
        "outputId": "a07cbb8e-4a7a-4175-dc57-d340ac45340e"
      },
      "execution_count": 37,
      "outputs": [
        {
          "output_type": "stream",
          "name": "stdout",
          "text": [
            "Total params: 11897\n"
          ]
        }
      ]
    },
    {
      "cell_type": "code",
      "source": [
        "max_steps = 200000\n",
        "batch_size = 32\n",
        "lossi = []\n",
        "\n",
        "for i in range(max_steps):\n",
        "\n",
        "  # minibatch construct\n",
        "  ix = torch.randint(0, Xtr.shape[0], (batch_size,), generator=g)\n",
        "  Xb, Yb = Xtr[ix], Ytr[ix]\n",
        "\n",
        "  # forward pass\n",
        "  emb = C[Xb]\n",
        "  embcat = emb.view(emb.shape[0], -1)\n",
        "  hpreact  = embcat @ W1 + b1\n",
        "  h = torch.tanh(hpreact)\n",
        "  logits = h @ W2 + b2\n",
        "  loss = F.cross_entropy(logits, Yb)\n",
        "\n",
        "  # backward pass\n",
        "  for p in parameters:\n",
        "    p.grad = None\n",
        "  loss.backward()\n",
        "\n",
        "  # update\n",
        "  lr = 0.1 if i < 100000 else 0.01\n",
        "  for p in parameters:\n",
        "    p.data += -lr * p.grad\n",
        "\n",
        "  # track stats, lri for finding a good lr\n",
        "  if i % 10000 == 0:\n",
        "    print(f\"{i:7d}/{max_steps:7d}: {loss.item():.4f}\")\n",
        "  lossi.append(loss.log10().item())\n"
      ],
      "metadata": {
        "colab": {
          "base_uri": "https://localhost:8080/"
        },
        "id": "IDx3OPPtKImF",
        "outputId": "bda9cdc3-054f-4011-c57c-751e2cf107ee"
      },
      "execution_count": 39,
      "outputs": [
        {
          "output_type": "stream",
          "name": "stdout",
          "text": [
            "      0/ 200000: 3.1857\n",
            "  10000/ 200000: 1.8700\n",
            "  20000/ 200000: 1.9252\n",
            "  30000/ 200000: 2.0570\n",
            "  40000/ 200000: 2.2073\n",
            "  50000/ 200000: 2.1325\n",
            "  60000/ 200000: 2.1533\n",
            "  70000/ 200000: 2.8029\n",
            "  80000/ 200000: 2.6544\n",
            "  90000/ 200000: 2.2931\n",
            " 100000/ 200000: 2.2813\n",
            " 110000/ 200000: 1.8629\n",
            " 120000/ 200000: 2.1695\n",
            " 130000/ 200000: 1.9693\n",
            " 140000/ 200000: 1.8043\n",
            " 150000/ 200000: 2.4483\n",
            " 160000/ 200000: 2.2238\n",
            " 170000/ 200000: 1.7788\n",
            " 180000/ 200000: 1.9207\n",
            " 190000/ 200000: 2.1601\n"
          ]
        }
      ]
    },
    {
      "cell_type": "code",
      "source": [
        "plt.plot(lossi)"
      ],
      "metadata": {
        "colab": {
          "base_uri": "https://localhost:8080/",
          "height": 448
        },
        "id": "Weqgan2fLc7W",
        "outputId": "a11bbfce-bc32-4f03-8500-922c65f7d548"
      },
      "execution_count": 40,
      "outputs": [
        {
          "output_type": "execute_result",
          "data": {
            "text/plain": [
              "[<matplotlib.lines.Line2D at 0x7ed7d8aac6d0>]"
            ]
          },
          "metadata": {},
          "execution_count": 40
        },
        {
          "output_type": "display_data",
          "data": {
            "text/plain": [
              "<Figure size 640x480 with 1 Axes>"
            ],
            "image/png": "[encoded data removed]"
          },
          "metadata": {}
        }
      ]
    },
    {
      "cell_type": "code",
      "source": [
        "# training loss\n",
        "train_loss = calculate_loss(Xtr, Ytr)\n",
        "print(f\"Training loss: {train_loss}\")\n",
        "# validation loss\n",
        "dev_loss = calculate_loss(Xdev, Ydev)\n",
        "print(f\"Dev loss: {dev_loss}\")\n",
        "# test loss\n",
        "test_loss = calculate_loss(Xte, Yte)\n",
        "print(f\"Test loss: {test_loss}\")"
      ],
      "metadata": {
        "colab": {
          "base_uri": "https://localhost:8080/"
        },
        "id": "EpqSqeiELtJn",
        "outputId": "7bd408a0-29f5-4823-a42d-4bdbe02dbdfb"
      },
      "execution_count": 41,
      "outputs": [
        {
          "output_type": "stream",
          "name": "stdout",
          "text": [
            "Training loss: 2.0695769786834717\n",
            "Dev loss: 2.131199598312378\n",
            "Test loss: 2.132943868637085\n"
          ]
        }
      ]
    },
    {
      "cell_type": "markdown",
      "source": [
        "# Exploring the activation of the hidden layers!\n",
        "- squashing the values, can lead to a lot of 0, or 1 -> Which can lead to Dead neuron for the tanh.\n",
        "- Think about it from the backward pass. Starting from the loss, you flow backwards to the tanh. Than if you have values of -1 or 1 than you kill the Gradient flowing backward. -> Meaning the Gradient stops at the tanh Neuron and all the other Neurons cannot be optimized. (See below for vizulization)\n"
      ],
      "metadata": {
        "id": "El1uMLgGMb6f"
      }
    },
    {
      "cell_type": "code",
      "source": [
        "n_embd = 10\n",
        "n_hidden = 200\n",
        "\n",
        "\n",
        "g = torch.Generator().manual_seed(2147483647)\n",
        "C = torch.randn((vocab_size, n_embd),             generator=g)\n",
        "W1 = torch.randn((n_embd * block_size, n_hidden), generator=g)\n",
        "b1 = torch.randn(n_hidden,                        generator=g)\n",
        "W2 = torch.randn((n_hidden, vocab_size),          generator=g) * 0.01\n",
        "b2 = torch.randn(vocab_size,                      generator=g) * 0\n",
        "\n",
        "parameters = [C, W1, b1, W2, b2]"
      ],
      "metadata": {
        "id": "Fn0ow6GRMwT-"
      },
      "execution_count": 42,
      "outputs": []
    },
    {
      "cell_type": "code",
      "source": [
        "total_param = sum(p.nelement() for p in parameters)\n",
        "print(f\"Total params: {total_param}\")\n",
        "\n",
        "for p in parameters:\n",
        "  p.requires_grad = True"
      ],
      "metadata": {
        "colab": {
          "base_uri": "https://localhost:8080/"
        },
        "id": "u5KEVmH6Mxjc",
        "outputId": "924c1d8e-3186-4281-caf5-eb969ee37617"
      },
      "execution_count": 43,
      "outputs": [
        {
          "output_type": "stream",
          "name": "stdout",
          "text": [
            "Total params: 11897\n"
          ]
        }
      ]
    },
    {
      "cell_type": "code",
      "source": [
        "max_steps = 200000\n",
        "batch_size = 32\n",
        "lossi = []\n",
        "\n",
        "for i in range(max_steps):\n",
        "\n",
        "  # minibatch construct\n",
        "  ix = torch.randint(0, Xtr.shape[0], (batch_size,), generator=g)\n",
        "  Xb, Yb = Xtr[ix], Ytr[ix]\n",
        "\n",
        "  # forward pass\n",
        "  emb = C[Xb]\n",
        "  embcat = emb.view(emb.shape[0], -1)\n",
        "  hpreact  = embcat @ W1 + b1\n",
        "  h = torch.tanh(hpreact)\n",
        "  logits = h @ W2 + b2\n",
        "  loss = F.cross_entropy(logits, Yb)\n",
        "\n",
        "  # backward pass\n",
        "  for p in parameters:\n",
        "    p.grad = None\n",
        "  loss.backward()\n",
        "\n",
        "  # update\n",
        "  lr = 0.1 if i < 100000 else 0.01\n",
        "  for p in parameters:\n",
        "    p.data += -lr * p.grad\n",
        "\n",
        "  # track stats, lri for finding a good lr\n",
        "  if i % 10000 == 0:\n",
        "    print(f\"{i:7d}/{max_steps:7d}: {loss.item():.4f}\")\n",
        "  lossi.append(loss.log10().item())\n",
        "  break"
      ],
      "metadata": {
        "colab": {
          "base_uri": "https://localhost:8080/"
        },
        "id": "17h8b5QzMy89",
        "outputId": "3e537233-52bc-4d2e-fb27-81bd16354201"
      },
      "execution_count": 44,
      "outputs": [
        {
          "output_type": "stream",
          "name": "stdout",
          "text": [
            "      0/ 200000: 3.3221\n"
          ]
        }
      ]
    },
    {
      "cell_type": "code",
      "source": [
        "plt.hist(h.view(-1).tolist(), 50)"
      ],
      "metadata": {
        "colab": {
          "base_uri": "https://localhost:8080/",
          "height": 667
        },
        "id": "bcR8qusBNBrA",
        "outputId": "8b369d8d-fcd5-456f-c84f-d3e244934be2"
      },
      "execution_count": 49,
      "outputs": [
        {
          "output_type": "execute_result",
          "data": {
            "text/plain": [
              "(array([2069.,  144.,  106.,   82.,   59.,   56.,   44.,   30.,   43.,\n",
              "          26.,   16.,   38.,   16.,   32.,   24.,   14.,   28.,   27.,\n",
              "          26.,   19.,   24.,   26.,   30.,   14.,   19.,   19.,   22.,\n",
              "          26.,   18.,   12.,   10.,   33.,   27.,   32.,   17.,   24.,\n",
              "          30.,   22.,   26.,   29.,   26.,   40.,   29.,   41.,   49.,\n",
              "          64.,   62.,  100.,  188., 2442.]),\n",
              " array([-1.  , -0.96, -0.92, -0.88, -0.84, -0.8 , -0.76, -0.72, -0.68,\n",
              "        -0.64, -0.6 , -0.56, -0.52, -0.48, -0.44, -0.4 , -0.36, -0.32,\n",
              "        -0.28, -0.24, -0.2 , -0.16, -0.12, -0.08, -0.04,  0.  ,  0.04,\n",
              "         0.08,  0.12,  0.16,  0.2 ,  0.24,  0.28,  0.32,  0.36,  0.4 ,\n",
              "         0.44,  0.48,  0.52,  0.56,  0.6 ,  0.64,  0.68,  0.72,  0.76,\n",
              "         0.8 ,  0.84,  0.88,  0.92,  0.96,  1.  ]),\n",
              " <BarContainer object of 50 artists>)"
            ]
          },
          "metadata": {},
          "execution_count": 49
        },
        {
          "output_type": "display_data",
          "data": {
            "text/plain": [
              "<Figure size 640x480 with 1 Axes>"
            ],
            "image/png": "[encoded data removed]"
          },
          "metadata": {}
        }
      ]
    },
    {
      "cell_type": "code",
      "source": [
        "plt.hist(hpreact.view(-1).tolist(), 50)"
      ],
      "metadata": {
        "colab": {
          "base_uri": "https://localhost:8080/",
          "height": 777
        },
        "id": "BCoXAKryPXAS",
        "outputId": "21fafc83-154e-4fbf-8ef8-9ecdb6d1158c"
      },
      "execution_count": 51,
      "outputs": [
        {
          "output_type": "execute_result",
          "data": {
            "text/plain": [
              "(array([  2.,   2.,   1.,   4.,   2.,   4.,   6.,  15.,   5.,  25.,  32.,\n",
              "         49.,  56.,  59.,  92., 119., 134., 197., 195., 221., 257., 275.,\n",
              "        297., 341., 353., 375., 369., 349., 358., 362., 271., 312., 229.,\n",
              "        206., 190., 167.,  87., 111.,  72.,  55.,  41.,  22.,  23.,  18.,\n",
              "         17.,   8.,   5.,   7.,   2.,   1.]),\n",
              " array([-19.05793571, -18.31571732, -17.57349892, -16.83128052,\n",
              "        -16.08906212, -15.34684372, -14.60462532, -13.86240692,\n",
              "        -13.12018852, -12.37797012, -11.63575172, -10.89353333,\n",
              "        -10.15131493,  -9.40909653,  -8.66687813,  -7.92465973,\n",
              "         -7.18244133,  -6.44022293,  -5.69800453,  -4.95578613,\n",
              "         -4.21356773,  -3.47134933,  -2.72913094,  -1.98691254,\n",
              "         -1.24469414,  -0.50247574,   0.23974266,   0.98196106,\n",
              "          1.72417946,   2.46639786,   3.20861626,   3.95083466,\n",
              "          4.69305305,   5.43527145,   6.17748985,   6.91970825,\n",
              "          7.66192665,   8.40414505,   9.14636345,   9.88858185,\n",
              "         10.63080025,  11.37301865,  12.11523705,  12.85745544,\n",
              "         13.59967384,  14.34189224,  15.08411064,  15.82632904,\n",
              "         16.56854744,  17.31076584,  18.05298424]),\n",
              " <BarContainer object of 50 artists>)"
            ]
          },
          "metadata": {},
          "execution_count": 51
        },
        {
          "output_type": "display_data",
          "data": {
            "text/plain": [
              "<Figure size 640x480 with 1 Axes>"
            ],
            "image/png": "[encoded data removed]"
          },
          "metadata": {}
        }
      ]
    },
    {
      "cell_type": "code",
      "source": [
        "plt.figure(figsize=(28,10))\n",
        "plt.imshow(h.abs() > 0.99, cmap='gray', interpolation='nearest')"
      ],
      "metadata": {
        "colab": {
          "base_uri": "https://localhost:8080/",
          "height": 182
        },
        "id": "1vj9UA8IP1dD",
        "outputId": "0828135b-b6ca-4fde-8f3b-b2b10a32d3e8"
      },
      "execution_count": 55,
      "outputs": [
        {
          "output_type": "execute_result",
          "data": {
            "text/plain": [
              "<matplotlib.image.AxesImage at 0x7ed6c9746110>"
            ]
          },
          "metadata": {},
          "execution_count": 55
        },
        {
          "output_type": "display_data",
          "data": {
            "text/plain": [
              "<Figure size 2800x1000 with 1 Axes>"
            ],
            "image/png": "[encoded data removed]"
          },
          "metadata": {}
        }
      ]
    },
    {
      "cell_type": "markdown",
      "source": [
        "- High activation (> 0.99) gets marked as white\n",
        "- If at any x-achses you find a strip of pure white, that would mean a unreachable Neuron.\n",
        "- This can be caused by bad initialization or a too high learning rate, that knocks out Neurons in the backward pass."
      ],
      "metadata": {
        "id": "QalzvKfWQ_Qj"
      }
    },
    {
      "cell_type": "code",
      "source": [
        "n_embd = 10\n",
        "n_hidden = 200\n",
        "\n",
        "\n",
        "g = torch.Generator().manual_seed(2147483647)\n",
        "C = torch.randn((vocab_size, n_embd),             generator=g)\n",
        "W1 = torch.randn((n_embd * block_size, n_hidden), generator=g) * 0.2  #<--\n",
        "b1 = torch.randn(n_hidden,                        generator=g) * 0    #<--\n",
        "W2 = torch.randn((n_hidden, vocab_size),          generator=g) * 0.01\n",
        "b2 = torch.randn(vocab_size,                      generator=g) * 0\n",
        "\n",
        "parameters = [C, W1, b1, W2, b2]"
      ],
      "metadata": {
        "id": "Z--_wnW1RhnO"
      },
      "execution_count": 68,
      "outputs": []
    },
    {
      "cell_type": "code",
      "source": [
        "total_param = sum(p.nelement() for p in parameters)\n",
        "print(f\"Total params: {total_param}\")\n",
        "\n",
        "for p in parameters:\n",
        "  p.requires_grad = True"
      ],
      "metadata": {
        "colab": {
          "base_uri": "https://localhost:8080/"
        },
        "id": "QbgAqooARkt_",
        "outputId": "e0750303-8621-42f0-a8bc-5a8ec5119070"
      },
      "execution_count": 69,
      "outputs": [
        {
          "output_type": "stream",
          "name": "stdout",
          "text": [
            "Total params: 11897\n"
          ]
        }
      ]
    },
    {
      "cell_type": "code",
      "source": [
        "max_steps = 200000\n",
        "batch_size = 32\n",
        "lossi = []\n",
        "\n",
        "for i in range(max_steps):\n",
        "\n",
        "  # minibatch construct\n",
        "  ix = torch.randint(0, Xtr.shape[0], (batch_size,), generator=g)\n",
        "  Xb, Yb = Xtr[ix], Ytr[ix]\n",
        "\n",
        "  # forward pass\n",
        "  emb = C[Xb]\n",
        "  embcat = emb.view(emb.shape[0], -1)\n",
        "  hpreact  = embcat @ W1 + b1\n",
        "  h = torch.tanh(hpreact)\n",
        "  logits = h @ W2 + b2\n",
        "  loss = F.cross_entropy(logits, Yb)\n",
        "\n",
        "  # backward pass\n",
        "  for p in parameters:\n",
        "    p.grad = None\n",
        "  loss.backward()\n",
        "\n",
        "  # update\n",
        "  lr = 0.1 if i < 100000 else 0.01\n",
        "  for p in parameters:\n",
        "    p.data += -lr * p.grad\n",
        "\n",
        "  # track stats, lri for finding a good lr\n",
        "  if i % 10000 == 0:\n",
        "    print(f\"{i:7d}/{max_steps:7d}: {loss.item():.4f}\")\n",
        "  lossi.append(loss.log10().item())\n",
        "  break"
      ],
      "metadata": {
        "colab": {
          "base_uri": "https://localhost:8080/"
        },
        "id": "UidhT3B5RmHn",
        "outputId": "57a9b6f5-19c1-42a8-83c5-5925ebf83d19"
      },
      "execution_count": 70,
      "outputs": [
        {
          "output_type": "stream",
          "name": "stdout",
          "text": [
            "      0/ 200000: 3.3134\n"
          ]
        }
      ]
    },
    {
      "cell_type": "code",
      "source": [
        "plt.hist(h.view(-1).tolist(), 50)"
      ],
      "metadata": {
        "colab": {
          "base_uri": "https://localhost:8080/",
          "height": 777
        },
        "id": "i9HLV710RuzP",
        "outputId": "ec4c16d6-1663-4439-a47d-d4a151e5dc1a"
      },
      "execution_count": 71,
      "outputs": [
        {
          "output_type": "execute_result",
          "data": {
            "text/plain": [
              "(array([140., 172., 169., 160., 144., 154., 135., 128., 108., 142.,  93.,\n",
              "        103., 131., 109., 118.,  95.,  81., 102., 104., 106., 106., 123.,\n",
              "        109.,  73., 107., 112., 100., 106., 101.,  97., 106., 123., 111.,\n",
              "        125.,  95., 142., 101.,  98., 123., 122., 141., 125., 165., 161.,\n",
              "        163., 185., 187., 197., 212., 190.]),\n",
              " array([-9.98918831e-01, -9.58983165e-01, -9.19047499e-01, -8.79111832e-01,\n",
              "        -8.39176166e-01, -7.99240500e-01, -7.59304833e-01, -7.19369167e-01,\n",
              "        -6.79433501e-01, -6.39497834e-01, -5.99562168e-01, -5.59626502e-01,\n",
              "        -5.19690835e-01, -4.79755169e-01, -4.39819503e-01, -3.99883837e-01,\n",
              "        -3.59948170e-01, -3.20012504e-01, -2.80076838e-01, -2.40141171e-01,\n",
              "        -2.00205505e-01, -1.60269839e-01, -1.20334172e-01, -8.03985059e-02,\n",
              "        -4.04628396e-02, -5.27173281e-04,  3.94084930e-02,  7.93441594e-02,\n",
              "         1.19279826e-01,  1.59215492e-01,  1.99151158e-01,  2.39086825e-01,\n",
              "         2.79022491e-01,  3.18958157e-01,  3.58893824e-01,  3.98829490e-01,\n",
              "         4.38765156e-01,  4.78700823e-01,  5.18636489e-01,  5.58572155e-01,\n",
              "         5.98507822e-01,  6.38443488e-01,  6.78379154e-01,  7.18314821e-01,\n",
              "         7.58250487e-01,  7.98186153e-01,  8.38121819e-01,  8.78057486e-01,\n",
              "         9.17993152e-01,  9.57928818e-01,  9.97864485e-01]),\n",
              " <BarContainer object of 50 artists>)"
            ]
          },
          "metadata": {},
          "execution_count": 71
        },
        {
          "output_type": "display_data",
          "data": {
            "text/plain": [
              "<Figure size 640x480 with 1 Axes>"
            ],
            "image/png": "[encoded data removed]"
          },
          "metadata": {}
        }
      ]
    },
    {
      "cell_type": "code",
      "source": [
        "plt.hist(hpreact.view(-1).tolist(), 50)"
      ],
      "metadata": {
        "colab": {
          "base_uri": "https://localhost:8080/",
          "height": 741
        },
        "id": "qFD40QVnRw2d",
        "outputId": "581d90d9-cea4-484c-e1ff-55c5b9929b48"
      },
      "execution_count": 74,
      "outputs": [
        {
          "output_type": "execute_result",
          "data": {
            "text/plain": [
              "(array([  1.,   2.,   0.,   1.,   5.,   3.,  11.,   6.,  13.,  10.,  25.,\n",
              "         40.,  39.,  77.,  64.,  99., 134., 169., 187., 219., 224., 275.,\n",
              "        308., 311., 355., 369., 379., 357., 366., 333., 292., 284., 287.,\n",
              "        244., 187., 170., 134., 104.,  82.,  74.,  41.,  30.,  27.,  19.,\n",
              "         12.,   7.,  12.,   3.,   2.,   7.]),\n",
              " array([-3.76114893, -3.61751465, -3.47388037, -3.33024609, -3.1866118 ,\n",
              "        -3.04297752, -2.89934324, -2.75570896, -2.61207468, -2.4684404 ,\n",
              "        -2.32480612, -2.18117184, -2.03753756, -1.89390327, -1.75026899,\n",
              "        -1.60663471, -1.46300043, -1.31936615, -1.17573187, -1.03209759,\n",
              "        -0.88846331, -0.74482903, -0.60119474, -0.45756046, -0.31392618,\n",
              "        -0.1702919 , -0.02665762,  0.11697666,  0.26061094,  0.40424522,\n",
              "         0.54787951,  0.69151379,  0.83514807,  0.97878235,  1.12241663,\n",
              "         1.26605091,  1.40968519,  1.55331947,  1.69695375,  1.84058804,\n",
              "         1.98422232,  2.1278566 ,  2.27149088,  2.41512516,  2.55875944,\n",
              "         2.70239372,  2.846028  ,  2.98966228,  3.13329657,  3.27693085,\n",
              "         3.42056513]),\n",
              " <BarContainer object of 50 artists>)"
            ]
          },
          "metadata": {},
          "execution_count": 74
        },
        {
          "output_type": "display_data",
          "data": {
            "text/plain": [
              "<Figure size 640x480 with 1 Axes>"
            ],
            "image/png": "[encoded data removed]"
          },
          "metadata": {}
        }
      ]
    },
    {
      "cell_type": "code",
      "source": [
        "plt.figure(figsize=(28,10))\n",
        "plt.imshow(h.abs() > 0.99, cmap='gray', interpolation='nearest')"
      ],
      "metadata": {
        "colab": {
          "base_uri": "https://localhost:8080/",
          "height": 182
        },
        "id": "tlrFj0hjR18C",
        "outputId": "e4cd69a5-cfd5-402e-cfc7-924c2f29f163"
      },
      "execution_count": 73,
      "outputs": [
        {
          "output_type": "execute_result",
          "data": {
            "text/plain": [
              "<matplotlib.image.AxesImage at 0x7ed6c84fca50>"
            ]
          },
          "metadata": {},
          "execution_count": 73
        },
        {
          "output_type": "display_data",
          "data": {
            "text/plain": [
              "<Figure size 2800x1000 with 1 Axes>"
            ],
            "image/png": "[encoded data removed]"
          },
          "metadata": {}
        }
      ]
    },
    {
      "cell_type": "markdown",
      "source": [
        "# Experiment Initialize to Zero and Visualize the Activations."
      ],
      "metadata": {
        "id": "_rD1dJE7SSfo"
      }
    },
    {
      "cell_type": "code",
      "source": [
        "n_embd = 10\n",
        "n_hidden = 200\n",
        "\n",
        "\n",
        "g = torch.Generator().manual_seed(2147483647)\n",
        "C = torch.randn((vocab_size, n_embd),             generator=g)\n",
        "W1 = torch.randn((n_embd * block_size, n_hidden), generator=g) * 0 #<--\n",
        "b1 = torch.randn(n_hidden,                        generator=g) * 0 #<--\n",
        "W2 = torch.randn((n_hidden, vocab_size),          generator=g) * 0 #<--\n",
        "b2 = torch.randn(vocab_size,                      generator=g) * 0 #<--\n",
        "\n",
        "parameters = [C, W1, b1, W2, b2]\n",
        "\n",
        "\n",
        "total_param = sum(p.nelement() for p in parameters)\n",
        "print(f\"Total params: {total_param}\")\n",
        "\n",
        "for p in parameters:\n",
        "  p.requires_grad = True\n",
        "\n",
        "  max_steps = 200000\n",
        "batch_size = 32\n",
        "lossi = []\n",
        "\n",
        "for i in range(max_steps):\n",
        "\n",
        "  # minibatch construct\n",
        "  ix = torch.randint(0, Xtr.shape[0], (batch_size,), generator=g)\n",
        "  Xb, Yb = Xtr[ix], Ytr[ix]\n",
        "\n",
        "  # forward pass\n",
        "  emb = C[Xb]\n",
        "  embcat = emb.view(emb.shape[0], -1)\n",
        "  hpreact  = embcat @ W1 + b1\n",
        "  h = torch.tanh(hpreact)\n",
        "  logits = h @ W2 + b2\n",
        "  loss = F.cross_entropy(logits, Yb)\n",
        "\n",
        "  # backward pass\n",
        "  for p in parameters:\n",
        "    p.grad = None\n",
        "  loss.backward()\n",
        "\n",
        "  # update\n",
        "  lr = 0.1 if i < 100000 else 0.01\n",
        "  for p in parameters:\n",
        "    p.data += -lr * p.grad\n",
        "\n",
        "  # track stats, lri for finding a good lr\n",
        "  if i % 10000 == 0:\n",
        "    print(f\"{i:7d}/{max_steps:7d}: {loss.item():.4f}\")\n",
        "  lossi.append(loss.log10().item())"
      ],
      "metadata": {
        "colab": {
          "base_uri": "https://localhost:8080/"
        },
        "id": "NwQVqTQTSXma",
        "outputId": "54b34363-346f-49d9-dcb3-9bf0253bc2ce"
      },
      "execution_count": 87,
      "outputs": [
        {
          "output_type": "stream",
          "name": "stdout",
          "text": [
            "Total params: 11897\n",
            "      0/ 200000: 3.2958\n",
            "  10000/ 200000: 2.6793\n",
            "  20000/ 200000: 2.8210\n",
            "  30000/ 200000: 3.0941\n",
            "  40000/ 200000: 3.0673\n",
            "  50000/ 200000: 3.0884\n",
            "  60000/ 200000: 2.8090\n",
            "  70000/ 200000: 2.6637\n",
            "  80000/ 200000: 2.6951\n",
            "  90000/ 200000: 2.7917\n",
            " 100000/ 200000: 2.5930\n",
            " 110000/ 200000: 3.0857\n",
            " 120000/ 200000: 2.8063\n",
            " 130000/ 200000: 2.8613\n",
            " 140000/ 200000: 2.8347\n",
            " 150000/ 200000: 2.8381\n",
            " 160000/ 200000: 2.8990\n",
            " 170000/ 200000: 2.6623\n",
            " 180000/ 200000: 2.7992\n",
            " 190000/ 200000: 2.8359\n"
          ]
        }
      ]
    },
    {
      "cell_type": "code",
      "source": [
        "plt.hist(h.view(-1).tolist(), 50)"
      ],
      "metadata": {
        "colab": {
          "base_uri": "https://localhost:8080/",
          "height": 667
        },
        "id": "j9v_1RfDTQhO",
        "outputId": "565ad99d-a5e9-4969-a5d9-5462e4eb38c2"
      },
      "execution_count": 88,
      "outputs": [
        {
          "output_type": "execute_result",
          "data": {
            "text/plain": [
              "(array([   0.,    0.,    0.,    0.,    0.,    0.,    0.,    0.,    0.,\n",
              "           0.,    0.,    0.,    0.,    0.,    0.,    0.,    0.,    0.,\n",
              "           0.,    0.,    0.,    0.,    0.,    0.,    0., 6400.,    0.,\n",
              "           0.,    0.,    0.,    0.,    0.,    0.,    0.,    0.,    0.,\n",
              "           0.,    0.,    0.,    0.,    0.,    0.,    0.,    0.,    0.,\n",
              "           0.,    0.,    0.,    0.,    0.]),\n",
              " array([-0.5 , -0.48, -0.46, -0.44, -0.42, -0.4 , -0.38, -0.36, -0.34,\n",
              "        -0.32, -0.3 , -0.28, -0.26, -0.24, -0.22, -0.2 , -0.18, -0.16,\n",
              "        -0.14, -0.12, -0.1 , -0.08, -0.06, -0.04, -0.02,  0.  ,  0.02,\n",
              "         0.04,  0.06,  0.08,  0.1 ,  0.12,  0.14,  0.16,  0.18,  0.2 ,\n",
              "         0.22,  0.24,  0.26,  0.28,  0.3 ,  0.32,  0.34,  0.36,  0.38,\n",
              "         0.4 ,  0.42,  0.44,  0.46,  0.48,  0.5 ]),\n",
              " <BarContainer object of 50 artists>)"
            ]
          },
          "metadata": {},
          "execution_count": 88
        },
        {
          "output_type": "display_data",
          "data": {
            "text/plain": [
              "<Figure size 640x480 with 1 Axes>"
            ],
            "image/png": "[encoded data removed]"
          },
          "metadata": {}
        }
      ]
    },
    {
      "cell_type": "code",
      "source": [
        "plt.hist(hpreact.view(-1).tolist(), 50)"
      ],
      "metadata": {
        "colab": {
          "base_uri": "https://localhost:8080/",
          "height": 667
        },
        "id": "iSM59EOoTWRs",
        "outputId": "109f68eb-d99b-45f8-82b9-37f6dccd75bf"
      },
      "execution_count": 89,
      "outputs": [
        {
          "output_type": "execute_result",
          "data": {
            "text/plain": [
              "(array([   0.,    0.,    0.,    0.,    0.,    0.,    0.,    0.,    0.,\n",
              "           0.,    0.,    0.,    0.,    0.,    0.,    0.,    0.,    0.,\n",
              "           0.,    0.,    0.,    0.,    0.,    0.,    0., 6400.,    0.,\n",
              "           0.,    0.,    0.,    0.,    0.,    0.,    0.,    0.,    0.,\n",
              "           0.,    0.,    0.,    0.,    0.,    0.,    0.,    0.,    0.,\n",
              "           0.,    0.,    0.,    0.,    0.]),\n",
              " array([-0.5 , -0.48, -0.46, -0.44, -0.42, -0.4 , -0.38, -0.36, -0.34,\n",
              "        -0.32, -0.3 , -0.28, -0.26, -0.24, -0.22, -0.2 , -0.18, -0.16,\n",
              "        -0.14, -0.12, -0.1 , -0.08, -0.06, -0.04, -0.02,  0.  ,  0.02,\n",
              "         0.04,  0.06,  0.08,  0.1 ,  0.12,  0.14,  0.16,  0.18,  0.2 ,\n",
              "         0.22,  0.24,  0.26,  0.28,  0.3 ,  0.32,  0.34,  0.36,  0.38,\n",
              "         0.4 ,  0.42,  0.44,  0.46,  0.48,  0.5 ]),\n",
              " <BarContainer object of 50 artists>)"
            ]
          },
          "metadata": {},
          "execution_count": 89
        },
        {
          "output_type": "display_data",
          "data": {
            "text/plain": [
              "<Figure size 640x480 with 1 Axes>"
            ],
            "image/png": "[encoded data removed]"
          },
          "metadata": {}
        }
      ]
    },
    {
      "cell_type": "code",
      "source": [
        "plt.figure(figsize=(28,10))\n",
        "plt.imshow(h.abs() > 0.99, cmap='gray', interpolation='nearest')"
      ],
      "metadata": {
        "colab": {
          "base_uri": "https://localhost:8080/",
          "height": 182
        },
        "id": "oOm2c7ynSqYy",
        "outputId": "f1712fad-6669-4c80-a404-27ea589e8a66"
      },
      "execution_count": 93,
      "outputs": [
        {
          "output_type": "execute_result",
          "data": {
            "text/plain": [
              "<matplotlib.image.AxesImage at 0x7ed6c7cda3d0>"
            ]
          },
          "metadata": {},
          "execution_count": 93
        },
        {
          "output_type": "display_data",
          "data": {
            "text/plain": [
              "<Figure size 2800x1000 with 1 Axes>"
            ],
            "image/png": "[encoded data removed]"
          },
          "metadata": {}
        }
      ]
    },
    {
      "cell_type": "code",
      "source": [
        "# training loss\n",
        "train_loss = calculate_loss(Xtr, Ytr)\n",
        "print(f\"Training loss: {train_loss}\")\n",
        "# validation loss\n",
        "dev_loss = calculate_loss(Xdev, Ydev)\n",
        "print(f\"Dev loss: {dev_loss}\")\n",
        "# test loss\n",
        "test_loss = calculate_loss(Xte, Yte)\n",
        "print(f\"Test loss: {test_loss}\")"
      ],
      "metadata": {
        "colab": {
          "base_uri": "https://localhost:8080/"
        },
        "id": "o0hmdoA2TbJ1",
        "outputId": "902ce50e-a4ec-455b-f290-1ef777d45031"
      },
      "execution_count": 91,
      "outputs": [
        {
          "output_type": "stream",
          "name": "stdout",
          "text": [
            "Training loss: 2.822659730911255\n",
            "Dev loss: 2.8209733963012695\n",
            "Test loss: 2.8255531787872314\n"
          ]
        }
      ]
    },
    {
      "cell_type": "markdown",
      "source": [
        "# Setting initialization\n",
        "- no magic number is the goal!\n",
        "- See below how the std is changing after doing a multiplication, we want the std to stay the same.\n",
        "- Further reading: https://arxiv.org/pdf/1502.01852\n",
        "- practical use: https://docs.pytorch.org/docs/stable/nn.init.html"
      ],
      "metadata": {
        "id": "jSAZ3fc6Ybiv"
      }
    },
    {
      "cell_type": "code",
      "source": [
        "x = torch.randn(1000, 10)\n",
        "w = torch.rand(10, 200) # <-- What do we multiply it with to keep the std?\n",
        "y = x @ w\n",
        "print(x.mean(), x.std())\n",
        "print(y.mean(), y.std())\n",
        "plt.figure(figsize=(28, 5))\n",
        "plt.subplot(121)\n",
        "plt.hist(x.view(-1), 50, density=True)\n",
        "plt.subplot(122)\n",
        "plt.hist(y.view(-1), 50, density=True)"
      ],
      "metadata": {
        "colab": {
          "base_uri": "https://localhost:8080/",
          "height": 670
        },
        "id": "1K8xiMZaYrEN",
        "outputId": "a727b1b0-1679-428f-8df8-7d07eb2243df"
      },
      "execution_count": 102,
      "outputs": [
        {
          "output_type": "stream",
          "name": "stdout",
          "text": [
            "tensor(0.0113) tensor(0.9823)\n",
            "tensor(0.0581) tensor(1.8173)\n"
          ]
        },
        {
          "output_type": "execute_result",
          "data": {
            "text/plain": [
              "(array([6.22009595e-05, 1.08851679e-04, 2.64354078e-04, 5.59808635e-04,\n",
              "        9.33014392e-04, 2.03708142e-03, 3.12559358e-03, 4.75838046e-03,\n",
              "        7.52630494e-03, 1.17093480e-02, 1.68097968e-02, 2.46004612e-02,\n",
              "        3.60610063e-02, 4.60598105e-02, 6.22165097e-02, 7.91040702e-02,\n",
              "        1.00050243e-01, 1.22147134e-01, 1.44617231e-01, 1.66449768e-01,\n",
              "        1.90832544e-01, 2.07906707e-01, 2.22492832e-01, 2.30594165e-01,\n",
              "        2.24872352e-01, 2.13426726e-01, 1.93585223e-01, 1.73447118e-01,\n",
              "        1.49142572e-01, 1.20234276e-01, 9.34881808e-02, 7.18420017e-02,\n",
              "        5.29795887e-02, 3.85646521e-02, 2.89389535e-02, 2.06974000e-02,\n",
              "        1.51459112e-02, 1.08074327e-02, 7.68180711e-03, 4.91388309e-03,\n",
              "        3.71650182e-03, 2.13038602e-03, 1.32176843e-03, 1.04186762e-03,\n",
              "        4.82056721e-04, 2.33253944e-04, 1.86602602e-04, 1.08851518e-04,\n",
              "        1.55502629e-05, 1.55503091e-05]),\n",
              " array([-7.46571064, -7.14417219, -6.82263374, -6.50109529, -6.17955685,\n",
              "        -5.8580184 , -5.53647995, -5.21494102, -4.89340305, -4.57186413,\n",
              "        -4.25032616, -3.92878747, -3.60724878, -3.28571033, -2.96417189,\n",
              "        -2.64263344, -2.32109499, -1.99955654, -1.67801809, -1.35647964,\n",
              "        -1.0349412 , -0.71340275, -0.3918643 , -0.07032585,  0.25121307,\n",
              "         0.57275105,  0.89428997,  1.21582794,  1.53736687,  1.85890484,\n",
              "         2.18044376,  2.50198174,  2.82352066,  3.14505959,  3.46659756,\n",
              "         3.78813648,  4.10967445,  4.43121338,  4.75275135,  5.07429028,\n",
              "         5.39582825,  5.71736717,  6.03890514,  6.36044407,  6.68198204,\n",
              "         7.00352097,  7.32505894,  7.64659786,  7.96813679,  8.28967476,\n",
              "         8.61121178]),\n",
              " <BarContainer object of 50 artists>)"
            ]
          },
          "metadata": {},
          "execution_count": 102
        },
        {
          "output_type": "display_data",
          "data": {
            "text/plain": [
              "<Figure size 2800x500 with 2 Axes>"
            ],
            "image/png": "[encoded data removed]"
          },
          "metadata": {}
        }
      ]
    },
    {
      "cell_type": "code",
      "source": [
        "x = torch.randn(1000, 10)\n",
        "w = torch.rand(10, 200) / 10 ** 0.5 # This is depending on the operation done read paper, docu.\n",
        "y = x @ w\n",
        "print(x.mean(), x.std())\n",
        "print(y.mean(), y.std())\n",
        "plt.figure(figsize=(28, 5))\n",
        "plt.subplot(121)\n",
        "plt.hist(x.view(-1), 50, density=True)\n",
        "plt.subplot(122)\n",
        "plt.hist(y.view(-1), 50, density=True)"
      ],
      "metadata": {
        "colab": {
          "base_uri": "https://localhost:8080/",
          "height": 673
        },
        "id": "vzj5KakMZ_VN",
        "outputId": "9b0ca4c0-1243-41db-95c6-3330cad77fff"
      },
      "execution_count": 105,
      "outputs": [
        {
          "output_type": "stream",
          "name": "stdout",
          "text": [
            "tensor(-0.0021) tensor(1.0040)\n",
            "tensor(-0.0008) tensor(0.1236)\n"
          ]
        },
        {
          "output_type": "execute_result",
          "data": {
            "text/plain": [
              "(array([6.33602997e-04, 4.22400935e-04, 1.05600500e-03, 2.95681026e-03,\n",
              "        4.85761686e-03, 8.02562786e-03, 1.43616499e-02, 2.74561299e-02,\n",
              "        4.41408977e-02, 7.24419427e-02, 1.19117214e-01, 1.76775014e-01,\n",
              "        2.71604143e-01, 3.85230622e-01, 5.54613125e-01, 7.31599340e-01,\n",
              "        9.81449807e-01, 1.27565243e+00, 1.62814850e+00, 2.05097032e+00,\n",
              "        2.43725646e+00, 2.74603193e+00, 3.06009127e+00, 3.29134808e+00,\n",
              "        3.33359657e+00, 3.21975112e+00, 3.00686862e+00, 2.71731205e+00,\n",
              "        2.36797964e+00, 1.96290208e+00, 1.58970592e+00, 1.23341383e+00,\n",
              "        9.27383587e-01, 6.77953500e-01, 4.63163791e-01, 3.15955899e-01,\n",
              "        2.14157813e-01, 1.34112634e-01, 7.81441729e-02, 4.75202248e-02,\n",
              "        2.64000584e-02, 1.68960799e-02, 8.23681822e-03, 5.91362797e-03,\n",
              "        3.16801499e-03, 1.68960799e-03, 6.33599807e-04, 2.11200999e-04,\n",
              "        4.22401998e-04, 4.22400935e-04]),\n",
              " array([-0.57686359, -0.55318946, -0.52951527, -0.50584114, -0.48216698,\n",
              "        -0.45849282, -0.43481866, -0.4111445 , -0.38747036, -0.36379617,\n",
              "        -0.34012204, -0.31644788, -0.29277372, -0.26909956, -0.24542543,\n",
              "        -0.22175127, -0.19807711, -0.17440295, -0.15072879, -0.12705466,\n",
              "        -0.1033805 , -0.07970634, -0.05603218, -0.03235805, -0.00868386,\n",
              "         0.01499027,  0.03866446,  0.06233859,  0.08601272,  0.10968691,\n",
              "         0.13336104,  0.15703523,  0.18070936,  0.20438349,  0.22805768,\n",
              "         0.25173181,  0.275406  ,  0.29908013,  0.32275426,  0.34642845,\n",
              "         0.37010258,  0.39377677,  0.4174509 ,  0.44112509,  0.46479923,\n",
              "         0.48847336,  0.51214749,  0.53582174,  0.55949587,  0.58317   ,\n",
              "         0.60684419]),\n",
              " <BarContainer object of 50 artists>)"
            ]
          },
          "metadata": {},
          "execution_count": 105
        },
        {
          "output_type": "display_data",
          "data": {
            "text/plain": [
              "<Figure size 2800x500 with 2 Axes>"
            ],
            "image/png": "[encoded data removed]"
          },
          "metadata": {}
        }
      ]
    }
  ]
}