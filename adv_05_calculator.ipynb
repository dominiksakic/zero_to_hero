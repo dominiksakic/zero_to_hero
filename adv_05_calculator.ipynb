{
  "nbformat": 4,
  "nbformat_minor": 0,
  "metadata": {
    "colab": {
      "provenance": [],
      "authorship_tag": "ABX9TyNrny5U+lN7p1lsJoi8UrCC",
      "include_colab_link": true
    },
    "kernelspec": {
      "name": "python3",
      "display_name": "Python 3"
    },
    "language_info": {
      "name": "python"
    }
  },
  "cells": [
    {
      "cell_type": "markdown",
      "metadata": {
        "id": "view-in-github",
        "colab_type": "text"
      },
      "source": [
        "<a href=\"https://colab.research.google.com/github/dominiksakic/zero_to_hero/blob/main/adv_05_calculator.ipynb\" target=\"_parent\"><img src=\"https://colab.research.google.com/assets/colab-badge.svg\" alt=\"Open In Colab\"/></a>"
      ]
    },
    {
      "cell_type": "markdown",
      "source": [
        "# Goal\n",
        "Train a GPT to do addition of two numbers, i.e. a+b=c. You may find it helpful to predict the digits of c in reverse order, as the typical addition algorithm (that you're hoping it learns) would proceed right to left too. You may want to modify the data loader to simply serve random problems and skip the generation of train.bin, val.bin. You may want to mask out the loss at the input positions of a+b that just specify the problem using y=-1 in the targets (see CrossEntropyLoss ignore_index). Does your Transformer learn to add? Once you have this, swole doge project: build a calculator clone in GPT, for all of +-*/. Not an easy problem. You may need Chain of Thought traces.\n",
        "\n",
        "- Where to get a dataset? Create on yourself? [Yourself]\n",
        "  - write a script that randomized two numbers a and b.\n",
        "  - loop over n steps and record the results in a text file.\n",
        "- How to tokenize the input?\n",
        "  - Char level?\n",
        "  - Tokens?\n",
        "  - See below for some ideas.\n",
        "- Train a simple GPT on the dataset like you would on any other text. What are the outputs? Why?\n",
        "- How would you train in reverse order?"
      ],
      "metadata": {
        "id": "NXg2NidaWDY_"
      }
    },
    {
      "cell_type": "code",
      "source": [
        "import random\n",
        "\n",
        "n = 20\n",
        "for i in range(n):\n",
        "  a = random.randint(0, 50)\n",
        "  b = random.randint(0, 50)\n",
        "  c = a + b\n",
        "  if a < 10 and b < 10 and c < 10:\n",
        "    print(f\"0{a} + 0{b} = 0{c}\")\n",
        "  if a < 10 and b < 10:\n",
        "    print(f\"0{a} + 0{b} = {c}\")\n",
        "  if a < 10:\n",
        "    print(f\"0{a} + {b} = {c}\")\n",
        "  if b < 10:\n",
        "    print(f\"{a} + 0{b} = {c}\")\n",
        "  else:\n",
        "    print(f\"{a} + {b} = {c}\")\n",
        "\n",
        "\n"
      ],
      "metadata": {
        "id": "MQjWjPFRc-q4",
        "outputId": "6a4ecff3-59be-470f-f906-d6769bed0738",
        "colab": {
          "base_uri": "https://localhost:8080/"
        }
      },
      "execution_count": 7,
      "outputs": [
        {
          "output_type": "stream",
          "name": "stdout",
          "text": [
            "43 + 13 = 56\n",
            "07 + 19 = 26\n",
            "7 + 19 = 26\n",
            "42 + 32 = 74\n",
            "17 + 26 = 43\n",
            "30 + 05 = 35\n",
            "43 + 43 = 86\n",
            "16 + 14 = 30\n",
            "13 + 12 = 25\n",
            "27 + 46 = 73\n",
            "18 + 08 = 26\n",
            "06 + 42 = 48\n",
            "6 + 42 = 48\n",
            "00 + 46 = 46\n",
            "0 + 46 = 46\n",
            "00 + 22 = 22\n",
            "0 + 22 = 22\n",
            "31 + 14 = 45\n",
            "25 + 15 = 40\n",
            "09 + 46 = 55\n",
            "9 + 46 = 55\n",
            "03 + 03 = 06\n",
            "03 + 03 = 6\n",
            "03 + 3 = 6\n",
            "3 + 03 = 6\n",
            "36 + 29 = 65\n",
            "10 + 44 = 54\n",
            "34 + 09 = 43\n"
          ]
        }
      ]
    },
    {
      "cell_type": "code",
      "source": [],
      "metadata": {
        "id": "3ZX4_VMHdNL2",
        "outputId": "031901a1-a4b0-4759-dc5f-a2884ab44107",
        "colab": {
          "base_uri": "https://localhost:8080/"
        }
      },
      "execution_count": 4,
      "outputs": [
        {
          "output_type": "execute_result",
          "data": {
            "text/plain": [
              "28"
            ]
          },
          "metadata": {},
          "execution_count": 4
        }
      ]
    }
  ]
}