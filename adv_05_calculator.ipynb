{
  "nbformat": 4,
  "nbformat_minor": 0,
  "metadata": {
    "colab": {
      "provenance": [],
      "authorship_tag": "ABX9TyPlD6+fWdToyAVR9BAZQsvZ",
      "include_colab_link": true
    },
    "kernelspec": {
      "name": "python3",
      "display_name": "Python 3"
    },
    "language_info": {
      "name": "python"
    }
  },
  "cells": [
    {
      "cell_type": "markdown",
      "metadata": {
        "id": "view-in-github",
        "colab_type": "text"
      },
      "source": [
        "<a href=\"https://colab.research.google.com/github/dominiksakic/zero_to_hero/blob/main/adv_05_calculator.ipynb\" target=\"_parent\"><img src=\"https://colab.research.google.com/assets/colab-badge.svg\" alt=\"Open In Colab\"/></a>"
      ]
    },
    {
      "cell_type": "markdown",
      "source": [
        "# Goal\n",
        "Train a GPT to do addition of two numbers, i.e. a+b=c. You may find it helpful to predict the digits of c in reverse order, as the typical addition algorithm (that you're hoping it learns) would proceed right to left too. You may want to modify the data loader to simply serve random problems and skip the generation of train.bin, val.bin. You may want to mask out the loss at the input positions of a+b that just specify the problem using y=-1 in the targets (see CrossEntropyLoss ignore_index). Does your Transformer learn to add? Once you have this, swole doge project: build a calculator clone in GPT, for all of +-*/. Not an easy problem. You may need Chain of Thought traces.\n",
        "\n",
        "- Where to get a dataset? Create on yourself? [Yourself]\n",
        "  - write a script that randomized two numbers a and b.\n",
        "  - loop over n steps and record the results in a text file.\n",
        "- How to tokenize the input?\n",
        "  - Char level?\n",
        "  - Tokens?\n",
        "  - See below for some ideas.\n",
        "- Train a simple GPT on the dataset like you would on any other text. What are the outputs? Why?\n",
        "- How would you train in reverse order?\n",
        "\n",
        "# Try 1\n",
        "- Simplest version of a calculator 0 - 9 + 0 - 9 = 00 - 18\n",
        "- one data set would be blocksize 6.\n",
        "- how much data could I create? The number of combinations?\n",
        "  - 81 combinations only? That is not a lot and I would think that the neural net can just remember these!\n",
        "  - Due to the lack of data the network should be able to remember all the data making a perfect calculator.\n",
        "- I just have to mask the last to blocks."
      ],
      "metadata": {
        "id": "NXg2NidaWDY_"
      }
    },
    {
      "cell_type": "code",
      "source": [
        "import random\n",
        "\n",
        "# create Dataset\n",
        "text = ''\n",
        "for i in range(10):\n",
        "  for j in range(10):\n",
        "    if (i+j) < 10:\n",
        "      result = f\"{i}+{j}=0{i+j}\"\n",
        "    else:\n",
        "      result = f\"{i}+{j}={i+j}\"\n",
        "\n",
        "    text += str(result)\n",
        "\n",
        "chars = sorted(list(set(text)))\n",
        "vocab_size = len(chars)\n",
        "\n",
        "stoi = {ch: i for i, ch in enumerate(chars)}\n",
        "itos = {i: ch for ch, i in stoi.items()}\n",
        "\n",
        "def encode(s):\n",
        "    return [stoi[c] for c in s]\n",
        "\n",
        "def decode(l):\n",
        "    return ''.join(itos[i] for i in l)"
      ],
      "metadata": {
        "id": "UsIyj45hkDkK"
      },
      "execution_count": 37,
      "outputs": []
    },
    {
      "cell_type": "code",
      "source": [
        "chars"
      ],
      "metadata": {
        "colab": {
          "base_uri": "https://localhost:8080/"
        },
        "id": "JwlQOP3rkWdb",
        "outputId": "4c15772a-457c-4fdf-ae96-cafb852957aa"
      },
      "execution_count": 38,
      "outputs": [
        {
          "output_type": "execute_result",
          "data": {
            "text/plain": [
              "['+', '0', '1', '2', '3', '4', '5', '6', '7', '8', '9', '=']"
            ]
          },
          "metadata": {},
          "execution_count": 38
        }
      ]
    },
    {
      "cell_type": "code",
      "source": [
        "encode(\"9+9=18\")"
      ],
      "metadata": {
        "colab": {
          "base_uri": "https://localhost:8080/"
        },
        "id": "7z0zkhNimU2J",
        "outputId": "70f5d2aa-94ec-4e76-9951-180082a79e8e"
      },
      "execution_count": 39,
      "outputs": [
        {
          "output_type": "execute_result",
          "data": {
            "text/plain": [
              "[10, 0, 10, 11, 2, 9]"
            ]
          },
          "metadata": {},
          "execution_count": 39
        }
      ]
    },
    {
      "cell_type": "code",
      "source": [
        "# try a simple network takes in a integer tensor and outputs a integer tensor\n",
        "\n",
        "import torch\n",
        "\n",
        "block_size = 4\n",
        "target_size = 2\n",
        "\n",
        "data = encode(text)\n",
        "\n",
        "X, Y = [], []\n",
        "\n",
        "for i in range(0, (len(data) - block_size), 6):\n",
        "    context = data[i : i + block_size]\n",
        "    target  = data[i + block_size : i + block_size + target_size]\n",
        "\n",
        "    # print(decode(context), \"->\", decode(target))\n",
        "\n",
        "    X.append(context)\n",
        "    Y.append(target)\n",
        "\n",
        "X = torch.tensor(X)  # shape (N, 4)\n",
        "Y = torch.tensor(Y)  # shape (N, 2)\n",
        "\n",
        "X.shape"
      ],
      "metadata": {
        "colab": {
          "base_uri": "https://localhost:8080/"
        },
        "id": "97Ex-qyXmXxQ",
        "outputId": "933990fb-f7bd-4846-9c38-86b9d57fe76c"
      },
      "execution_count": 96,
      "outputs": [
        {
          "output_type": "execute_result",
          "data": {
            "text/plain": [
              "torch.Size([100, 4])"
            ]
          },
          "metadata": {},
          "execution_count": 96
        }
      ]
    },
    {
      "cell_type": "code",
      "source": [
        "import torch.nn as nn\n",
        "import torch.optim as optim\n",
        "\n",
        "embed_dim = 10  # Hyperparam\n",
        "\n",
        "model  = nn.Sequential(\n",
        "    nn.Embedding(vocab_size, embed_dim),   # (B, 4) -> (B, 4, 32)\n",
        "    nn.Flatten(),                          # (B, 4*16)\n",
        "    nn.ReLU(),\n",
        "    nn.Linear(block_size * embed_dim, target_size * vocab_size)  # (B, 2*vocab)\n",
        ")"
      ],
      "metadata": {
        "id": "3Ohz2Z-OrhdZ"
      },
      "execution_count": 116,
      "outputs": []
    },
    {
      "cell_type": "code",
      "source": [
        "opt = optim.AdamW(model.parameters(), lr=0.001)\n",
        "loss_fn = nn.CrossEntropyLoss()"
      ],
      "metadata": {
        "id": "MdLnLRwttqFV"
      },
      "execution_count": 117,
      "outputs": []
    },
    {
      "cell_type": "code",
      "source": [
        "for epoch in range(1000):\n",
        "    logits = model(X)\n",
        "    logits = logits.view(-1, target_size, vocab_size)\n",
        "\n",
        "    loss = loss_fn(logits[:, 0, :], Y[:, 0]) + loss_fn(logits[:, 1, :], Y[:, 1])\n",
        "\n",
        "    opt.zero_grad()\n",
        "    loss.backward()\n",
        "    opt.step()\n",
        "\n",
        "    if epoch % 10 == 0:\n",
        "        print(f\"Epoch {epoch}, loss = {loss.item():.4f}\")"
      ],
      "metadata": {
        "id": "wvnuiLeGtnNC",
        "outputId": "a0eeee1c-537c-4307-b498-b996752618a6",
        "colab": {
          "base_uri": "https://localhost:8080/"
        }
      },
      "execution_count": 118,
      "outputs": [
        {
          "output_type": "stream",
          "name": "stdout",
          "text": [
            "Epoch 0, loss = 4.6840\n",
            "Epoch 10, loss = 4.4301\n",
            "Epoch 20, loss = 4.2085\n",
            "Epoch 30, loss = 4.0148\n",
            "Epoch 40, loss = 3.8470\n",
            "Epoch 50, loss = 3.7036\n",
            "Epoch 60, loss = 3.5823\n",
            "Epoch 70, loss = 3.4803\n",
            "Epoch 80, loss = 3.3950\n",
            "Epoch 90, loss = 3.3236\n",
            "Epoch 100, loss = 3.2638\n",
            "Epoch 110, loss = 3.2134\n",
            "Epoch 120, loss = 3.1706\n",
            "Epoch 130, loss = 3.1338\n",
            "Epoch 140, loss = 3.1019\n",
            "Epoch 150, loss = 3.0739\n",
            "Epoch 160, loss = 3.0491\n",
            "Epoch 170, loss = 3.0269\n",
            "Epoch 180, loss = 3.0067\n",
            "Epoch 190, loss = 2.9883\n",
            "Epoch 200, loss = 2.9714\n",
            "Epoch 210, loss = 2.9557\n",
            "Epoch 220, loss = 2.9410\n",
            "Epoch 230, loss = 2.9272\n",
            "Epoch 240, loss = 2.9143\n",
            "Epoch 250, loss = 2.9019\n",
            "Epoch 260, loss = 2.8903\n",
            "Epoch 270, loss = 2.8793\n",
            "Epoch 280, loss = 2.8688\n",
            "Epoch 290, loss = 2.8587\n",
            "Epoch 300, loss = 2.8490\n",
            "Epoch 310, loss = 2.8395\n",
            "Epoch 320, loss = 2.8304\n",
            "Epoch 330, loss = 2.8215\n",
            "Epoch 340, loss = 2.8128\n",
            "Epoch 350, loss = 2.8044\n",
            "Epoch 360, loss = 2.7962\n",
            "Epoch 370, loss = 2.7881\n",
            "Epoch 380, loss = 2.7802\n",
            "Epoch 390, loss = 2.7724\n",
            "Epoch 400, loss = 2.7647\n",
            "Epoch 410, loss = 2.7572\n",
            "Epoch 420, loss = 2.7498\n",
            "Epoch 430, loss = 2.7425\n",
            "Epoch 440, loss = 2.7353\n",
            "Epoch 450, loss = 2.7282\n",
            "Epoch 460, loss = 2.7212\n",
            "Epoch 470, loss = 2.7143\n",
            "Epoch 480, loss = 2.7075\n",
            "Epoch 490, loss = 2.7008\n",
            "Epoch 500, loss = 2.6941\n",
            "Epoch 510, loss = 2.6875\n",
            "Epoch 520, loss = 2.6810\n",
            "Epoch 530, loss = 2.6746\n",
            "Epoch 540, loss = 2.6683\n",
            "Epoch 550, loss = 2.6620\n",
            "Epoch 560, loss = 2.6559\n",
            "Epoch 570, loss = 2.6498\n",
            "Epoch 580, loss = 2.6438\n",
            "Epoch 590, loss = 2.6380\n",
            "Epoch 600, loss = 2.6322\n",
            "Epoch 610, loss = 2.6265\n",
            "Epoch 620, loss = 2.6209\n",
            "Epoch 630, loss = 2.6154\n",
            "Epoch 640, loss = 2.6100\n",
            "Epoch 650, loss = 2.6047\n",
            "Epoch 660, loss = 2.5995\n",
            "Epoch 670, loss = 2.5944\n",
            "Epoch 680, loss = 2.5894\n",
            "Epoch 690, loss = 2.5845\n",
            "Epoch 700, loss = 2.5798\n",
            "Epoch 710, loss = 2.5751\n",
            "Epoch 720, loss = 2.5706\n",
            "Epoch 730, loss = 2.5662\n",
            "Epoch 740, loss = 2.5619\n",
            "Epoch 750, loss = 2.5577\n",
            "Epoch 760, loss = 2.5536\n",
            "Epoch 770, loss = 2.5496\n",
            "Epoch 780, loss = 2.5456\n",
            "Epoch 790, loss = 2.5421\n",
            "Epoch 800, loss = 2.5387\n",
            "Epoch 810, loss = 2.5354\n",
            "Epoch 820, loss = 2.5322\n",
            "Epoch 830, loss = 2.5291\n",
            "Epoch 840, loss = 2.5260\n",
            "Epoch 850, loss = 2.5230\n",
            "Epoch 860, loss = 2.5201\n",
            "Epoch 870, loss = 2.5172\n",
            "Epoch 880, loss = 2.5144\n",
            "Epoch 890, loss = 2.5116\n",
            "Epoch 900, loss = 2.5089\n",
            "Epoch 910, loss = 2.5062\n",
            "Epoch 920, loss = 2.5036\n",
            "Epoch 930, loss = 2.5011\n",
            "Epoch 940, loss = 2.4985\n",
            "Epoch 950, loss = 2.4961\n",
            "Epoch 960, loss = 2.4936\n",
            "Epoch 970, loss = 2.4913\n",
            "Epoch 980, loss = 2.4889\n",
            "Epoch 990, loss = 2.4866\n"
          ]
        }
      ]
    },
    {
      "cell_type": "code",
      "source": [
        "def sample(model, context_str, stoi, itos, block_size=4, target_size=2):\n",
        "    model.eval()\n",
        "    context_ids = torch.tensor([stoi[c] for c in context_str], dtype=torch.long).unsqueeze(0)  # (1, 4)\n",
        "    with torch.no_grad():\n",
        "        logits = model(context_ids)  # (1, 2*vocab_size)\n",
        "        logits = logits.view(1, target_size, -1)  # (1, 2, vocab_size)\n",
        "        preds = torch.argmax(logits, dim=-1)  # (1, 2)\n",
        "    pred_chars = ''.join(itos[i.item()] for i in preds[0])\n",
        "    return pred_chars\n",
        "\n",
        "# Example usage:\n",
        "print(\"Input: '1+2='\")\n",
        "print(\"Predicted:\", sample(model, \"7+3=\", stoi, itos))"
      ],
      "metadata": {
        "id": "U93qoMwRv686",
        "outputId": "cea8381b-06ec-4b44-fb82-e4bca8405b17",
        "colab": {
          "base_uri": "https://localhost:8080/"
        }
      },
      "execution_count": 120,
      "outputs": [
        {
          "output_type": "stream",
          "name": "stdout",
          "text": [
            "Input: '1+2='\n",
            "Predicted: 04\n"
          ]
        }
      ]
    },
    {
      "cell_type": "code",
      "source": [],
      "metadata": {
        "id": "eQWZqdgsxmAZ"
      },
      "execution_count": null,
      "outputs": []
    }
  ]
}