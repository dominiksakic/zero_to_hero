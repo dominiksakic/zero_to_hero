{
  "nbformat": 4,
  "nbformat_minor": 0,
  "metadata": {
    "colab": {
      "provenance": [],
      "authorship_tag": "ABX9TyOHiA6uPvxYQsdQzr8WJD9V",
      "include_colab_link": true
    },
    "kernelspec": {
      "name": "python3",
      "display_name": "Python 3"
    },
    "language_info": {
      "name": "python"
    }
  },
  "cells": [
    {
      "cell_type": "markdown",
      "metadata": {
        "id": "view-in-github",
        "colab_type": "text"
      },
      "source": [
        "<a href=\"https://colab.research.google.com/github/dominiksakic/zero_to_hero/blob/main/basics_06_transformers.ipynb\" target=\"_parent\"><img src=\"https://colab.research.google.com/assets/colab-badge.svg\" alt=\"Open In Colab\"/></a>"
      ]
    },
    {
      "cell_type": "markdown",
      "source": [
        "- source: https://www.youtube.com/watch?v=kCc8FmEb1nY&t=126s"
      ],
      "metadata": {
        "id": "1CQwLj_P358I"
      }
    },
    {
      "cell_type": "code",
      "source": [
        "# get data"
      ],
      "metadata": {
        "id": "HAYtmhDA4dIy"
      },
      "execution_count": null,
      "outputs": []
    },
    {
      "cell_type": "code",
      "source": [
        "# make decoder, encoder"
      ],
      "metadata": {
        "id": "KZM0-heV4e6B"
      },
      "execution_count": null,
      "outputs": []
    },
    {
      "cell_type": "code",
      "source": [
        "# create a baseline model/bigram"
      ],
      "metadata": {
        "id": "sq74fs6T4jRH"
      },
      "execution_count": null,
      "outputs": []
    },
    {
      "cell_type": "code",
      "source": [
        "# train the baseline"
      ],
      "metadata": {
        "id": "KgPcGM_C4qxk"
      },
      "execution_count": null,
      "outputs": []
    },
    {
      "cell_type": "markdown",
      "source": [
        "# Transformers\n"
      ],
      "metadata": {
        "id": "2VzQyQH74vTA"
      }
    },
    {
      "cell_type": "code",
      "source": [
        "# Gensis of Transformer\n",
        "# Averaging past context with for loops\n",
        "# Matrix multiplying as weighted aggregation\n",
        "# Final version"
      ],
      "metadata": {
        "id": "wqRqB4f842tM"
      },
      "execution_count": null,
      "outputs": []
    }
  ]
}