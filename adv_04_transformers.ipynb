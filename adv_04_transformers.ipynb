{
  "nbformat": 4,
  "nbformat_minor": 0,
  "metadata": {
    "colab": {
      "provenance": [],
      "gpuType": "T4",
      "authorship_tag": "ABX9TyNtkDf8QMZ+AVVHmQszYyzQ",
      "include_colab_link": true
    },
    "kernelspec": {
      "name": "python3",
      "display_name": "Python 3"
    },
    "language_info": {
      "name": "python"
    },
    "accelerator": "GPU"
  },
  "cells": [
    {
      "cell_type": "markdown",
      "metadata": {
        "id": "view-in-github",
        "colab_type": "text"
      },
      "source": [
        "<a href=\"https://colab.research.google.com/github/dominiksakic/zero_to_hero/blob/main/adv_04_transformers.ipynb\" target=\"_parent\"><img src=\"https://colab.research.google.com/assets/colab-badge.svg\" alt=\"Open In Colab\"/></a>"
      ]
    },
    {
      "cell_type": "markdown",
      "source": [
        "- EX2: Train the GPT on your own dataset of choice! What other data could be fun to blabber on about? (A fun advanced suggestion if you like: train a GPT to do addition of two numbers, i.e. a+b=c. You may find it helpful to predict the digits of c in reverse order, as the typical addition algorithm (that you're hoping it learns) would proceed right to left too. You may want to modify the data loader to simply serve random problems and skip the generation of train.bin, val.bin. You may want to mask out the loss at the input positions of a+b that just specify the problem using y=-1 in the targets (see CrossEntropyLoss ignore_index). Does your Transformer learn to add? Once you have this, swole doge project: build a calculator clone in GPT, for all of +-*/. Not an easy problem. You may need Chain of Thought traces.)\n",
        "- EX3: Find a dataset that is very large, so large that you can't see a gap between train and val loss. Pretrain the transformer on this data, then initialize with that model and finetune it on tiny shakespeare with a smaller number of steps and lower learning rate. Can you obtain a lower validation loss by the use of pretraining?\n",
        "- EX4: Read some transformer papers and implement one additional feature or change that people seem to use. Does it improve the performance of your GPT?"
      ],
      "metadata": {
        "id": "pHOUmR25HJd5"
      }
    },
    {
      "cell_type": "code",
      "source": [
        "import re\n",
        "\n",
        "def clean_english(text):\n",
        "    return re.sub(r\"[^a-zA-Z0-9.,!?'\\n\\\"()\\-:; ]+\", '', text)"
      ],
      "metadata": {
        "id": "2Xb_rzgSWPqc"
      },
      "execution_count": 5,
      "outputs": []
    },
    {
      "cell_type": "code",
      "source": [
        "!pip install kagglehub -q"
      ],
      "metadata": {
        "id": "YHf3VBqrIdX6"
      },
      "execution_count": 2,
      "outputs": []
    },
    {
      "cell_type": "code",
      "source": [
        "import kagglehub\n",
        "\n",
        "# Download latest version\n",
        "path = kagglehub.dataset_download(\"ffatty/plain-text-wikipedia-simpleenglish\")\n",
        "print(\"Path to dataset files:\", path)"
      ],
      "metadata": {
        "colab": {
          "base_uri": "https://localhost:8080/"
        },
        "id": "3jEZZ3DiI6II",
        "outputId": "8243d081-c5e0-4200-950c-9da75dccc1f5"
      },
      "execution_count": 3,
      "outputs": [
        {
          "output_type": "stream",
          "name": "stdout",
          "text": [
            "Downloading from https://www.kaggle.com/api/v1/datasets/download/ffatty/plain-text-wikipedia-simpleenglish?dataset_version_number=2...\n"
          ]
        },
        {
          "output_type": "stream",
          "name": "stderr",
          "text": [
            "100%|██████████| 128M/128M [00:07<00:00, 17.6MB/s]"
          ]
        },
        {
          "output_type": "stream",
          "name": "stdout",
          "text": [
            "Extracting files...\n"
          ]
        },
        {
          "output_type": "stream",
          "name": "stderr",
          "text": [
            "\n"
          ]
        },
        {
          "output_type": "stream",
          "name": "stdout",
          "text": [
            "Path to dataset files: /root/.cache/kagglehub/datasets/ffatty/plain-text-wikipedia-simpleenglish/versions/2\n"
          ]
        }
      ]
    },
    {
      "cell_type": "code",
      "source": [
        "import os\n",
        "file_path = os.path.join(path, \"AllCombined.txt\")\n",
        "with open(file_path, 'r', encoding='utf-8') as f:\n",
        "    text = f.read()\n",
        "\n",
        "text = clean_english(text)"
      ],
      "metadata": {
        "id": "dYUC_MO-J_AE"
      },
      "execution_count": 6,
      "outputs": []
    },
    {
      "cell_type": "code",
      "source": [
        "print(\"Length of loaded text:\", len(text))\n",
        "print(\"First 500 characters:\\n\", text[:500])"
      ],
      "metadata": {
        "colab": {
          "base_uri": "https://localhost:8080/"
        },
        "id": "OUHFl4pMIZ5H",
        "outputId": "3d80c5f4-27df-4e1b-b9eb-21fd3c8389f4"
      },
      "execution_count": 7,
      "outputs": [
        {
          "output_type": "stream",
          "name": "stdout",
          "text": [
            "Length of loaded text: 177711639\n",
            "First 500 characters:\n",
            " \n",
            "April\n",
            "\n",
            "April (Apr.) is the fourth month of the year in the Julian and Gregorian calendars, and comes between March and May. It is one of four months to have 30 days.\n",
            "\n",
            "April always begins on the same day of the week as July, and additionally, January in leap years. April always ends on the same day of the week as December.\n",
            "\n",
            "April comes between March and May, making it the fourth month of the year. It also comes first in the year out of the four months that have 30 days, as June, September and No\n"
          ]
        }
      ]
    },
    {
      "cell_type": "code",
      "source": [
        "## STARTING CODE ##\n",
        "import math\n",
        "import torch\n",
        "import torch.nn as nn\n",
        "from torch.nn import functional as F\n",
        "\n",
        "## PREP DATA\n",
        "chars = sorted(list(set(text)))\n",
        "vocab_size = len(chars)\n",
        "stoi = {ch:i  for i, ch in enumerate(chars)}\n",
        "itos = {i : ch for i, ch in enumerate(chars)}\n",
        "\n",
        "encode = lambda s: [stoi[c] for c in s]\n",
        "decode = lambda l: ''.join([itos[i] for i in l])\n",
        "\n",
        "data = torch.tensor(encode(text), dtype=torch.long)\n",
        "\n",
        "n = int(0.9 * len(data))\n",
        "train_data = data[:n]\n",
        "val_data = data[n:]"
      ],
      "metadata": {
        "id": "4_O99CTaHYN1"
      },
      "execution_count": 8,
      "outputs": []
    },
    {
      "cell_type": "code",
      "source": [
        "print(f\"Vocabulary consist of: {chars}\")\n",
        "print(f\"Vocab size is: {len(chars)}\")\n",
        "print(f\"Train data has the length: {len(train_data)}\")\n",
        "print(f\"Val data has the length: {len(val_data)}\")"
      ],
      "metadata": {
        "colab": {
          "base_uri": "https://localhost:8080/"
        },
        "id": "vltdGCCULdNi",
        "outputId": "e6b81b66-1bc2-475d-e476-06bb921ecf6a"
      },
      "execution_count": 9,
      "outputs": [
        {
          "output_type": "stream",
          "name": "stdout",
          "text": [
            "Vocabulary consist of: ['\\n', ' ', '!', '\"', \"'\", '(', ')', ',', '-', '.', '0', '1', '2', '3', '4', '5', '6', '7', '8', '9', ':', ';', '?', 'A', 'B', 'C', 'D', 'E', 'F', 'G', 'H', 'I', 'J', 'K', 'L', 'M', 'N', 'O', 'P', 'Q', 'R', 'S', 'T', 'U', 'V', 'W', 'X', 'Y', 'Z', 'a', 'b', 'c', 'd', 'e', 'f', 'g', 'h', 'i', 'j', 'k', 'l', 'm', 'n', 'o', 'p', 'q', 'r', 's', 't', 'u', 'v', 'w', 'x', 'y', 'z']\n",
            "Vocab size is: 75\n",
            "Train data has the length: 159940475\n",
            "Val data has the length: 17771164\n"
          ]
        }
      ]
    },
    {
      "cell_type": "code",
      "source": [
        "def apply_rope(q, k):\n",
        "    # q, k: (B, n_head, T, head_size), where head_size must be even\n",
        "    B, nh, T, hs = q.shape\n",
        "    assert hs % 2 == 0, \"head_size must be even for RoPE\"\n",
        "    half = hs // 2\n",
        "\n",
        "    freqs = torch.exp(-torch.arange(0, half, dtype=torch.float32) * math.log(10000) / half).to(q.device)  # (half,)\n",
        "    positions = torch.arange(T, device=q.device).float()  # (T,)\n",
        "    angles = torch.einsum('t,d->td', positions, freqs)  # (T, half)\n",
        "    sin = angles.sin().unsqueeze(0).unsqueeze(0)  # (1, 1, T, half)\n",
        "    cos = angles.cos().unsqueeze(0).unsqueeze(0)  # (1, 1, T, half)\n",
        "\n",
        "    q1, q2 = q[..., :half], q[..., half:]\n",
        "    k1, k2 = k[..., :half], k[..., half:]\n",
        "    q_rotated = torch.cat([q1 * cos - q2 * sin, q1 * sin + q2 * cos], dim=-1)\n",
        "    k_rotated = torch.cat([k1 * cos - k2 * sin, k1 * sin + k2 * cos], dim=-1)\n",
        "    return q_rotated, k_rotated\n",
        "\n",
        "\n",
        "batch_size = 16\n",
        "block_size = 32\n",
        "max_iters = 5000\n",
        "eval_interval = 100\n",
        "learning_rate = 1e-3\n",
        "device = 'cuda' if torch.cuda.is_available() else 'cpu'\n",
        "eval_iters = 200\n",
        "n_embd = 64\n",
        "n_head = 4\n",
        "n_layer = 4\n",
        "dropout = 0.0\n",
        "\n",
        "torch.manual_seed(1337)\n",
        "\n",
        "\n",
        "@torch.no_grad()\n",
        "def estimate_loss():\n",
        "    out = {}\n",
        "    model.eval()\n",
        "    for split in ['train', 'val']:\n",
        "        losses = torch.zeros(eval_iters)\n",
        "        for k in range(eval_iters):\n",
        "            X, Y = get_batch(split)\n",
        "            logits, loss = model(X, Y)\n",
        "            losses[k] = loss.item()\n",
        "        out[split] = losses.mean()\n",
        "    model.train()\n",
        "    return out\n",
        "\n",
        "def get_batch(split):\n",
        "    # generate a small batch of data of inputs x and targets y\n",
        "    data = train_data if split == 'train' else val_data\n",
        "    ix = torch.randint(len(data) - block_size, (batch_size,))\n",
        "    x = torch.stack([data[i:i+block_size] for i in ix])\n",
        "    y = torch.stack([data[i+1:i+block_size+1] for i in ix])\n",
        "    x, y = x.to(device), y.to(device)\n",
        "    return x, y"
      ],
      "metadata": {
        "id": "VOm0jXYSHhPj"
      },
      "execution_count": 10,
      "outputs": []
    },
    {
      "cell_type": "code",
      "source": [
        "class MultiHeadAttention(nn.Module):\n",
        "    \"\"\"Multiple heads of self-attention in parallel.\"\"\"\n",
        "\n",
        "    def __init__(self, n_embd, num_heads, dropout):\n",
        "        super().__init__()\n",
        "        assert n_embd % num_heads == 0\n",
        "        self.n_head = num_heads\n",
        "        self.head_size = n_embd // num_heads\n",
        "        self.dropout = nn.Dropout(dropout)\n",
        "\n",
        "        # Linear projections for q, k, v (combined head projection)\n",
        "        self.key = nn.Linear(n_embd, n_embd, bias=False)\n",
        "        self.query = nn.Linear(n_embd, n_embd, bias=False)\n",
        "        self.value = nn.Linear(n_embd, n_embd, bias=False)\n",
        "\n",
        "        # Final projection layer\n",
        "        self.proj = nn.Linear(n_embd, n_embd)\n",
        "\n",
        "    def forward(self, x):\n",
        "        B, T, C = x.shape  # (batch, time, channels)\n",
        "\n",
        "        # Project and reshape into multiple heads\n",
        "        k = self.key(x).view(B, T, self.n_head, self.head_size).transpose(1, 2)  # (B, nh, T, hs)\n",
        "        q = self.query(x).view(B, T, self.n_head, self.head_size).transpose(1, 2)  # (B, nh, T, hs)\n",
        "        v = self.value(x).view(B, T, self.n_head, self.head_size).transpose(1, 2)  # (B, nh, T, hs)\n",
        "\n",
        "        # Apply Rotary Positional Embedding if available\n",
        "        q, k = apply_rope(q, k)\n",
        "\n",
        "        # Compute attention weights\n",
        "        wei = q @ k.transpose(-2, -1) * (self.head_size ** -0.5)  # (B, nh, T, T)\n",
        "\n",
        "        # Mask to prevent attending to future tokens (causal attention)\n",
        "        mask = torch.tril(torch.ones(T, T, device=x.device)).unsqueeze(0).unsqueeze(0)  # (1, 1, T, T)\n",
        "        wei = wei.masked_fill(mask == 0, float('-inf'))\n",
        "\n",
        "        wei = F.softmax(wei, dim=-1)\n",
        "        wei = self.dropout(wei)\n",
        "\n",
        "        # Weighted sum of values\n",
        "        out = wei @ v  # (B, nh, T, hs)\n",
        "        out = out.transpose(1, 2).contiguous().view(B, T, C)  # reassemble heads (B, T, C)\n",
        "        out = self.dropout(self.proj(out))\n",
        "        return out\n",
        "\n",
        "\n",
        "\n",
        "class FeedFoward(nn.Module):\n",
        "    \"\"\" a simple linear layer followed by a non-linearity \"\"\"\n",
        "\n",
        "    def __init__(self, n_embd):\n",
        "        super().__init__()\n",
        "        self.net = nn.Sequential(\n",
        "            nn.Linear(n_embd, 4 * n_embd),\n",
        "            nn.ReLU(),\n",
        "            nn.Linear(4 * n_embd, n_embd),\n",
        "            nn.Dropout(dropout),\n",
        "        )\n",
        "\n",
        "    def forward(self, x):\n",
        "        return self.net(x)\n",
        "\n",
        "class Block(nn.Module):\n",
        "    \"\"\" Transformer block: communication followed by computation \"\"\"\n",
        "\n",
        "    def __init__(self, n_embd, n_head):\n",
        "        # n_embd: embedding dimension, n_head: the number of heads we'd like\n",
        "        super().__init__()\n",
        "        head_size = n_embd // n_head\n",
        "        self.sa = MultiHeadAttention(n_embd, n_head, dropout)\n",
        "        self.ffwd = FeedFoward(n_embd)\n",
        "        self.ln1 = nn.LayerNorm(n_embd)\n",
        "        self.ln2 = nn.LayerNorm(n_embd)\n",
        "\n",
        "    def forward(self, x):\n",
        "        x = x + self.sa(self.ln1(x))\n",
        "        x = x + self.ffwd(self.ln2(x))\n",
        "        return x"
      ],
      "metadata": {
        "id": "82xlKK0mHwf6"
      },
      "execution_count": 11,
      "outputs": []
    },
    {
      "cell_type": "code",
      "source": [
        "class GPTLanguageModelRoPE(nn.Module):\n",
        "\n",
        "    def __init__(self):\n",
        "        super().__init__()\n",
        "        # each token directly reads off the logits for the next token from a lookup table\n",
        "        self.token_embedding_table = nn.Embedding(vocab_size, n_embd)\n",
        "        self.blocks = nn.Sequential(*[Block(n_embd, n_head=n_head) for _ in range(n_layer)])\n",
        "        self.ln_f = nn.LayerNorm(n_embd) # final layer norm\n",
        "        self.lm_head = nn.Linear(n_embd, vocab_size)\n",
        "\n",
        "        # better init, not covered in the original GPT video, but important, will cover in followup video\n",
        "        self.apply(self._init_weights)\n",
        "\n",
        "    def _init_weights(self, module):\n",
        "        if isinstance(module, nn.Linear):\n",
        "            torch.nn.init.normal_(module.weight, mean=0.0, std=0.02)\n",
        "            if module.bias is not None:\n",
        "                torch.nn.init.zeros_(module.bias)\n",
        "        elif isinstance(module, nn.Embedding):\n",
        "            torch.nn.init.normal_(module.weight, mean=0.0, std=0.02)\n",
        "\n",
        "    def forward(self, idx, targets=None):\n",
        "        B, T = idx.shape\n",
        "\n",
        "        # idx and targets are both (B,T) tensor of integers\n",
        "        tok_emb = self.token_embedding_table(idx) # (B,T,C)\n",
        "        x = self.blocks(tok_emb) # (B,T,C)\n",
        "        x = self.ln_f(x) # (B,T,C)\n",
        "        logits = self.lm_head(x) # (B,T,vocab_size)\n",
        "\n",
        "        if targets is None:\n",
        "            loss = None\n",
        "        else:\n",
        "            B, T, C = logits.shape\n",
        "            logits = logits.view(B*T, C)\n",
        "            targets = targets.view(B*T)\n",
        "            loss = F.cross_entropy(logits, targets)\n",
        "\n",
        "        return logits, loss\n",
        "\n",
        "    def generate(self, idx, max_new_tokens):\n",
        "        # idx is (B, T) array of indices in the current context\n",
        "        for _ in range(max_new_tokens):\n",
        "            # crop idx to the last block_size tokens\n",
        "            idx_cond = idx[:, -block_size:]\n",
        "            # get the predictions\n",
        "            logits, loss = self(idx_cond)\n",
        "            # focus only on the last time step\n",
        "            logits = logits[:, -1, :] # becomes (B, C)\n",
        "            # apply softmax to get probabilities\n",
        "            probs = F.softmax(logits, dim=-1) # (B, C)\n",
        "            # sample from the distribution\n",
        "            idx_next = torch.multinomial(probs, num_samples=1) # (B, 1)\n",
        "            # append sampled index to the running sequence\n",
        "            idx = torch.cat((idx, idx_next), dim=1) # (B, T+1)\n",
        "        return idx\n",
        "\n",
        "model = GPTLanguageModelRoPE()\n",
        "m = model.to(device)\n",
        "# print the number of parameters in the model\n",
        "print(sum(p.numel() for p in m.parameters())/1e6, 'M parameters')"
      ],
      "metadata": {
        "colab": {
          "base_uri": "https://localhost:8080/"
        },
        "id": "0VauxwsGHxtF",
        "outputId": "24068939-d6aa-497c-e187-1fdb1733ec0f"
      },
      "execution_count": 12,
      "outputs": [
        {
          "output_type": "stream",
          "name": "stdout",
          "text": [
            "0.208971 M parameters\n"
          ]
        }
      ]
    },
    {
      "cell_type": "code",
      "source": [
        "optimizer = torch.optim.AdamW(model.parameters(), lr=learning_rate)"
      ],
      "metadata": {
        "id": "BLzGkzGsILMv"
      },
      "execution_count": 13,
      "outputs": []
    },
    {
      "cell_type": "code",
      "source": [
        "for iter in range(max_iters):\n",
        "    # every once in a while evaluate the loss on train and val sets\n",
        "    if iter % eval_interval == 0 or iter == max_iters - 1:\n",
        "        losses = estimate_loss()\n",
        "        print(f\"step {iter}: train loss {losses['train']:.4f}, val loss {losses['val']:.4f}\")\n",
        "\n",
        "    # sample a batch of data\n",
        "    xb, yb = get_batch('train')\n",
        "\n",
        "    # evaluate the loss\n",
        "    logits, loss = model(xb, yb)\n",
        "    optimizer.zero_grad(set_to_none=True)\n",
        "    loss.backward()\n",
        "    optimizer.step()"
      ],
      "metadata": {
        "colab": {
          "base_uri": "https://localhost:8080/"
        },
        "id": "WUwmPiJjIJxs",
        "outputId": "da90cc2c-c6d2-495c-8381-5690c1ad84b3"
      },
      "execution_count": 14,
      "outputs": [
        {
          "output_type": "stream",
          "name": "stdout",
          "text": [
            "step 0: train loss 4.3262, val loss 4.3259\n",
            "step 100: train loss 2.6360, val loss 2.6590\n",
            "step 200: train loss 2.4641, val loss 2.4916\n",
            "step 300: train loss 2.3647, val loss 2.3981\n",
            "step 400: train loss 2.3200, val loss 2.3402\n",
            "step 500: train loss 2.2674, val loss 2.2997\n",
            "step 600: train loss 2.2309, val loss 2.2727\n",
            "step 700: train loss 2.2038, val loss 2.2280\n",
            "step 800: train loss 2.1683, val loss 2.1945\n",
            "step 900: train loss 2.1619, val loss 2.1852\n",
            "step 1000: train loss 2.1206, val loss 2.1434\n",
            "step 1100: train loss 2.1090, val loss 2.1316\n",
            "step 1200: train loss 2.0691, val loss 2.1206\n",
            "step 1300: train loss 2.0726, val loss 2.1034\n",
            "step 1400: train loss 2.0648, val loss 2.0812\n",
            "step 1500: train loss 2.0210, val loss 2.0782\n",
            "step 1600: train loss 2.0231, val loss 2.0434\n",
            "step 1700: train loss 2.0079, val loss 2.0309\n",
            "step 1800: train loss 1.9946, val loss 2.0181\n",
            "step 1900: train loss 1.9890, val loss 2.0007\n",
            "step 2000: train loss 1.9621, val loss 2.0110\n",
            "step 2100: train loss 1.9742, val loss 2.0088\n",
            "step 2200: train loss 1.9468, val loss 1.9813\n",
            "step 2300: train loss 1.9489, val loss 1.9868\n",
            "step 2400: train loss 1.9286, val loss 1.9619\n",
            "step 2500: train loss 1.9264, val loss 1.9467\n",
            "step 2600: train loss 1.9288, val loss 1.9545\n",
            "step 2700: train loss 1.9143, val loss 1.9482\n",
            "step 2800: train loss 1.9207, val loss 1.9272\n",
            "step 2900: train loss 1.9256, val loss 1.9294\n",
            "step 3000: train loss 1.8852, val loss 1.9191\n",
            "step 3100: train loss 1.8922, val loss 1.9134\n",
            "step 3200: train loss 1.8702, val loss 1.9037\n",
            "step 3300: train loss 1.8747, val loss 1.9006\n",
            "step 3400: train loss 1.8656, val loss 1.8934\n",
            "step 3500: train loss 1.8496, val loss 1.8961\n",
            "step 3600: train loss 1.8609, val loss 1.8764\n",
            "step 3700: train loss 1.8728, val loss 1.8980\n",
            "step 3800: train loss 1.8566, val loss 1.8737\n",
            "step 3900: train loss 1.8465, val loss 1.8744\n",
            "step 4000: train loss 1.8593, val loss 1.8892\n",
            "step 4100: train loss 1.8471, val loss 1.8679\n",
            "step 4200: train loss 1.8324, val loss 1.8660\n",
            "step 4300: train loss 1.8272, val loss 1.8676\n",
            "step 4400: train loss 1.8319, val loss 1.8681\n",
            "step 4500: train loss 1.8271, val loss 1.8561\n",
            "step 4600: train loss 1.8106, val loss 1.8509\n",
            "step 4700: train loss 1.8201, val loss 1.8510\n",
            "step 4800: train loss 1.8328, val loss 1.8514\n",
            "step 4900: train loss 1.8165, val loss 1.8529\n",
            "step 4999: train loss 1.8187, val loss 1.8349\n"
          ]
        }
      ]
    },
    {
      "cell_type": "code",
      "source": [
        "# generate from the model\n",
        "context = torch.zeros((1, 1), dtype=torch.long, device=device)\n",
        "print(decode(m.generate(context, max_new_tokens=500)[0].tolist()))"
      ],
      "metadata": {
        "colab": {
          "base_uri": "https://localhost:8080/"
        },
        "id": "IZ93vTyTH4Ja",
        "outputId": "d10d3af7-ad12-4597-ec6a-60ca7b59460d"
      },
      "execution_count": 15,
      "outputs": [
        {
          "output_type": "stream",
          "name": "stdout",
          "text": [
            "\n",
            "\n",
            "\n",
            "The Haverom (mergs Estilorin\n",
            "\n",
            "The ware people, to place and both way to the mantens-owne TN.\n",
            "\n",
            "Prenummer Fournataiss, opeactiveen't, wells we stal the born metice and the univerg:\n",
            "\n",
            "Sukel Airstangla factor-wrote winnible sar brough the Sharor Kium distable on the Fakian wearman way games iment artangue Morya Grourflis.\n",
            "\n",
            "In 1980)\". Bair to the monest.\n",
            "\n",
            "Orner \n",
            "\n",
            "Than coldhank 3 it11.\n",
            "\n",
            "A Mertal was \"liver\".\n",
            "\n",
            "Syvery 20 American Arrika!shums.\n",
            "\n",
            "Asten. Be present in Jetu Actarton Guo Hhortic, Soconsy. S\n"
          ]
        }
      ]
    },
    {
      "cell_type": "markdown",
      "source": [
        "#fine tune the model with new dataset and lower learning rate!\n"
      ],
      "metadata": {
        "id": "GpM5H6DxNzrE"
      }
    },
    {
      "cell_type": "code",
      "source": [
        "## LOAD DATA Tiny shakespear\n",
        "!wget https://raw.githubusercontent.com/karpathy/char-rnn/master/data/tinyshakespeare/input.txt\n",
        "\n",
        "\n",
        "with open('input.txt', 'r', encoding='utf-8') as f:\n",
        "    tiny_shapespeare_txt = f.read()\n",
        "\n",
        "text = clean_english(tiny_shapespeare_txt)\n",
        "assert len(set(tiny_shapespeare_txt)) <= 75"
      ],
      "metadata": {
        "colab": {
          "base_uri": "https://localhost:8080/"
        },
        "id": "sjGbrxAvNj9b",
        "outputId": "0a206214-d28a-4c91-811e-b89c5eec6ba1"
      },
      "execution_count": 20,
      "outputs": [
        {
          "output_type": "stream",
          "name": "stdout",
          "text": [
            "--2025-08-06 12:42:57--  https://raw.githubusercontent.com/karpathy/char-rnn/master/data/tinyshakespeare/input.txt\n",
            "Resolving raw.githubusercontent.com (raw.githubusercontent.com)... 185.199.108.133, 185.199.109.133, 185.199.110.133, ...\n",
            "Connecting to raw.githubusercontent.com (raw.githubusercontent.com)|185.199.108.133|:443... connected.\n",
            "HTTP request sent, awaiting response... 200 OK\n",
            "Length: 1115394 (1.1M) [text/plain]\n",
            "Saving to: ‘input.txt.4’\n",
            "\n",
            "\rinput.txt.4           0%[                    ]       0  --.-KB/s               \rinput.txt.4         100%[===================>]   1.06M  --.-KB/s    in 0.007s  \n",
            "\n",
            "2025-08-06 12:42:57 (151 MB/s) - ‘input.txt.4’ saved [1115394/1115394]\n",
            "\n"
          ]
        }
      ]
    },
    {
      "cell_type": "code",
      "source": [
        "data = torch.tensor(encode(text), dtype=torch.long)\n",
        "\n",
        "n = int(0.9 * len(data))\n",
        "train_data = data[:n]\n",
        "val_data = data[n:]"
      ],
      "metadata": {
        "id": "vpBCPszVZAe0"
      },
      "execution_count": 21,
      "outputs": []
    },
    {
      "cell_type": "code",
      "source": [
        "learning_rate = 1e-5\n",
        "optimizer = torch.optim.AdamW(model.parameters(), lr=learning_rate)"
      ],
      "metadata": {
        "id": "plbQuQGoN7or"
      },
      "execution_count": 22,
      "outputs": []
    },
    {
      "cell_type": "code",
      "source": [
        "for iter in range(max_iters):\n",
        "\n",
        "    # every once in a while evaluate the loss on train and val sets\n",
        "    if iter % eval_interval == 0 or iter == max_iters - 1:\n",
        "        losses = estimate_loss()\n",
        "        print(f\"step {iter}: train loss {losses['train']:.4f}, val loss {losses['val']:.4f}\")\n",
        "\n",
        "    # sample a batch of data\n",
        "    xb, yb = get_batch('train')\n",
        "\n",
        "    # evaluate the loss\n",
        "    logits, loss = model(xb, yb)\n",
        "    optimizer.zero_grad(set_to_none=True)\n",
        "    loss.backward()\n",
        "    optimizer.step()"
      ],
      "metadata": {
        "colab": {
          "base_uri": "https://localhost:8080/"
        },
        "id": "JU7X4b81OWOx",
        "outputId": "e01a9fc6-992b-4f87-b5e1-47aed9369c02"
      },
      "execution_count": 23,
      "outputs": [
        {
          "output_type": "stream",
          "name": "stdout",
          "text": [
            "step 0: train loss 2.4924, val loss 2.5525\n",
            "step 100: train loss 2.3691, val loss 2.4368\n",
            "step 200: train loss 2.2976, val loss 2.3547\n",
            "step 300: train loss 2.2471, val loss 2.3178\n",
            "step 400: train loss 2.2028, val loss 2.2821\n",
            "step 500: train loss 2.1756, val loss 2.2531\n",
            "step 600: train loss 2.1630, val loss 2.2216\n",
            "step 700: train loss 2.1394, val loss 2.1993\n",
            "step 800: train loss 2.1147, val loss 2.1815\n",
            "step 900: train loss 2.1019, val loss 2.1633\n",
            "step 1000: train loss 2.0891, val loss 2.1471\n",
            "step 1100: train loss 2.0767, val loss 2.1402\n",
            "step 1200: train loss 2.0663, val loss 2.1275\n",
            "step 1300: train loss 2.0613, val loss 2.1160\n",
            "step 1400: train loss 2.0408, val loss 2.1063\n",
            "step 1500: train loss 2.0321, val loss 2.0874\n",
            "step 1600: train loss 2.0323, val loss 2.0852\n",
            "step 1700: train loss 2.0231, val loss 2.0849\n",
            "step 1800: train loss 2.0179, val loss 2.0746\n",
            "step 1900: train loss 2.0069, val loss 2.0621\n",
            "step 2000: train loss 1.9940, val loss 2.0572\n",
            "step 2100: train loss 1.9918, val loss 2.0499\n",
            "step 2200: train loss 1.9896, val loss 2.0457\n",
            "step 2300: train loss 1.9870, val loss 2.0463\n",
            "step 2400: train loss 1.9819, val loss 2.0347\n",
            "step 2500: train loss 1.9742, val loss 2.0273\n",
            "step 2600: train loss 1.9698, val loss 2.0233\n",
            "step 2700: train loss 1.9600, val loss 2.0161\n",
            "step 2800: train loss 1.9650, val loss 2.0158\n",
            "step 2900: train loss 1.9546, val loss 2.0201\n",
            "step 3000: train loss 1.9484, val loss 2.0001\n",
            "step 3100: train loss 1.9488, val loss 1.9935\n",
            "step 3200: train loss 1.9343, val loss 1.9946\n",
            "step 3300: train loss 1.9331, val loss 1.9982\n",
            "step 3400: train loss 1.9375, val loss 1.9985\n",
            "step 3500: train loss 1.9254, val loss 1.9915\n",
            "step 3600: train loss 1.9317, val loss 1.9865\n",
            "step 3700: train loss 1.9251, val loss 1.9720\n",
            "step 3800: train loss 1.9185, val loss 1.9815\n",
            "step 3900: train loss 1.9146, val loss 1.9872\n",
            "step 4000: train loss 1.9105, val loss 1.9819\n",
            "step 4100: train loss 1.9145, val loss 1.9673\n",
            "step 4200: train loss 1.9117, val loss 1.9643\n",
            "step 4300: train loss 1.8962, val loss 1.9665\n",
            "step 4400: train loss 1.8963, val loss 1.9673\n",
            "step 4500: train loss 1.9045, val loss 1.9657\n",
            "step 4600: train loss 1.8965, val loss 1.9753\n",
            "step 4700: train loss 1.9011, val loss 1.9605\n",
            "step 4800: train loss 1.8976, val loss 1.9617\n",
            "step 4900: train loss 1.8895, val loss 1.9494\n",
            "step 4999: train loss 1.8802, val loss 1.9464\n"
          ]
        }
      ]
    },
    {
      "cell_type": "code",
      "source": [
        "# generate from the model\n",
        "context = torch.zeros((1, 1), dtype=torch.long, device=device)\n",
        "print(decode(m.generate(context, max_new_tokens=500)[0].tolist()))"
      ],
      "metadata": {
        "id": "P4Vs7PAhaDuX",
        "outputId": "60e94b69-2c60-4de5-f324-f084caee8908",
        "colab": {
          "base_uri": "https://localhost:8080/"
        }
      },
      "execution_count": 24,
      "outputs": [
        {
          "output_type": "stream",
          "name": "stdout",
          "text": [
            "\n",
            "Curclest at chioched,\n",
            "Sees. To cate on word letter rittern,\n",
            "Of them most not be mut be mone;\n",
            "Eversion of footal plositi-chined invended markunes place suckles.\n",
            "But To granke ence, from Anger is a resigned to be Burshister;\n",
            "virasadatage,\n",
            "A take's verence\n",
            "As Platers, missime the commor a not of groups at priancy. Ills along, and me kelebronn as well's meded my retocate thee wonsking\n",
            "And this could that your won my founden, which fare:\n",
            "Goday\n",
            "Fear trough how rutchmist, Bylander\n",
            "\n",
            "Nother! goe appeave \n"
          ]
        }
      ]
    }
  ]
}